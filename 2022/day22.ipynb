{
 "cells": [
  {
   "cell_type": "code",
   "execution_count": 1,
   "id": "a3410369-bb92-4d0b-a16b-522de175a067",
   "metadata": {},
   "outputs": [],
   "source": [
    "import re\n",
    "\n",
    "def load_map_and_commands():\n",
    "    with open('input22.txt') as csvfile:\n",
    "        map_and_commands = [[c for c in line] for line in csvfile.readlines()]\n",
    "        max_monkey_map_row_size = max(len(row[:-1]) for row in map_and_commands[:-2])\n",
    "        monkey_map = [row[:-1] + [' ']*(max_monkey_map_row_size-len(row[:-1])) for row in map_and_commands[:-2]]\n",
    "    commands = [(int(x), y) for x, y in zip(re.findall('(\\d+)', ''.join(map_and_commands[-1])), re.findall('([R|L])', ''.join(map_and_commands[-1])) + ['E'])]\n",
    "    return monkey_map, commands"
   ]
  },
  {
   "cell_type": "code",
   "execution_count": 2,
   "id": "9a4dec28-9550-4cbe-a697-abdbe85bb772",
   "metadata": {},
   "outputs": [],
   "source": [
    "def find_box(box, length_face_edge, i, j):\n",
    "    return box[(i//length_face_edge)%len(box)][(j//length_face_edge)%len(box[0])]"
   ]
  },
  {
   "cell_type": "code",
   "execution_count": 3,
   "id": "2352388f-40d5-4bbf-b750-01bd7071b974",
   "metadata": {},
   "outputs": [],
   "source": [
    "def find_box_coordinates(box, length_face_edge, box_number):\n",
    "    for i in range(4):\n",
    "        for j in range(4):\n",
    "            if find_box(box, length_face_edge, i*length_face_edge, j*length_face_edge) == box_number:\n",
    "                return [i*length_face_edge, j*length_face_edge]"
   ]
  },
  {
   "cell_type": "code",
   "execution_count": 4,
   "id": "80e28d5a-554f-4d64-80a1-f11f0c41927d",
   "metadata": {},
   "outputs": [],
   "source": [
    "def update_table(table, i, direction):\n",
    "    clockwise_directions = ['R', 'D', 'L', 'U']\n",
    "    direction_idx = clockwise_directions.index(direction)\n",
    "    first_option = clockwise_directions[(direction_idx-1) % len(clockwise_directions)]\n",
    "    second_option = clockwise_directions[(direction_idx+1) % len(clockwise_directions)]\n",
    "   \n",
    "    if table[i][direction][1] == 0:\n",
    "        first_option_quadrant, second_option_quadrant = table[i][first_option], table[i][second_option]\n",
    "        if first_option_quadrant[1] != 0:\n",
    "            new_direction = clockwise_directions[(direction_idx - first_option_quadrant[0]//90) % len(clockwise_directions)]\n",
    "            direction_first_option_quadrant = table[first_option_quadrant[1]][new_direction]\n",
    "            if direction_first_option_quadrant[1] != 0:\n",
    "                table[i][direction] = ((first_option_quadrant[0]+direction_first_option_quadrant[0]+90)%360, direction_first_option_quadrant[1])\n",
    "        elif second_option_quadrant[1] != 0:\n",
    "            new_direction = clockwise_directions[(direction_idx - second_option_quadrant[0]//90) % len(clockwise_directions)]\n",
    "            direction_second_option_quadrant = table[second_option_quadrant[1]][new_direction]\n",
    "            if direction_second_option_quadrant[1] != 0:\n",
    "                table[i][direction] = ((second_option_quadrant[0]+direction_second_option_quadrant[0]-90%360), direction_second_option_quadrant[1])\n",
    "                \n",
    "    return table"
   ]
  },
  {
   "cell_type": "code",
   "execution_count": 5,
   "id": "9d6f18d4-7c8d-475d-99c1-befaf6023d44",
   "metadata": {},
   "outputs": [],
   "source": [
    "def check_collision(monkey_map, next_position, next_direction):\n",
    "    cell = monkey_map[next_position[0] % len(monkey_map)][next_position[1] % len(monkey_map[0])]\n",
    "    if  cell == '#':\n",
    "        return True\n",
    "    #elif cell == '.':\n",
    "    elif cell == '.' or cell in ['U', 'R', 'D', 'L']:\n",
    "        monkey_map[next_position[0] % len(monkey_map)][next_position[1] % len(monkey_map[0])] = next_direction\n",
    "        return False\n",
    "    else:\n",
    "        return None"
   ]
  },
  {
   "cell_type": "code",
   "execution_count": 6,
   "id": "b060fb32-23e0-47a0-87b9-98ab7d854c10",
   "metadata": {},
   "outputs": [],
   "source": [
    "def next_direction(current_direction, angle):\n",
    "    clockwise_directions = ['R', 'D', 'L', 'U']\n",
    "    return clockwise_directions[(clockwise_directions.index(current_direction) - angle//90) % len(clockwise_directions)]"
   ]
  },
  {
   "cell_type": "code",
   "execution_count": 7,
   "id": "bf745c41-cb64-4765-bea0-97fc99f3ffa9",
   "metadata": {},
   "outputs": [],
   "source": [
    "def walk_one_step_3d(current_position, current_direction, table = None, box = None, length_face_edge = None):\n",
    "    next_position = current_position[:]\n",
    "    if current_direction in ['D', 'U']:\n",
    "        next_position[0] += 1 if current_direction == 'D' else -1\n",
    "    else:\n",
    "        next_position[1] += 1 if current_direction == 'R' else -1\n",
    "\n",
    "    possible_next_box = find_box(box, length_face_edge, next_position[0], next_position[1])\n",
    "    current_box = find_box(box, length_face_edge, current_position[0], current_position[1])\n",
    "\n",
    "    if possible_next_box != current_box:\n",
    "        angle, real_next_box = table[current_box][current_direction]\n",
    "        \n",
    "        current_box_coordinates = find_box_coordinates(box, length_face_edge, current_box)\n",
    "        next_box_coordinates = find_box_coordinates(box, length_face_edge, real_next_box)\n",
    "   \n",
    "        y_min, y_max = next_box_coordinates[0], next_box_coordinates[0]+length_face_edge-1\n",
    "        x_min, x_max = next_box_coordinates[1], next_box_coordinates[1]+length_face_edge-1\n",
    "        y_relative, x_relative = (current_position[0] % length_face_edge), (current_position[1] % length_face_edge)\n",
    "        y_absolute, x_absolute = y_min + y_relative, x_min + x_relative\n",
    "        \n",
    "        if angle == 0:\n",
    "            if current_direction == 'U': \n",
    "                next_position = [y_max, x_absolute]\n",
    "            elif current_direction == 'D':\n",
    "                next_position = [y_min, x_absolute]\n",
    "            elif current_direction == 'R':\n",
    "                next_position = [y_absolute, x_min]\n",
    "            elif current_direction == 'L':\n",
    "                next_position = [y_absolute, x_max]\n",
    "        elif angle in [180, -180]:\n",
    "            if current_direction == 'U': \n",
    "                next_position = [y_min, x_max-x_relative]\n",
    "            elif current_direction == 'D':\n",
    "                next_position = [y_max, x_max-x_relative]\n",
    "            elif current_direction == 'R':\n",
    "                next_position = [y_max-y_relative, x_max]\n",
    "            elif current_direction == 'L':\n",
    "                next_position = [y_max-y_relative, x_min]\n",
    "        elif angle in [90, -270]:\n",
    "            if current_direction == 'U': \n",
    "                next_position = [y_max-x_relative, x_max]\n",
    "            elif current_direction == 'D':\n",
    "                next_position = [y_max-x_relative, x_min]\n",
    "            elif current_direction == 'R':\n",
    "                next_position = [y_max, x_min+y_relative]\n",
    "            elif current_direction == 'L':\n",
    "                next_position = [y_min, x_min+y_relative]\n",
    "        elif angle in [-90, 270]:\n",
    "            if current_direction == 'U': \n",
    "                next_position = [y_min+x_relative, x_min]\n",
    "            elif current_direction == 'D':\n",
    "                next_position = [y_min+x_relative, x_max]\n",
    "            elif current_direction == 'R':\n",
    "                next_position = [y_min, x_max-y_relative]\n",
    "            elif current_direction == 'L':\n",
    "                next_position = [y_max, x_max-y_relative]\n",
    "        return next_position, next_direction(current_direction, angle)\n",
    "    else:\n",
    "        return next_position, current_direction"
   ]
  },
  {
   "cell_type": "code",
   "execution_count": 8,
   "id": "5c2f9384-97b2-4971-8419-ac143b171f07",
   "metadata": {},
   "outputs": [],
   "source": [
    "def walk_one_step_2d(current_position, current_direction):\n",
    "    next_position = current_position[:]\n",
    "    if current_direction in ['D', 'U']:\n",
    "        next_position[0] += 1 if current_direction == 'D' else -1\n",
    "    else:\n",
    "        next_position[1] += 1 if current_direction == 'R' else -1\n",
    "    return next_position, current_direction"
   ]
  },
  {
   "cell_type": "code",
   "execution_count": 9,
   "id": "969b8746-469c-4723-b73c-aa87c4d74b77",
   "metadata": {},
   "outputs": [],
   "source": [
    "def walk_one_step(current_position, current_direction, table = None, box = None, length_face_edge = None):\n",
    "    if table is not None:\n",
    "        return walk_one_step_3d(current_position, current_direction, table, box, length_face_edge)\n",
    "    else:\n",
    "        return walk_one_step_2d(current_position, current_direction)"
   ]
  },
  {
   "cell_type": "code",
   "execution_count": 10,
   "id": "646d336b-0feb-4ec9-88a6-7a84d23474dc",
   "metadata": {},
   "outputs": [],
   "source": [
    "def one_walk(monkey_map, current_position, current_direction, n_steps, table = None, box = None, length_face_edge = None):\n",
    "    for _ in range(n_steps):\n",
    "        next_position, next_direction = walk_one_step(current_position, current_direction, table, box, length_face_edge)\n",
    "        while (check_collision(monkey_map, next_position, next_direction) is None):\n",
    "            next_position, next_direction = walk_one_step(next_position, next_direction, table, box, length_face_edge)\n",
    "        if check_collision(monkey_map, next_position, next_direction):\n",
    "            return current_position, current_direction\n",
    "        current_position, current_direction = next_position, next_direction\n",
    "    return current_position, current_direction"
   ]
  },
  {
   "cell_type": "code",
   "execution_count": 11,
   "id": "c4ef91f0-9813-4bbd-b7b2-bfcdb3588eae",
   "metadata": {},
   "outputs": [],
   "source": [
    "def walk(monkey_map, commands, table = None, box = None, length_face_edge = None):\n",
    "    current_position = [0, monkey_map[0].index('.')]\n",
    "    current_direction = 'R'\n",
    "\n",
    "    for command in commands:\n",
    "        current_position, current_direction = one_walk(monkey_map, current_position, current_direction, command[0], table, box, length_face_edge)\n",
    "        current_direction = next_direction(current_direction, -90 if command[1] == 'R' else +90 if command[1] == 'L' else 0)\n",
    "    \n",
    "    return current_position, current_direction"
   ]
  },
  {
   "cell_type": "code",
   "execution_count": 12,
   "id": "700660e4-da69-45bd-b94a-5688fbc33ac6",
   "metadata": {},
   "outputs": [],
   "source": [
    "def password(monkey_map, position, direction):\n",
    "    map_facing_to_int = {'R': 0, 'D': 1, 'L': 2, 'U': 3}\n",
    "    return 1_000 * ((position[0] % len(monkey_map)) + 1) + 4*((position[1] % len(monkey_map[0])) + 1) + (map_facing_to_int[direction])"
   ]
  },
  {
   "cell_type": "markdown",
   "id": "f9fad073-26c9-48ad-b4c7-499dca720c86",
   "metadata": {},
   "source": [
    "Part 01"
   ]
  },
  {
   "cell_type": "code",
   "execution_count": 13,
   "id": "adb1704b-0d70-48bf-ac99-bfb8b198db5d",
   "metadata": {},
   "outputs": [
    {
     "data": {
      "text/plain": [
       "3590"
      ]
     },
     "execution_count": 13,
     "metadata": {},
     "output_type": "execute_result"
    }
   ],
   "source": [
    "monkey_map, commands = load_map_and_commands()\n",
    "position, direction = walk(monkey_map, commands)\n",
    "answer = password(monkey_map, position, direction)\n",
    "answer"
   ]
  },
  {
   "cell_type": "markdown",
   "id": "0e3f77e4-e6d5-41ca-81f0-fa04264f9dd9",
   "metadata": {},
   "source": [
    "Part 02"
   ]
  },
  {
   "cell_type": "code",
   "execution_count": 14,
   "id": "de920143-9f17-4f3b-a815-eafd879fb9ca",
   "metadata": {},
   "outputs": [],
   "source": [
    "monkey_map, commands = load_map_and_commands()\n",
    "\n",
    "length_face_edge = int((sum(row.count('#') + row.count('.') for row in monkey_map) / 6)**0.5)\n",
    "row_faces, column_faces = (len(monkey_map) // length_face_edge, len(monkey_map[0]) // length_face_edge) if len(monkey_map) % 3 else (len(monkey_map) // length_face_edge, len(monkey_map[0]) // length_face_edge)\n",
    "\n",
    "quadrant = 1\n",
    "box = [[None for _ in range(4)] for _ in range(4)]\n",
    "for i in range(4):\n",
    "    for j in range(4):\n",
    "        if i < row_faces and j < column_faces and monkey_map[i*length_face_edge][j*length_face_edge] != ' ':\n",
    "            box[i][j] = quadrant\n",
    "            quadrant+=1\n",
    "        else:\n",
    "            box[i][j] = 0\n",
    "            \n",
    "table = {}\n",
    "for i in range(4):\n",
    "    for j in range(4):\n",
    "        if box[i][j] != 0:\n",
    "            table[box[i][j]] = {'U': (0, box[(i-1) % len(box)][j]), \\\n",
    "                                'D': (0, box[(i+1) % len(box)][j]), \\\n",
    "                                'L': (0, box[i][(j-1) % len(box[i])]), \\\n",
    "                                'R': (0, box[i][(j+1) % len(box[i])])}\n",
    "            \n",
    "for _ in range(3):\n",
    "    for i in range(1, quadrant):\n",
    "        for direction in ['U', 'R', 'D', 'L']:\n",
    "            table = update_table(table, i, direction)"
   ]
  },
  {
   "cell_type": "code",
   "execution_count": 15,
   "id": "ce502ca5-9d78-40ad-9e9f-348f192437c2",
   "metadata": {},
   "outputs": [
    {
     "data": {
      "text/plain": [
       "86382"
      ]
     },
     "execution_count": 15,
     "metadata": {},
     "output_type": "execute_result"
    }
   ],
   "source": [
    "position, direction = walk(monkey_map, commands, table, box, length_face_edge)\n",
    "answer = password(monkey_map, position, direction)\n",
    "answer"
   ]
  }
 ],
 "metadata": {
  "kernelspec": {
   "display_name": "Python 3 (ipykernel)",
   "language": "python",
   "name": "python3"
  },
  "language_info": {
   "codemirror_mode": {
    "name": "ipython",
    "version": 3
   },
   "file_extension": ".py",
   "mimetype": "text/x-python",
   "name": "python",
   "nbconvert_exporter": "python",
   "pygments_lexer": "ipython3",
   "version": "3.8.12"
  }
 },
 "nbformat": 4,
 "nbformat_minor": 5
}
