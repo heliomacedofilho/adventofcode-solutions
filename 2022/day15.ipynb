{
 "cells": [
  {
   "cell_type": "code",
   "execution_count": 1,
   "id": "048c34bf-5fd6-437f-ab58-1cee77be40ab",
   "metadata": {},
   "outputs": [],
   "source": [
    "import re"
   ]
  },
  {
   "cell_type": "code",
   "execution_count": 2,
   "id": "1b887152-f1fd-412f-911b-45d6ff88c74a",
   "metadata": {},
   "outputs": [],
   "source": [
    "with open('input15.txt') as csvfile:\n",
    "    sensors_beacons = [[int(x) for x in re.findall('(-?\\d+)', x.strip())] for x in csvfile.readlines()]"
   ]
  },
  {
   "cell_type": "code",
   "execution_count": 3,
   "id": "e8d09551-2de1-40e5-b475-d63bd23afb14",
   "metadata": {},
   "outputs": [],
   "source": [
    "def manhattan_distance(x, y):\n",
    "    return abs(x[0]-y[0]) + abs(x[1]-y[1])"
   ]
  },
  {
   "cell_type": "code",
   "execution_count": 4,
   "id": "cc204249-dcdb-4287-a1ba-a41ca60415a0",
   "metadata": {},
   "outputs": [],
   "source": [
    "def sensor_beacon_split(sensor_beacon):\n",
    "    return sensor_beacon[1::-1], sensor_beacon[4:1:-1]"
   ]
  },
  {
   "cell_type": "code",
   "execution_count": 5,
   "id": "13d6448b-1157-4fc7-b666-241c314a2719",
   "metadata": {},
   "outputs": [],
   "source": [
    "raw_sensors = [sensor_beacon_split(sensor_beacon)[0] for sensor_beacon in sensors_beacons]\n",
    "raw_beacons = [sensor_beacon_split(sensor_beacon)[1] for sensor_beacon in sensors_beacons]\n",
    "\n",
    "max_manhattan_distance = max([manhattan_distance(raw_sensor, raw_beacon) for raw_sensor, raw_beacon in zip(raw_sensors, raw_beacons)])\n",
    "\n",
    "min_y = min([element[0] for element in raw_sensors + raw_beacons]) - max_manhattan_distance\n",
    "max_y = max([element[0] for element in raw_sensors + raw_beacons]) + max_manhattan_distance\n",
    "min_x = min([element[1] for element in raw_sensors + raw_beacons]) - max_manhattan_distance\n",
    "max_x = max([element[1] for element in raw_sensors + raw_beacons]) + max_manhattan_distance"
   ]
  },
  {
   "cell_type": "code",
   "execution_count": 6,
   "id": "cd193a42-9fb0-4462-bf2f-fa4a473764da",
   "metadata": {},
   "outputs": [],
   "source": [
    "original_sensors = {}\n",
    "original_beacons = set()\n",
    "for raw_sensor, raw_beacon in zip(raw_sensors, raw_beacons):\n",
    "    original_sensors[tuple(raw_sensor)] = manhattan_distance(raw_sensor, raw_beacon)\n",
    "    original_beacons.add(tuple(raw_beacon))"
   ]
  },
  {
   "cell_type": "code",
   "execution_count": 7,
   "id": "769174e6-9eb2-4adb-833c-ee0fe229144e",
   "metadata": {},
   "outputs": [],
   "source": [
    "def create_matrix(sensors, beacons, x_limit = [min_x, max_x], y_limit = [min_y, max_y]):\n",
    "    matrix = []\n",
    "    for i in range (y_limit[0], y_limit[1]+1):\n",
    "        row = []\n",
    "        for j in range (x_limit[0], x_limit[1]+1):\n",
    "            if (i, j) in sensors:\n",
    "                row.append('S')\n",
    "            elif (i, j) in beacons:\n",
    "                row.append('B')\n",
    "            else:\n",
    "                row.append('.')\n",
    "        matrix.append(row)\n",
    "    return matrix\n",
    "\n",
    "def fill_matrix(matrix, sensors):\n",
    "    for sensor, distance in sensors.items():\n",
    "        for i in range(max(sensor[0]-distance, 0), min(sensor[0]+distance+1, len(matrix))):\n",
    "            for j in range(max(sensor[1]-distance, 0), min(sensor[1]+distance+1, len(matrix[0]))):\n",
    "                if manhattan_distance((i, j), sensor) <= distance and matrix[i][j] == '.':\n",
    "                    matrix[i][j] = '#'\n",
    "    return matrix\n",
    "\n",
    "def change_coordinate_system(sensors, x_limit = [min_x, max_x], y_limit = [min_y, max_y]):\n",
    "    sensors_new_coordinates = {}\n",
    "\n",
    "    for sensor_old_coordinate, distance in sensors.items():\n",
    "        sensor_new_coordinate = (sensor_old_coordinate[0]-y_limit[0], sensor_old_coordinate[1]-x_limit[0])\n",
    "        sensors_new_coordinates[sensor_new_coordinate] = distance\n",
    "        \n",
    "    return sensors_new_coordinates"
   ]
  },
  {
   "cell_type": "markdown",
   "id": "cb07ab8c-5ed7-4e5d-bb1b-a2c7c8a3ec1c",
   "metadata": {},
   "source": [
    "Part 01"
   ]
  },
  {
   "cell_type": "code",
   "execution_count": 8,
   "id": "6fb20719-51d3-4daf-aa27-425363d2ef1a",
   "metadata": {},
   "outputs": [],
   "source": [
    "# y_limit = [10, 10]\n",
    "y_limit = [2000000, 2000000]"
   ]
  },
  {
   "cell_type": "code",
   "execution_count": 9,
   "id": "a84e1020-6eb6-43c6-827a-6ffd78c37b8b",
   "metadata": {},
   "outputs": [
    {
     "data": {
      "text/plain": [
       "4502208"
      ]
     },
     "execution_count": 9,
     "metadata": {},
     "output_type": "execute_result"
    }
   ],
   "source": [
    "\n",
    "matrix = create_matrix(original_sensors, original_beacons, y_limit = y_limit)\n",
    "updated_sensors = change_coordinate_system(original_sensors, y_limit = y_limit)\n",
    "matrix = fill_matrix(matrix, updated_sensors)\n",
    "answer = matrix[0].count('#')\n",
    "answer"
   ]
  },
  {
   "cell_type": "markdown",
   "id": "7719b84b-7c4e-4daf-b5c9-fb760d46b806",
   "metadata": {},
   "source": [
    "Part 02"
   ]
  },
  {
   "cell_type": "code",
   "execution_count": 10,
   "id": "13980dcf-1fbb-4987-b761-c5160e31dc5c",
   "metadata": {},
   "outputs": [],
   "source": [
    "# x_limit = [0, 20]\n",
    "# y_limit = [0, 20]\n",
    "x_limit = [0, 4000000]\n",
    "y_limit = [0, 4000000]"
   ]
  },
  {
   "cell_type": "code",
   "execution_count": 11,
   "id": "8b81e8e2-1694-4f79-8153-fe8a4a45f938",
   "metadata": {},
   "outputs": [],
   "source": [
    "def distress_beacon_position(sensors, x_limit, y_limit):\n",
    "    for current_sensor, current_sensor_distance in sensors.items():\n",
    "        not_covered_perimeter = []\n",
    "        j = 0\n",
    "        for i in range(current_sensor[0]-current_sensor_distance-1, current_sensor[0]+current_sensor_distance+2):\n",
    "            not_covered_perimeter.append((i, current_sensor[1]+j))\n",
    "            not_covered_perimeter.append((i, current_sensor[1]-j))\n",
    "            j+= 1 if i < current_sensor[0] else -1\n",
    "\n",
    "        for cell in not_covered_perimeter:\n",
    "            if cell[0] in range(y_limit[0], y_limit[1]+1) and cell[1] in range(x_limit[0], x_limit[1]+1):\n",
    "                if all([manhattan_distance(cell, other_sensor) > other_sensor_distance for other_sensor, other_sensor_distance in sensors.items() if current_sensor != other_sensor]):\n",
    "                    return cell\n",
    "\n",
    "def tuning_frequency(position):\n",
    "    return 4000000*position[1]+position[0]"
   ]
  },
  {
   "cell_type": "code",
   "execution_count": 12,
   "id": "14f29d89-3c09-4dc1-ba15-bb7e56a258fc",
   "metadata": {},
   "outputs": [
    {
     "data": {
      "text/plain": [
       "13784551204480"
      ]
     },
     "execution_count": 12,
     "metadata": {},
     "output_type": "execute_result"
    }
   ],
   "source": [
    "tuning_frequency(distress_beacon_position(original_sensors, x_limit, y_limit))"
   ]
  }
 ],
 "metadata": {
  "kernelspec": {
   "display_name": "Python 3 (ipykernel)",
   "language": "python",
   "name": "python3"
  },
  "language_info": {
   "codemirror_mode": {
    "name": "ipython",
    "version": 3
   },
   "file_extension": ".py",
   "mimetype": "text/x-python",
   "name": "python",
   "nbconvert_exporter": "python",
   "pygments_lexer": "ipython3",
   "version": "3.8.12"
  }
 },
 "nbformat": 4,
 "nbformat_minor": 5
}
