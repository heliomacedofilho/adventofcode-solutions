{
 "cells": [
  {
   "cell_type": "markdown",
   "id": "cdfeccee-75e7-4ec2-a67f-34acde49acc2",
   "metadata": {},
   "source": [
    "Part 01"
   ]
  },
  {
   "cell_type": "code",
   "execution_count": 1,
   "id": "85f14c34-52ca-4234-9aa0-34981d2a0e14",
   "metadata": {},
   "outputs": [],
   "source": [
    "import re\n",
    "with open('input10.txt') as file:\n",
    "    register = [1]\n",
    "    for x in file.readlines():\n",
    "        register.append(register[-1])\n",
    "        if x.strip() != 'noop':\n",
    "            register.append(register[-1] + int(re.findall('^addx (-?\\d+)$', x.strip())[0]))\n",
    "    file.close()"
   ]
  },
  {
   "cell_type": "code",
   "execution_count": 2,
   "id": "50538572-2992-4fb5-8538-619d9182cf91",
   "metadata": {},
   "outputs": [
    {
     "data": {
      "text/plain": [
       "15260"
      ]
     },
     "execution_count": 2,
     "metadata": {},
     "output_type": "execute_result"
    }
   ],
   "source": [
    "sum([i*register[i-1] for i in range(20, len(register), +40)])"
   ]
  },
  {
   "cell_type": "markdown",
   "id": "dd68ff08-ae19-4e05-a60f-cbba2eb7ee1a",
   "metadata": {},
   "source": [
    "Part 02"
   ]
  },
  {
   "cell_type": "code",
   "execution_count": 3,
   "id": "db098419-e608-4f94-90c3-26685f6f05cf",
   "metadata": {},
   "outputs": [],
   "source": [
    "crt = [[None for j in range(40)] for i in range(6)]\n",
    "\n",
    "for cycle in range(len(register)-1):\n",
    "    crt[cycle//40][cycle%40] = '██' if cycle%40 in range(register[cycle]-1, register[cycle]+2) else '  '"
   ]
  },
  {
   "cell_type": "code",
   "execution_count": 4,
   "id": "ae8c5916-9e47-4408-b885-054a84bb6ef0",
   "metadata": {},
   "outputs": [
    {
     "name": "stdout",
     "output_type": "stream",
     "text": [
      "██████      ████    ██    ██  ████████    ████    ██        ██    ██    ████    \n",
      "██    ██  ██    ██  ██    ██  ██        ██    ██  ██        ██    ██  ██    ██  \n",
      "██    ██  ██        ████████  ██████    ██        ██        ██    ██  ██        \n",
      "██████    ██  ████  ██    ██  ██        ██  ████  ██        ██    ██  ██  ████  \n",
      "██        ██    ██  ██    ██  ██        ██    ██  ██        ██    ██  ██    ██  \n",
      "██          ██████  ██    ██  ██          ██████  ████████    ████      ██████  \n"
     ]
    }
   ],
   "source": [
    "for row in crt:\n",
    "    print(''.join(row))"
   ]
  }
 ],
 "metadata": {
  "kernelspec": {
   "display_name": "Python 3 (ipykernel)",
   "language": "python",
   "name": "python3"
  },
  "language_info": {
   "codemirror_mode": {
    "name": "ipython",
    "version": 3
   },
   "file_extension": ".py",
   "mimetype": "text/x-python",
   "name": "python",
   "nbconvert_exporter": "python",
   "pygments_lexer": "ipython3",
   "version": "3.8.12"
  }
 },
 "nbformat": 4,
 "nbformat_minor": 5
}
