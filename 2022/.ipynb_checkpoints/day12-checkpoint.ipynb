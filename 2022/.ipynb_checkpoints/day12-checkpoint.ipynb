{
 "cells": [
  {
   "cell_type": "code",
   "execution_count": 1,
   "id": "de5288cb-c6fd-48ad-8915-a1bd95ebee4b",
   "metadata": {},
   "outputs": [],
   "source": [
    "a_poss = []\n",
    "S_pos = None\n",
    "E_pos = None\n",
    "\n",
    "with open('input12.csv', mode='r') as csvfile:\n",
    "    matrix = [[y for y in x.strip()] for x in csvfile.readlines()]\n",
    "    \n",
    "    for i in range(len(matrix)):\n",
    "        for j in range(len(matrix[0])):\n",
    "            if matrix[i][j] == 'S':\n",
    "                S_pos = (i, j)\n",
    "                a_poss.append((i, j))\n",
    "                matrix[i][j] = ord('a')\n",
    "            elif matrix[i][j] == 'E':\n",
    "                E_pos = (i, j)\n",
    "                matrix[i][j] = ord('z')\n",
    "            else:\n",
    "                if matrix[i][j] == 'a': a_poss.append((i, j))\n",
    "                matrix[i][j] = ord(matrix[i][j])"
   ]
  },
  {
   "cell_type": "code",
   "execution_count": 2,
   "id": "06899aa2-6341-4e14-b03a-f7b7d987f5a5",
   "metadata": {},
   "outputs": [],
   "source": [
    "def BFS(matrix, S_pos, E_pos):\n",
    "    \n",
    "    table = {}\n",
    "    table[(S_pos[0], S_pos[1])] = 0\n",
    "    \n",
    "    queue = []\n",
    "    queue.append((S_pos[0], S_pos[1]))\n",
    "    \n",
    "    while queue:\n",
    "        i, j = queue.pop(0)\n",
    "        step = table[(i, j)]\n",
    "        \n",
    "        if E_pos[0] == i and E_pos[1] == j:\n",
    "            return step\n",
    "        \n",
    "        if i > 0:\n",
    "            if (i-1, j) not in table:\n",
    "                if matrix[i-1][j] - matrix[i][j] <= 1:\n",
    "                    queue.append((i-1, j))\n",
    "                    table[(i-1, j)] = step+1\n",
    "\n",
    "        if i < len(matrix)-1:\n",
    "            if (i+1, j) not in table:\n",
    "                if matrix[i+1][j] - matrix[i][j] <= 1:\n",
    "                    queue.append((i+1, j))\n",
    "                    table[(i+1, j)] = step+1\n",
    "\n",
    "        if j > 0:\n",
    "            if (i, j-1) not in table:\n",
    "                if matrix[i][j-1] - matrix[i][j] <= 1:\n",
    "                    queue.append((i, j-1))\n",
    "                    table[(i, j-1)] = step+1\n",
    "\n",
    "        if j < len(matrix[0])-1:\n",
    "            if (i, j+1) not in table:\n",
    "                if matrix[i][j+1] - matrix[i][j] <= 1:\n",
    "                    queue.append((i, j+1))\n",
    "                    table[(i, j+1)] = step+1\n",
    "\n",
    "    return -1 #could not reach E_pos"
   ]
  },
  {
   "cell_type": "code",
   "execution_count": 3,
   "id": "e2fb0100-981a-4d15-ad32-6dacc947feb6",
   "metadata": {},
   "outputs": [
    {
     "data": {
      "text/plain": [
       "520"
      ]
     },
     "execution_count": 3,
     "metadata": {},
     "output_type": "execute_result"
    }
   ],
   "source": [
    "BFS(matrix, S_pos, E_pos)"
   ]
  },
  {
   "cell_type": "markdown",
   "id": "da3a9329-46b9-4e3f-a325-e37eb7c7da9a",
   "metadata": {},
   "source": [
    "Part 02"
   ]
  },
  {
   "cell_type": "code",
   "execution_count": 4,
   "id": "8630bc5c-60da-4f9f-8aad-ca0f8a1372b3",
   "metadata": {},
   "outputs": [],
   "source": [
    "answer = []\n",
    "for a_pos in a_poss:\n",
    "    possible_answer = BFS(matrix, a_pos, E_pos)\n",
    "    if possible_answer != -1:\n",
    "        answer.append(possible_answer)"
   ]
  },
  {
   "cell_type": "code",
   "execution_count": 5,
   "id": "6ce8eaea-c093-45a8-87f5-d29b84bfa11f",
   "metadata": {},
   "outputs": [
    {
     "data": {
      "text/plain": [
       "508"
      ]
     },
     "execution_count": 5,
     "metadata": {},
     "output_type": "execute_result"
    }
   ],
   "source": [
    "sorted(answer)[0]"
   ]
  }
 ],
 "metadata": {
  "kernelspec": {
   "display_name": "Python 3 (ipykernel)",
   "language": "python",
   "name": "python3"
  },
  "language_info": {
   "codemirror_mode": {
    "name": "ipython",
    "version": 3
   },
   "file_extension": ".py",
   "mimetype": "text/x-python",
   "name": "python",
   "nbconvert_exporter": "python",
   "pygments_lexer": "ipython3",
   "version": "3.8.12"
  }
 },
 "nbformat": 4,
 "nbformat_minor": 5
}
