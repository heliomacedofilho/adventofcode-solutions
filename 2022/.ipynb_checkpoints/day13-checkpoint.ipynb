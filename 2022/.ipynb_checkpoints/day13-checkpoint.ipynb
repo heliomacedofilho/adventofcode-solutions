{
 "cells": [
  {
   "cell_type": "code",
   "execution_count": 1,
   "id": "d1f02f3d-f67a-4360-be53-41b216383038",
   "metadata": {},
   "outputs": [],
   "source": [
    "def str_to_int(list_as_str, idx):\n",
    "    idx_integer_start = idx\n",
    "    while (idx < len(list_as_str) and list_as_str[idx].isdigit()):\n",
    "        idx+=1\n",
    "    idx_integer_end = idx\n",
    "    return int(list_as_str[idx_integer_start:idx_integer_end]), idx\n",
    "\n",
    "def str_to_list(list_as_str, idx=0):\n",
    "    answer = []\n",
    "    idx+=1\n",
    "    \n",
    "    while (idx < len(list_as_str)):\n",
    "        current_char = list_as_str[idx]\n",
    "        if current_char == '[':\n",
    "            new_list_element, idx = str_to_list(list_as_str, idx)\n",
    "            answer.append(new_list_element)\n",
    "            idx+=1\n",
    "        elif current_char.isdigit():\n",
    "            new_int_element, idx = str_to_int(list_as_str, idx)\n",
    "            breakpoint()\n",
    "            answer.append(new_int_element)\n",
    "        elif current_char == ',':\n",
    "            idx+=1\n",
    "        elif current_char == ']':\n",
    "            return answer, idx\n",
    "\n",
    "def packets(str_packets):\n",
    "    list_packets = []\n",
    "    for str_packet in str_packets:\n",
    "        if str_packet == '':\n",
    "            continue\n",
    "        else:\n",
    "            list_packet, _ = str_to_list(str_packet)\n",
    "            list_packets.append(list_packet)\n",
    "    return list_packets"
   ]
  },
  {
   "cell_type": "code",
   "execution_count": 2,
   "id": "e8fe082e-40bf-4439-ad86-d1dce080fbfa",
   "metadata": {},
   "outputs": [],
   "source": [
    "with open('input13.csv') as csvfile:\n",
    "    list_packets = packets([line.strip() for line in csvfile.readlines()])"
   ]
  },
  {
   "cell_type": "code",
   "execution_count": 3,
   "id": "f3c0017a-7a97-47c3-8122-25f34c203ae5",
   "metadata": {},
   "outputs": [],
   "source": [
    "def compare_packets(list1, list2, idx=0):\n",
    "    if idx == len(list1) and idx == len(list2):\n",
    "        return 0\n",
    "    elif idx == len(list1):\n",
    "        return -1\n",
    "    elif idx == len(list2):\n",
    "        return +1\n",
    "    else:\n",
    "        if type(list1[idx]) == int and type(list2[idx]) == int:\n",
    "            if list1[idx] < list2[idx]:\n",
    "                return -1\n",
    "            elif list1[idx] > list2[idx]:\n",
    "                return +1\n",
    "            else:\n",
    "                return compare_packets(list1, list2, idx+1)\n",
    "        elif type(list1[idx]) == list and type(list2[idx]) == list:\n",
    "            packets_compared = compare_packets(list1[idx], list2[idx], 0)\n",
    "            if packets_compared == 0:\n",
    "                return compare_packets(list1, list2, idx+1)\n",
    "            else:\n",
    "                return packets_compared\n",
    "        else:\n",
    "            if type(list1[idx]) == int:\n",
    "                new_list1 = list1[:]\n",
    "                new_list1[idx] = [new_list1[idx]]\n",
    "                return compare_packets(new_list1, list2, idx)\n",
    "            else:\n",
    "                new_list2 = list2[:]\n",
    "                new_list2[idx] = [new_list2[idx]]\n",
    "                return compare_packets(list1, new_list2, idx)"
   ]
  },
  {
   "cell_type": "code",
   "execution_count": 4,
   "id": "59775264-c4b2-4aa7-8512-fc155ae90c8b",
   "metadata": {},
   "outputs": [
    {
     "data": {
      "text/plain": [
       "6623"
      ]
     },
     "execution_count": 4,
     "metadata": {},
     "output_type": "execute_result"
    }
   ],
   "source": [
    "answer = 0\n",
    "for i in range(0, len(list_packets), +2):\n",
    "    if compare_packets(list_packets[i], list_packets[i+1]) == -1:\n",
    "        answer += 1 + i//2\n",
    "answer"
   ]
  },
  {
   "cell_type": "markdown",
   "id": "9e2944be-f669-4260-aa2d-c6f29588f8de",
   "metadata": {},
   "source": [
    "Part 02"
   ]
  },
  {
   "cell_type": "code",
   "execution_count": 5,
   "id": "2aa96b68-2314-42e8-b4b9-13da47cf6ce3",
   "metadata": {},
   "outputs": [
    {
     "data": {
      "text/plain": [
       "23049"
      ]
     },
     "execution_count": 5,
     "metadata": {},
     "output_type": "execute_result"
    }
   ],
   "source": [
    "from functools import cmp_to_key\n",
    "\n",
    "divider_packets = [[[2]], [[6]]]\n",
    "list_packets_sorted = sorted(list_packets + divider_packets, key=cmp_to_key(compare_packets))\n",
    "\n",
    "answer = 1\n",
    "for idx, packet in enumerate(list_packets_sorted):\n",
    "    for divider_packet in divider_packets:\n",
    "        if compare_packets(packet, divider_packet) == 0:\n",
    "            answer *= (idx+1)\n",
    "answer"
   ]
  }
 ],
 "metadata": {
  "kernelspec": {
   "display_name": "Python 3 (ipykernel)",
   "language": "python",
   "name": "python3"
  },
  "language_info": {
   "codemirror_mode": {
    "name": "ipython",
    "version": 3
   },
   "file_extension": ".py",
   "mimetype": "text/x-python",
   "name": "python",
   "nbconvert_exporter": "python",
   "pygments_lexer": "ipython3",
   "version": "3.8.12"
  }
 },
 "nbformat": 4,
 "nbformat_minor": 5
}
