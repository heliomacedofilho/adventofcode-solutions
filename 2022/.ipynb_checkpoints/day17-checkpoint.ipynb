{
 "cells": [
  {
   "cell_type": "code",
   "execution_count": 1,
   "id": "55d53b66-fb0f-47de-9807-4ad3459be118",
   "metadata": {},
   "outputs": [],
   "source": [
    "with open('input17.csv') as csvfile:\n",
    "    winds = list(csvfile.readline().strip())"
   ]
  },
  {
   "cell_type": "code",
   "execution_count": 2,
   "id": "e4e335b6-9acf-4a33-bd40-ddaf4ee6a7c6",
   "metadata": {},
   "outputs": [],
   "source": [
    "rocks = {\n",
    "    0: [list('@@@@')],\n",
    "    1: [list(' @ '),list('@@@'), list(' @ ')],\n",
    "    2: [list('  @'), list('  @'), list('@@@')],\n",
    "    3: [list('@'), list('@'), list('@'), list('@')],\n",
    "    4: [list('@@'), list('@@')]\n",
    "}"
   ]
  },
  {
   "cell_type": "code",
   "execution_count": 3,
   "id": "49d53d36-f5db-4f87-ac9d-c3230ef61b4e",
   "metadata": {},
   "outputs": [],
   "source": [
    "def add_bottom(chamber_wide=7):\n",
    "    line = ['-' for _ in range(chamber_wide)]\n",
    "    return [line]\n",
    "\n",
    "def add_lines(n_lines, chamber_wide=7):\n",
    "    line = [' ' for _ in range(chamber_wide)]\n",
    "    return [line[:] for _ in range(n_lines)]\n",
    "\n",
    "def add_rock(rocks, iteration, distance_left_wall=2, chamber_wide=7):\n",
    "    rock = rocks[iteration % len(rocks)][:]\n",
    "    for i in range(len(rock)):\n",
    "        rock[i] = ([' ' for _ in range(distance_left_wall)] + rock[i] + [' ' for _ in range(chamber_wide - distance_left_wall - len(rock[i]))])[::-1]\n",
    "    return rock[::-1]"
   ]
  },
  {
   "cell_type": "code",
   "execution_count": 4,
   "id": "298b96cc-6b56-4863-a441-704fa631f1a5",
   "metadata": {},
   "outputs": [],
   "source": [
    "def line_horizontal_collision(line):\n",
    "    #direction will be '<' always\n",
    "    chamber_wide = len(line)\n",
    "    distance_left_chamber = line[::-1].index('@')\n",
    "    if not distance_left_chamber or any([line[j+1] == '#' for j in range(len(line)-1) if line[j] == '@']):\n",
    "        return True\n",
    "    else:\n",
    "        return False\n",
    "\n",
    "def move_line_horizontally(line):\n",
    "    #direction will be '<' always and collision was already verified\n",
    "    chamber_wide = len(line)\n",
    "    distance_left_chamber = line[::-1].index('@')\n",
    "    distance_right_chamber = line.index('@')\n",
    "    moved_line = line[0:distance_right_chamber] + [' '] + \\\n",
    "            line[distance_right_chamber:chamber_wide-distance_left_chamber] + \\\n",
    "            line[chamber_wide-distance_left_chamber+1:]\n",
    "    for i in range(len(line)):\n",
    "        line[i] = moved_line[i]\n",
    "\n",
    "def rock_horizontal_collision(lines):\n",
    "    chamber_wide = len(lines[0])\n",
    "    for line in lines:\n",
    "        if line_horizontal_collision(line):\n",
    "            return True\n",
    "    return False\n",
    "\n",
    "def move_rock_horizontally(lines, direction):\n",
    "    if direction == '<':\n",
    "        if not rock_horizontal_collision(lines):\n",
    "            for line in lines:\n",
    "                move_line_horizontally(line)\n",
    "\n",
    "    else:\n",
    "        reversed_lines = [line[::-1] for line in lines]\n",
    "        move_rock_horizontally(reversed_lines, '<')\n",
    "        moved_lines = [reversed_line[::-1] for reversed_line in reversed_lines]\n",
    "        \n",
    "        for i in range(len(lines)):\n",
    "            for j in range(len(lines[i])):\n",
    "                lines[i][j] = moved_lines[i][j]"
   ]
  },
  {
   "cell_type": "code",
   "execution_count": 5,
   "id": "1f2e1a76-25e9-421c-8ed6-1650d98e7616",
   "metadata": {},
   "outputs": [],
   "source": [
    "def check_vertical_collision(lines):\n",
    "    for i in range(len(lines)-1):\n",
    "        if any([lines[i][j] in ['#', '-'] for j in range(len(lines[i])) if lines[i+1][j] == '@']):\n",
    "            return True\n",
    "    return False\n",
    "\n",
    "def move_rock_vertically(lines):\n",
    "    for i in range(len(lines)-1):\n",
    "        for j in range(len(lines[i])):\n",
    "            if lines[i+1][j] == '@':\n",
    "                lines[i][j], lines[i+1][j] = lines[i+1][j], lines[i][j]\n",
    "\n",
    "def petrity_rock(lines):\n",
    "    for line in lines:\n",
    "        for i in range(len(line)):\n",
    "            line[i] = '#' if line[i] == '@' else line[i]"
   ]
  },
  {
   "cell_type": "code",
   "execution_count": 6,
   "id": "cf24d760-ed0f-4def-af5f-c9c13ae8c626",
   "metadata": {},
   "outputs": [],
   "source": [
    "def one_epoch(answer, wind_iteration = 0, rock_iteration = 0, bottom_distance = 3, chamber_wide = 7, distance_left_wall = 2):\n",
    "    #add 3 white lines\n",
    "    answer.extend(add_lines(bottom_distance))\n",
    "\n",
    "    #add rock\n",
    "    rock_height = len(answer)\n",
    "    answer.extend(add_rock(rocks, rock_iteration))\n",
    "    rock_height = len(answer) - rock_height\n",
    "    rock_iteration+=1\n",
    "\n",
    "    #run one epoch\n",
    "    current_rock_iteration = 0\n",
    "    collision = False\n",
    "    while (not collision):\n",
    "        horizontal_rock = answer[-rock_height-current_rock_iteration:-current_rock_iteration] if current_rock_iteration else answer[-rock_height:]\n",
    "        vertical_rock = answer[-rock_height-current_rock_iteration-1:-current_rock_iteration] if current_rock_iteration else answer[-rock_height-1:]\n",
    "        wind_direction = winds[wind_iteration%len(winds)]\n",
    "\n",
    "        move_rock_horizontally(horizontal_rock, wind_direction)\n",
    "        collision = check_vertical_collision(vertical_rock)\n",
    "        if collision:\n",
    "            petrity_rock(horizontal_rock)\n",
    "        else:\n",
    "            move_rock_vertically(vertical_rock)\n",
    "        wind_iteration+=1\n",
    "        current_rock_iteration +=1\n",
    "\n",
    "    #remove whitelines\n",
    "    white_lines = 0\n",
    "    while (''.join(answer[-1-white_lines]).count(' ') == chamber_wide):\n",
    "        white_lines+=1\n",
    "    for _ in range(white_lines):\n",
    "        answer.pop()\n",
    "\n",
    "    return answer, wind_iteration, rock_iteration"
   ]
  },
  {
   "cell_type": "code",
   "execution_count": 7,
   "id": "05962fd1-2b45-4b12-bb73-4a4de3e9c811",
   "metadata": {},
   "outputs": [],
   "source": [
    "def build_tower(answer, n_epochs):\n",
    "    wind_iteration = 0\n",
    "    rock_iteration = 0\n",
    "    for _ in range(n_epochs):\n",
    "        answer, wind_iteration, rock_iteration = one_epoch(answer, wind_iteration, rock_iteration)\n",
    "    return answer"
   ]
  },
  {
   "cell_type": "code",
   "execution_count": 8,
   "id": "95ca0884-2923-4e78-980a-c727011d5301",
   "metadata": {},
   "outputs": [],
   "source": [
    "def tower_size(tower):\n",
    "    return len(tower)-1"
   ]
  },
  {
   "cell_type": "markdown",
   "id": "e462e8cf-ef6d-4651-bf62-e766809ddcc4",
   "metadata": {},
   "source": [
    "Part 01"
   ]
  },
  {
   "cell_type": "code",
   "execution_count": 9,
   "id": "5c132820-0e09-4bd4-916f-6651c9d0c0a7",
   "metadata": {},
   "outputs": [
    {
     "data": {
      "text/plain": [
       "3209"
      ]
     },
     "execution_count": 9,
     "metadata": {},
     "output_type": "execute_result"
    }
   ],
   "source": [
    "answer = tower_size(build_tower(add_bottom(), 2022))\n",
    "answer"
   ]
  },
  {
   "cell_type": "markdown",
   "id": "a2844044-2047-4c40-8e4b-9e495f47fa31",
   "metadata": {},
   "source": [
    "Part 02"
   ]
  },
  {
   "cell_type": "code",
   "execution_count": 10,
   "id": "cff90809-8ae4-4030-86c0-e50ff2996ab0",
   "metadata": {},
   "outputs": [],
   "source": [
    "def compare_snapshots(first_snapshot, second_snapshot):\n",
    "    for i in range(len(first_snapshot)):\n",
    "        for j in range(len(first_snapshot[0])):\n",
    "            if first_snapshot[i][j] != second_snapshot[i][j]:\n",
    "                return False\n",
    "    return True"
   ]
  },
  {
   "cell_type": "code",
   "execution_count": 11,
   "id": "db23631d-b921-4c4a-934c-097fb391e928",
   "metadata": {},
   "outputs": [],
   "source": [
    "def find_tower_loop(snapshot_window_size = 25):\n",
    "    wind_iteration = 0\n",
    "    rock_iteration = 0\n",
    "    answer = add_bottom()\n",
    "\n",
    "    while (len(answer) <= snapshot_window_size):\n",
    "        answer, wind_iteration, rock_iteration = one_epoch(answer, wind_iteration, rock_iteration)\n",
    "\n",
    "    current_tower_size = tower_size(answer)\n",
    "\n",
    "    snapshots = []\n",
    "    snapshots.append((answer[-snapshot_window_size:][:], rock_iteration, current_tower_size))\n",
    "\n",
    "    while(True):\n",
    "        last_tower_size = current_tower_size\n",
    "        answer, wind_iteration, rock_iteration = one_epoch(answer, wind_iteration, rock_iteration)\n",
    "        current_tower_size = tower_size(answer)\n",
    "\n",
    "        if current_tower_size != last_tower_size:\n",
    "            snapshots.append((answer[-snapshot_window_size:][:], rock_iteration, current_tower_size))\n",
    "            for i in range(len(snapshots)-1):\n",
    "                if compare_snapshots(snapshots[-1][0], snapshots[i][0]):\n",
    "                    return snapshots[-1][1]-snapshots[i][1]"
   ]
  },
  {
   "cell_type": "code",
   "execution_count": 12,
   "id": "14f00a64-ae3e-421e-8a13-1ef1d278115c",
   "metadata": {},
   "outputs": [],
   "source": [
    "def estimate_height(n_rocks, divisor):\n",
    "    if n_rocks < 2*divisor:\n",
    "        return tower_size(build_tower(add_bottom(), n_rocks))\n",
    "    else:\n",
    "        remainder = n_rocks % divisor\n",
    "        first_height = tower_size(build_tower(add_bottom(), divisor + remainder))\n",
    "        second_height = tower_size(build_tower(add_bottom(), 2*divisor + remainder))\n",
    "\n",
    "        return (n_rocks//divisor - 1)*(second_height - first_height)+first_height"
   ]
  },
  {
   "cell_type": "code",
   "execution_count": 13,
   "id": "8a2a5755-d888-4c92-bc87-e167e3e0408b",
   "metadata": {},
   "outputs": [
    {
     "data": {
      "text/plain": [
       "1580758017509"
      ]
     },
     "execution_count": 13,
     "metadata": {},
     "output_type": "execute_result"
    }
   ],
   "source": [
    "answer = estimate_height(1_000_000_000_000, find_tower_loop())\n",
    "answer"
   ]
  },
  {
   "cell_type": "code",
   "execution_count": null,
   "id": "1543f04f-c492-472a-a480-e42701a49675",
   "metadata": {},
   "outputs": [],
   "source": []
  }
 ],
 "metadata": {
  "kernelspec": {
   "display_name": "Python 3 (ipykernel)",
   "language": "python",
   "name": "python3"
  },
  "language_info": {
   "codemirror_mode": {
    "name": "ipython",
    "version": 3
   },
   "file_extension": ".py",
   "mimetype": "text/x-python",
   "name": "python",
   "nbconvert_exporter": "python",
   "pygments_lexer": "ipython3",
   "version": "3.8.12"
  }
 },
 "nbformat": 4,
 "nbformat_minor": 5
}
