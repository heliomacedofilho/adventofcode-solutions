{
 "cells": [
  {
   "cell_type": "code",
   "execution_count": 1,
   "id": "1ee382f3-1063-4b25-939b-d62d90995314",
   "metadata": {},
   "outputs": [],
   "source": [
    "import re, operator\n",
    "def map_str_to_operator(op_str):\n",
    "    return operator.add if op_str == '+' else \\\n",
    "            operator.sub if op_str == '-' else \\\n",
    "            operator.mul if op_str == '*' else \\\n",
    "            operator.floordiv  if op_str == '/' else operator.eq\n",
    "\n",
    "def load_table():\n",
    "    with open('input21.csv') as csvfile:\n",
    "        monkey_registers = [re.search('(\\w+): (\\d+)', line.strip()) \\\n",
    "                            if line.strip().count(' ') == 1 else \\\n",
    "                            re.search('(\\w+): (\\w+)\\s([+|\\-|*|/])\\s(\\w+)', line.strip()) \\\n",
    "                            for line in csvfile.readlines()]\n",
    "        \n",
    "    return {monkey_register.group(1): \\\n",
    "            [int(monkey_register.group(2))] \\\n",
    "            if len(monkey_register.groups()) == 2 else \\\n",
    "            [monkey_register.group(2), \\\n",
    "             map_str_to_operator(monkey_register.group(3)), \\\n",
    "             monkey_register.group(4)] \\\n",
    "            for monkey_register in monkey_registers}"
   ]
  },
  {
   "cell_type": "markdown",
   "id": "a9cc50ab-8206-4808-9c49-457d918d3960",
   "metadata": {},
   "source": [
    "Part 01"
   ]
  },
  {
   "cell_type": "code",
   "execution_count": 2,
   "id": "d87b8850-8bc6-4038-b706-d230769ba7cd",
   "metadata": {},
   "outputs": [],
   "source": [
    "def number_monkey_yell(table, monkey, guess_humn=False):\n",
    "    if len(table[monkey]) == 1:\n",
    "        return None if guess_humn and monkey == 'humn' else table[monkey][0]\n",
    "    else:\n",
    "        left_term = number_monkey_yell(table, table[monkey][0], guess_humn)\n",
    "        right_term = number_monkey_yell(table, table[monkey][2], guess_humn)\n",
    "        if left_term is not None and right_term is not None:\n",
    "            result = table[monkey][1](left_term, right_term)\n",
    "            table[monkey] = [result]\n",
    "            return result\n",
    "        else:\n",
    "            if left_term is not None:\n",
    "                table[monkey] = [left_term, table[monkey][1], table[monkey][2]]\n",
    "            else:\n",
    "                table[monkey] = [table[monkey][0], table[monkey][1], right_term]\n",
    "            return None"
   ]
  },
  {
   "cell_type": "code",
   "execution_count": 3,
   "id": "25c24514-0d5d-40e9-ba65-1be4eec796e3",
   "metadata": {},
   "outputs": [
    {
     "data": {
      "text/plain": [
       "291425799367130"
      ]
     },
     "execution_count": 3,
     "metadata": {},
     "output_type": "execute_result"
    }
   ],
   "source": [
    "number_monkey_yell(load_table(), 'root', guess_humn=False)"
   ]
  },
  {
   "cell_type": "markdown",
   "id": "88c1c594-de6a-46a0-aa19-28a28151cfed",
   "metadata": {},
   "source": [
    "Part 02"
   ]
  },
  {
   "cell_type": "code",
   "execution_count": 4,
   "id": "95ae117a-f059-4124-85fa-6e9f3cef20a5",
   "metadata": {},
   "outputs": [],
   "source": [
    "def find_humn(table):    \n",
    "    def find_humn_helper(table, monkey, y):\n",
    "        register = table[monkey]\n",
    "        if len(register) == 1:\n",
    "            return y\n",
    "        else:\n",
    "            if register[1] == operator.mul:\n",
    "                return find_humn_helper(table, register[2], operator.floordiv(y,register[0])) \\\n",
    "                        if type(register[0]) == int else \\\n",
    "                        find_humn_helper(table, register[0], operator.floordiv(y,register[2]))\n",
    "            elif register[1] == operator.floordiv:\n",
    "                return find_humn_helper(table, register[2], operator.floordiv(register[0],y)) \\\n",
    "                        if type(register[0]) == int else \\\n",
    "                        find_humn_helper(table, register[0], operator.mul(y,register[2]))\n",
    "            elif register[1] == operator.add:\n",
    "                return find_humn_helper(table, register[2], operator.sub(y,register[0])) \\\n",
    "                        if type(register[0]) == int else \\\n",
    "                        find_humn_helper(table, register[0], operator.sub(y,register[2]))\n",
    "            elif register[1] == operator.sub:\n",
    "                return find_humn_helper(table, register[2],operator.add(-y,register[0])) \\\n",
    "                        if type(register[0]) == int else \\\n",
    "                        find_humn_helper(table, register[0], operator.add(y,register[2]))\n",
    "    \n",
    "    number_monkey_yell(table, 'root', guess_humn=True)\n",
    "    return find_humn_helper(table, table['root'][2], table['root'][0]) \\\n",
    "            if type(table['root'][0]) == int else \\\n",
    "            find_humn_helper(table, table['root'][0], table['root'][2])"
   ]
  },
  {
   "cell_type": "code",
   "execution_count": 5,
   "id": "d77013e1-9a98-46b8-9280-a054136f708f",
   "metadata": {},
   "outputs": [
    {
     "data": {
      "text/plain": [
       "3219579395609"
      ]
     },
     "execution_count": 5,
     "metadata": {},
     "output_type": "execute_result"
    }
   ],
   "source": [
    "find_humn(load_table())"
   ]
  }
 ],
 "metadata": {
  "kernelspec": {
   "display_name": "Python 3 (ipykernel)",
   "language": "python",
   "name": "python3"
  },
  "language_info": {
   "codemirror_mode": {
    "name": "ipython",
    "version": 3
   },
   "file_extension": ".py",
   "mimetype": "text/x-python",
   "name": "python",
   "nbconvert_exporter": "python",
   "pygments_lexer": "ipython3",
   "version": "3.8.12"
  }
 },
 "nbformat": 4,
 "nbformat_minor": 5
}
