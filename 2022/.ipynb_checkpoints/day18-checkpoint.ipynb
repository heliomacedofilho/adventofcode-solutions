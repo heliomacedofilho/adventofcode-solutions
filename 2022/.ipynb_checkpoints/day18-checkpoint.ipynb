{
 "cells": [
  {
   "cell_type": "code",
   "execution_count": 1,
   "id": "c2689611-eb39-4ba5-96b6-549a8ee2f618",
   "metadata": {},
   "outputs": [],
   "source": [
    "with open('input18.csv') as csvfile:\n",
    "    cubes = [[int(axis) for axis in line.strip().split(',')] for line in csvfile.readlines()]"
   ]
  },
  {
   "cell_type": "markdown",
   "id": "aec9ca39-69e0-43ca-902f-5cd156e75a86",
   "metadata": {},
   "source": [
    "Part 01"
   ]
  },
  {
   "cell_type": "code",
   "execution_count": 2,
   "id": "b9e42906-6238-4a48-a855-ed75ba1f9fa8",
   "metadata": {},
   "outputs": [],
   "source": [
    "def share_face(cube1, cube2, dimensions=3):\n",
    "    return sum([abs(cube1[dimension] - cube2[dimension]) for dimension in range(dimensions)]) == 1"
   ]
  },
  {
   "cell_type": "code",
   "execution_count": 3,
   "id": "1eceff6a-b7a9-4370-8763-c1b95902e441",
   "metadata": {},
   "outputs": [],
   "source": [
    "def not_shared_faces(cubes, dimensions=3):\n",
    "    return sum(2*dimensions for _ in cubes) - sum(sum(share_face(cube1, cube2) for cube1 in cubes) for cube2 in cubes)"
   ]
  },
  {
   "cell_type": "code",
   "execution_count": 4,
   "id": "a8b4e10f-552f-4faa-a70a-86c24c37e860",
   "metadata": {},
   "outputs": [
    {
     "data": {
      "text/plain": [
       "3564"
      ]
     },
     "execution_count": 4,
     "metadata": {},
     "output_type": "execute_result"
    }
   ],
   "source": [
    "answer = not_shared_faces(cubes)\n",
    "answer"
   ]
  },
  {
   "cell_type": "markdown",
   "id": "1091f1e6-18bc-490c-a2d1-2778f953e21c",
   "metadata": {},
   "source": [
    "Part 02"
   ]
  },
  {
   "cell_type": "code",
   "execution_count": 5,
   "id": "e75bf8ba-d957-40b7-81e9-22435bb04357",
   "metadata": {},
   "outputs": [],
   "source": [
    "with open('input18.csv') as csvfile:\n",
    "    cubes = set()\n",
    "    for line in csvfile.readlines():\n",
    "        cubes.add(tuple([int(axis) for axis in line.strip().split(',')]))        "
   ]
  },
  {
   "cell_type": "code",
   "execution_count": 6,
   "id": "664af16c-88c7-4d2d-aeee-47b627f7d6ae",
   "metadata": {},
   "outputs": [],
   "source": [
    "def external_surface(cubes):\n",
    "    def DFS(matrix):\n",
    "        surface = set()\n",
    "        visited = set()\n",
    "        queue = [(0,0,0,None)]\n",
    "        while queue:\n",
    "            x, y, z, direction = queue.pop()\n",
    "            if matrix[x][y][z] == 1:\n",
    "                surface.add((x, y, z, direction))\n",
    "            if (x, y, z) not in visited and matrix[x][y][z] == 0:\n",
    "                visited.add((x, y, z))\n",
    "                if x > 0:\n",
    "                    queue.append((x-1, y, z, 'right'))\n",
    "                if y > 0:\n",
    "                    queue.append((x, y-1, z, 'down'))\n",
    "                if z > 0:\n",
    "                    queue.append((x, y, z-1, 'back'))\n",
    "                if x < len(matrix) - 1:\n",
    "                    queue.append((x+1, y, z, 'left'))\n",
    "                if y < len(matrix[0]) - 1:\n",
    "                    queue.append((x, y+1, z, 'up'))\n",
    "                if z < len(matrix[0][0]) - 1:\n",
    "                    queue.append((x, y, z+1, 'front'))\n",
    "        return surface\n",
    "\n",
    "    fat = 1\n",
    "    x, y, z = [cube[0] for cube in cubes], [cube[1] for cube in cubes], [cube[2] for cube in cubes]\n",
    "    matrix = [[[1 if (i, j, k) in cubes else 0 for k in range(min(z)-fat, max(z)+1+fat)] for j in range(min(y)-fat, max(y)+1+fat)] for i in range(min(x)-fat, max(x)+1+fat)]\n",
    "    return DFS(matrix)"
   ]
  },
  {
   "cell_type": "code",
   "execution_count": 7,
   "id": "ed41b92e-0fa6-40e6-937b-dd1eb3406d16",
   "metadata": {},
   "outputs": [
    {
     "data": {
      "text/plain": [
       "2106"
      ]
     },
     "execution_count": 7,
     "metadata": {},
     "output_type": "execute_result"
    }
   ],
   "source": [
    "answer = len(external_surface(cubes))\n",
    "answer"
   ]
  }
 ],
 "metadata": {
  "kernelspec": {
   "display_name": "Python 3 (ipykernel)",
   "language": "python",
   "name": "python3"
  },
  "language_info": {
   "codemirror_mode": {
    "name": "ipython",
    "version": 3
   },
   "file_extension": ".py",
   "mimetype": "text/x-python",
   "name": "python",
   "nbconvert_exporter": "python",
   "pygments_lexer": "ipython3",
   "version": "3.8.12"
  }
 },
 "nbformat": 4,
 "nbformat_minor": 5
}
