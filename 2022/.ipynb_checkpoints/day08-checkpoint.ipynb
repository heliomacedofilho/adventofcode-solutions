{
 "cells": [
  {
   "cell_type": "code",
   "execution_count": 13,
   "id": "1ed78d6a-505f-4244-8741-540b5d3c7ce7",
   "metadata": {},
   "outputs": [
    {
     "name": "stdout",
     "output_type": "stream",
     "text": [
      "1818\n"
     ]
    }
   ],
   "source": [
    "#pure python, O(n) where n is the size of the matrix\n",
    "\n",
    "with open('input08.csv') as file:\n",
    "    matrix = [[int(y) for y in x.strip()] for x in file.readlines()]\n",
    "    file.close()\n",
    "    \n",
    "matrix_max = []\n",
    "for i in range(len(matrix)):\n",
    "    row = []\n",
    "    matrix_max.append(row)\n",
    "    for j in range(len(matrix[0])):\n",
    "        up  = max(matrix[i-1][j], matrix_max[i-1][j][0]) if i else matrix[i][j]\n",
    "        left = max(matrix[i][j-1], matrix_max[i][j-1][1]) if j else matrix[i][j]\n",
    "        row.append([up, left, None, None])\n",
    "\n",
    "for i in range(len(matrix) -1, -1, -1):\n",
    "    for j in range(len(matrix[0]) -1, -1, -1):\n",
    "        down  = max(matrix[i+1][j], matrix_max[i+1][j][2]) if i < len(matrix) -1 else matrix[i][j]\n",
    "        right = max(matrix[i][j+1], matrix_max[i][j+1][3]) if j < len(matrix[0]) -1 else matrix[i][j]\n",
    "        matrix_max[i][j] = [matrix_max[i][j][0], matrix_max[i][j][1], down, right]\n",
    "\n",
    "answer = 0\n",
    "for i in range(len(matrix)):\n",
    "    for j in range(len(matrix[0])):\n",
    "        if i == 0 or j == 0 or i == len(matrix) - 1 or j == len(matrix[0]) - 1 or matrix[i][j] > min(matrix_max[i][j]):\n",
    "            answer += 1 \n",
    "print(answer)"
   ]
  },
  {
   "cell_type": "markdown",
   "id": "487dc2b8-9b2a-4ed9-aa6b-f37a25be869a",
   "metadata": {},
   "source": [
    "Part 01"
   ]
  },
  {
   "cell_type": "code",
   "execution_count": 1,
   "id": "92787f90-9d50-4be1-ba72-d79410a1cf7a",
   "metadata": {},
   "outputs": [],
   "source": [
    "with open('input08.csv') as file:\n",
    "    matrix = [[int(y) for y in x.strip()] for x in file.readlines()]\n",
    "    file.close()"
   ]
  },
  {
   "cell_type": "code",
   "execution_count": 2,
   "id": "7f488a91-afce-4fd5-878d-2fd5256d12ed",
   "metadata": {},
   "outputs": [],
   "source": [
    "matrix_max = []\n",
    "for i in range(len(matrix)):\n",
    "    row = []\n",
    "    matrix_max.append(row)\n",
    "    for j in range(len(matrix[0])):\n",
    "        up  = max(matrix[i-1][j], matrix_max[i-1][j][0]) if i else matrix[i][j]\n",
    "        left = max(matrix[i][j-1], matrix_max[i][j-1][1]) if j else matrix[i][j]\n",
    "        row.append([up, left, None, None])\n",
    "\n",
    "for i in range(len(matrix) -1, -1, -1):\n",
    "    for j in range(len(matrix[0]) -1, -1, -1):\n",
    "        down  = max(matrix[i+1][j], matrix_max[i+1][j][2]) if i < len(matrix) -1 else matrix[i][j]\n",
    "        right = max(matrix[i][j+1], matrix_max[i][j+1][3]) if j < len(matrix[0]) -1 else matrix[i][j]\n",
    "        matrix_max[i][j] = [matrix_max[i][j][0], matrix_max[i][j][1], down, right]"
   ]
  },
  {
   "cell_type": "code",
   "execution_count": 3,
   "id": "267b4792-a348-42f1-96b7-f35a6968f98e",
   "metadata": {},
   "outputs": [
    {
     "name": "stdout",
     "output_type": "stream",
     "text": [
      "1818\n"
     ]
    }
   ],
   "source": [
    "answer = 0\n",
    "for i in range(len(matrix)):\n",
    "    for j in range(len(matrix[0])):\n",
    "        if i == 0 or j == 0 or i == len(matrix) - 1 or j == len(matrix[0]) - 1 or matrix[i][j] > min(matrix_max[i][j]):\n",
    "            answer += 1 \n",
    "print(answer)"
   ]
  },
  {
   "cell_type": "markdown",
   "id": "9348405c-d1e8-4c71-a533-b11079aeef05",
   "metadata": {},
   "source": [
    "Part 02"
   ]
  },
  {
   "cell_type": "code",
   "execution_count": 4,
   "id": "b1950730-9ba4-4aff-9d9e-b4b5ab403270",
   "metadata": {},
   "outputs": [],
   "source": [
    "with open('input08.csv') as file:\n",
    "    matrix = [[int(y) for y in x.strip()] for x in file.readlines()]\n",
    "    file.close()"
   ]
  },
  {
   "cell_type": "code",
   "execution_count": 5,
   "id": "675401fb-d764-4b34-81c9-4b4d82a37945",
   "metadata": {},
   "outputs": [],
   "source": [
    "def scenic_score(matrix, i, j):\n",
    "    for up_crawler in range(i-1, -1, -1):\n",
    "        if matrix[up_crawler][j] >= matrix[i][j]:\n",
    "            break\n",
    "    up = 0 if i == 0 else i - up_crawler\n",
    "\n",
    "    for down_crawler in range(i+1, len(matrix), +1):\n",
    "        if matrix[down_crawler][j] >= matrix[i][j]:\n",
    "            break\n",
    "    down = 0 if i == len(matrix) - 1 else down_crawler - i\n",
    "\n",
    "    for left_crawler in range(j-1, -1, -1):\n",
    "        if matrix[i][left_crawler] >= matrix[i][j]:\n",
    "            break\n",
    "    left = 0 if j == 0 else j - left_crawler\n",
    "\n",
    "    for right_crawler in range(j+1, len(matrix[0]), +1):\n",
    "        if matrix[i][right_crawler] >= matrix[i][j]:\n",
    "            break\n",
    "    right = 0 if j == len(matrix[0]) - 1 else right_crawler - j\n",
    "\n",
    "    return up*down*left*right"
   ]
  },
  {
   "cell_type": "code",
   "execution_count": 6,
   "id": "ef071578-3eab-480b-ac55-3b4548307a1f",
   "metadata": {},
   "outputs": [
    {
     "name": "stdout",
     "output_type": "stream",
     "text": [
      "368368\n"
     ]
    }
   ],
   "source": [
    "max_scenic_score = 0\n",
    "for i in range(len(matrix)):\n",
    "    for j in range(len(matrix[0])):\n",
    "        max_scenic_score = max(max_scenic_score, scenic_score(matrix, i, j))\n",
    "print(max_scenic_score)"
   ]
  }
 ],
 "metadata": {
  "kernelspec": {
   "display_name": "Python 3 (ipykernel)",
   "language": "python",
   "name": "python3"
  },
  "language_info": {
   "codemirror_mode": {
    "name": "ipython",
    "version": 3
   },
   "file_extension": ".py",
   "mimetype": "text/x-python",
   "name": "python",
   "nbconvert_exporter": "python",
   "pygments_lexer": "ipython3",
   "version": "3.8.12"
  }
 },
 "nbformat": 4,
 "nbformat_minor": 5
}
