{
 "cells": [
  {
   "cell_type": "code",
   "execution_count": 12,
   "id": "4a8956ed-eaba-4109-a77c-698f77c82e82",
   "metadata": {},
   "outputs": [
    {
     "name": "stdout",
     "output_type": "stream",
     "text": [
      "68923\n"
     ]
    }
   ],
   "source": [
    "with open('input01.csv', mode='r') as csvfile:\n",
    "    calories = 0\n",
    "    max_calories = 0\n",
    "    line = csvfile.readline()\n",
    "    while (line):\n",
    "        if line.strip() != '':\n",
    "            calories += int(line)\n",
    "        else:\n",
    "            max_calories = max(calories, max_calories)\n",
    "            calories=0\n",
    "        line = csvfile.readline()\n",
    "    csvfile.close()\n",
    "    print(max_calories)"
   ]
  },
  {
   "cell_type": "code",
   "execution_count": 19,
   "id": "00921ede-9da8-441c-b2a4-e0672a501041",
   "metadata": {},
   "outputs": [
    {
     "name": "stdout",
     "output_type": "stream",
     "text": [
      "200044\n"
     ]
    }
   ],
   "source": [
    "with open('input01.csv', mode='r') as csvfile:\n",
    "    calories = 0\n",
    "    max_calories = [0,0,0]\n",
    "    line = csvfile.readline()\n",
    "    while (line):\n",
    "        if line.strip() != '':\n",
    "            calories += int(line)\n",
    "        else:\n",
    "            if calories >= min(max_calories):\n",
    "                max_calories = sorted(max_calories)\n",
    "                max_calories[0] = calories\n",
    "            calories=0\n",
    "        line = csvfile.readline()\n",
    "    csvfile.close()\n",
    "    print(sum(max_calories))"
   ]
  }
 ],
 "metadata": {
  "kernelspec": {
   "display_name": "Python 3 (ipykernel)",
   "language": "python",
   "name": "python3"
  },
  "language_info": {
   "codemirror_mode": {
    "name": "ipython",
    "version": 3
   },
   "file_extension": ".py",
   "mimetype": "text/x-python",
   "name": "python",
   "nbconvert_exporter": "python",
   "pygments_lexer": "ipython3",
   "version": "3.8.12"
  }
 },
 "nbformat": 4,
 "nbformat_minor": 5
}
