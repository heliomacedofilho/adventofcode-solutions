{
 "cells": [
  {
   "cell_type": "markdown",
   "id": "b6f12cdb-55bc-4890-b4b2-369ed1f0e52b",
   "metadata": {},
   "source": [
    "Part 01"
   ]
  },
  {
   "cell_type": "code",
   "execution_count": 1,
   "id": "b86172b1-24bf-407e-a658-74e176d2d010",
   "metadata": {},
   "outputs": [],
   "source": [
    "import re"
   ]
  },
  {
   "cell_type": "code",
   "execution_count": 2,
   "id": "416dae8b-9ada-4199-bf11-30504ca7de27",
   "metadata": {},
   "outputs": [],
   "source": [
    "with open('input09.csv') as file:\n",
    "    moves = []\n",
    "    for x in file.readlines():\n",
    "        [(a, b)] = re.findall('^(\\w)\\s*(\\d+)$', x.strip())\n",
    "        moves.append([a, int(b)])\n",
    "    file.close()"
   ]
  },
  {
   "cell_type": "code",
   "execution_count": 4,
   "id": "ebfc3d8a-5aad-43de-8cfd-7dcc03459e33",
   "metadata": {},
   "outputs": [],
   "source": [
    "def knots_distance(H, T):\n",
    "    return max(abs(H[0] - T[0]), abs(H[1] - T[1]))"
   ]
  },
  {
   "cell_type": "code",
   "execution_count": 5,
   "id": "4cf8b423-3376-4fe8-8783-5f1b3bf730aa",
   "metadata": {},
   "outputs": [],
   "source": [
    "def recalculate_rope(H_new, H_old, T):\n",
    "    if knots_distance(H_new, T) > 1:\n",
    "        return H_new, H\n",
    "    else:\n",
    "        return H_new, T"
   ]
  },
  {
   "cell_type": "code",
   "execution_count": 8,
   "id": "a0d24fdc-6592-4aad-bf68-63136d41438f",
   "metadata": {},
   "outputs": [],
   "source": [
    "H = (0,0)\n",
    "T = (0,0)\n",
    "\n",
    "solution = set()\n",
    "solution.add(T)\n",
    "\n",
    "for direction, times in moves:\n",
    "    for i in range(times):\n",
    "        if direction == 'L':\n",
    "            H_new = H[0], H[1]-1\n",
    "            H, T = recalculate_rope(H_new, H, T)\n",
    "        elif direction == 'R':\n",
    "            H_new = H[0], H[1]+1\n",
    "            H, T = recalculate_rope(H_new, H, T)\n",
    "        elif direction == 'U': \n",
    "            H_new = H[0]-1, H[1]\n",
    "            H, T = recalculate_rope(H_new, H, T)\n",
    "        elif direction == 'D': \n",
    "            H_new = H[0]+1, H[1]\n",
    "            H, T = recalculate_rope(H_new, H, T)\n",
    "        else: \n",
    "            print('something wrong!')\n",
    "        solution.add(T)"
   ]
  },
  {
   "cell_type": "code",
   "execution_count": 9,
   "id": "2adf6c5d-3696-4e4e-892e-82f0dd169d5e",
   "metadata": {},
   "outputs": [
    {
     "data": {
      "text/plain": [
       "5878"
      ]
     },
     "execution_count": 9,
     "metadata": {},
     "output_type": "execute_result"
    }
   ],
   "source": [
    "len(solution)"
   ]
  },
  {
   "cell_type": "markdown",
   "id": "b2c828f5-3e7e-4f2b-b88e-ff6f77880b1a",
   "metadata": {},
   "source": [
    "Part 02"
   ]
  },
  {
   "cell_type": "code",
   "execution_count": null,
   "id": "b7694b24-2aad-4f66-8d92-9e349b7ff77a",
   "metadata": {},
   "outputs": [],
   "source": [
    "with open('input09.csv') as file:\n",
    "    moves = []\n",
    "    for x in file.readlines():\n",
    "        [(a, b)] = re.findall('^(\\w)\\s*(\\d+)$', x.strip())\n",
    "        moves.append([a, int(b)])\n",
    "    file.close()"
   ]
  },
  {
   "cell_type": "code",
   "execution_count": null,
   "id": "1e72a5d7-049b-4e93-b5c4-a775b2c461c0",
   "metadata": {},
   "outputs": [],
   "source": [
    "def knots_distance(H, T):\n",
    "    return max(abs(H[0] - T[0]), abs(H[1] - T[1]))"
   ]
  }
 ],
 "metadata": {
  "kernelspec": {
   "display_name": "Python 3 (ipykernel)",
   "language": "python",
   "name": "python3"
  },
  "language_info": {
   "codemirror_mode": {
    "name": "ipython",
    "version": 3
   },
   "file_extension": ".py",
   "mimetype": "text/x-python",
   "name": "python",
   "nbconvert_exporter": "python",
   "pygments_lexer": "ipython3",
   "version": "3.8.12"
  }
 },
 "nbformat": 4,
 "nbformat_minor": 5
}
