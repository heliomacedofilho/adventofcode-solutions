{
 "cells": [
  {
   "cell_type": "code",
   "execution_count": 1,
   "id": "e3bedbdd-967b-4eb5-8992-1e5d58c73aae",
   "metadata": {},
   "outputs": [],
   "source": [
    "class Monkey():\n",
    "    def __init__(self, monkey_id, initial_priorities, raw_operation, test, monkey_false, monkey_true):\n",
    "        self.monkey_id = monkey_id\n",
    "        self.priorities = initial_priorities\n",
    "        \n",
    "        if raw_operation[1] == '+':\n",
    "            self.operation = lambda x: (x if raw_operation[0] == 'old' else int(raw_operation[0])) + (x if raw_operation[2] == 'old' else int(raw_operation[2]))\n",
    "        elif raw_operation[1] == '-':\n",
    "            self.operation = lambda x: (x if raw_operation[0] == 'old' else int(raw_operation[0])) - (x if raw_operation[2] == 'old' else int(raw_operation[2]))\n",
    "        elif raw_operation[1] == '/':\n",
    "            self.operation = lambda x: (x if raw_operation[0] == 'old' else int(raw_operation[0])) / (x if raw_operation[2] == 'old' else int(raw_operation[2]))\n",
    "        elif raw_operation[1] == '*':\n",
    "            self.operation = lambda x: (x if raw_operation[0] == 'old' else int(raw_operation[0])) * (x if raw_operation[2] == 'old' else int(raw_operation[2]))\n",
    "        else:\n",
    "            print('something wrong here')\n",
    "\n",
    "        self.test_denominators = []\n",
    "        self.test_denominator = test\n",
    "        self.test = lambda x: x % test == 0\n",
    "        self.monkey_false = monkey_false\n",
    "        self.monkey_true = monkey_true\n",
    "        self.inspections = 0\n",
    "    \n",
    "    def add_priority(self, priority):\n",
    "        self.priorities.append(priority)\n",
    "    \n",
    "    def manage_priority_part01(self, priority):\n",
    "        return priority//3\n",
    "    \n",
    "    def manage_priority_part02(self, priority):\n",
    "        return priority % reduce((lambda x, y: x * y), self.test_denominators)\n",
    "    \n",
    "    def turn(self):\n",
    "        output = []\n",
    "        #print(f'Monkey {self.monkey_id}')\n",
    "        for priority in self.priorities:\n",
    "            #inspect\n",
    "            self.inspections += 1\n",
    "            #print(f'\\tMonkey inspects an item with a worry level of {priority}')\n",
    "            #update worry level after inpsection\n",
    "            new_priority = self.operation(priority)\n",
    "            #print(f'\\t\\tWorry level is updated from {priority} to {new_priority}.')\n",
    "            #update worry level after relief\n",
    "            \n",
    "            #Part 01\n",
    "            new_new_priority = self.manage_priority_part01(new_priority)\n",
    "            \n",
    "            #print(f'\\t\\tMonkey gets bored with item. Worry level is divided by 3 to {new_new_priority}.')\n",
    "            #test to route item\n",
    "            if self.test(new_new_priority):\n",
    "                output.append((self.monkey_true, new_new_priority))\n",
    "                #print(f'\\t\\tItem with worry level {new_new_priority} is thrown to monkey {self.monkey_true}.')\n",
    "            else:\n",
    "                output.append((self.monkey_false, new_new_priority))\n",
    "                #print(f'\\t\\tItem with worry level {new_new_priority} is thrown to monkey {self.monkey_false}.')\n",
    "        self.priorities = []\n",
    "        return output"
   ]
  },
  {
   "cell_type": "code",
   "execution_count": 2,
   "id": "f08f83d7-dff9-4c46-9e7f-5dbc3717af66",
   "metadata": {},
   "outputs": [],
   "source": [
    "import re\n",
    "with open('input11.csv', mode='r') as csvfile:\n",
    "    buffer = [x.strip() for x in csvfile.readlines()]\n",
    "    csvfile.close()\n",
    "\n",
    "n_monkeys = (len(buffer) + 1)//7\n",
    "monkey_list = [None]*n_monkeys\n",
    "\n",
    "for i in range(n_monkeys):\n",
    "    monkey_id = int(re.findall('(\\d+)', buffer[i*7])[0])\n",
    "    priorities = [int(x) for x in re.findall('(\\d+)', buffer[i*7+1])]\n",
    "    operation = re.findall('= (\\w+|\\d+) (\\S) (\\w+|\\d+)', buffer[i*7+2])[0]\n",
    "    test = int(re.findall('(\\d+)', buffer[i*7+3])[0])\n",
    "    monkey_true = int(re.findall('(\\d+)', buffer[i*7+4])[0])\n",
    "    monkey_false = int(re.findall('(\\d+)', buffer[i*7+5])[0])\n",
    "    monkey_list[i] = Monkey(monkey_id, priorities, operation, test, monkey_false, monkey_true)"
   ]
  },
  {
   "cell_type": "code",
   "execution_count": 3,
   "id": "dd8e3720-188e-4bb9-86f2-44b83dab9391",
   "metadata": {},
   "outputs": [],
   "source": [
    "for _ in range(20):\n",
    "    for monkey in monkey_list:\n",
    "        routes = monkey.turn()\n",
    "        for route in routes:\n",
    "            monkey_list[route[0]].add_priority(route[1])"
   ]
  },
  {
   "cell_type": "code",
   "execution_count": 4,
   "id": "9234f8e2-071e-4e0e-948b-cadf8b8e3595",
   "metadata": {},
   "outputs": [
    {
     "name": "stdout",
     "output_type": "stream",
     "text": [
      "0 [10, 12, 14, 26, 34]\n",
      "1 [245, 93, 53, 199, 115]\n",
      "2 []\n",
      "3 []\n"
     ]
    }
   ],
   "source": [
    "for monkey in monkey_list:\n",
    "    print(monkey.monkey_id, monkey.priorities)"
   ]
  },
  {
   "cell_type": "code",
   "execution_count": 5,
   "id": "44e4c299-99af-4b33-a88c-791a38b13033",
   "metadata": {},
   "outputs": [
    {
     "name": "stdout",
     "output_type": "stream",
     "text": [
      "0 101\n",
      "1 95\n",
      "2 7\n",
      "3 105\n"
     ]
    }
   ],
   "source": [
    "for monkey in monkey_list:\n",
    "    print(monkey.monkey_id, monkey.inspections)"
   ]
  },
  {
   "cell_type": "code",
   "execution_count": null,
   "id": "a5c49a81-5baa-4d16-9e26-0c3bd3c132b3",
   "metadata": {},
   "outputs": [],
   "source": []
  }
 ],
 "metadata": {
  "kernelspec": {
   "display_name": "Python 3 (ipykernel)",
   "language": "python",
   "name": "python3"
  },
  "language_info": {
   "codemirror_mode": {
    "name": "ipython",
    "version": 3
   },
   "file_extension": ".py",
   "mimetype": "text/x-python",
   "name": "python",
   "nbconvert_exporter": "python",
   "pygments_lexer": "ipython3",
   "version": "3.8.12"
  }
 },
 "nbformat": 4,
 "nbformat_minor": 5
}
