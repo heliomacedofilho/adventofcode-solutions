{
 "cells": [
  {
   "cell_type": "markdown",
   "id": "5c9f69d4-123a-4538-ae0d-ae7e9e4e3056",
   "metadata": {},
   "source": [
    "Part 01"
   ]
  },
  {
   "cell_type": "code",
   "execution_count": 1,
   "id": "15ee7943-4673-47b6-8ebc-4a2b3689c7f7",
   "metadata": {},
   "outputs": [],
   "source": [
    "import re"
   ]
  },
  {
   "cell_type": "code",
   "execution_count": 2,
   "id": "8c914289-a1a1-4c92-8bb8-fa57d96c3d57",
   "metadata": {},
   "outputs": [],
   "source": [
    "class Node():\n",
    "    def __init__(self, name):\n",
    "        self.total_size = 0\n",
    "        self.size = 0\n",
    "        self.name = name\n",
    "        self.children = []\n",
    "        self.files = []\n",
    "        self.parent = None"
   ]
  },
  {
   "cell_type": "code",
   "execution_count": 3,
   "id": "575af15d-d379-4a1a-96bb-6d3be3f0d17e",
   "metadata": {},
   "outputs": [],
   "source": [
    "root = None\n",
    "current_node = None\n",
    "\n",
    "with open('input07.txt', mode='r') as csvfile:\n",
    "    line = csvfile.readline().strip()\n",
    "    while (line != ''):\n",
    "\n",
    "        cd = re.findall('^\\$ cd \\S+$', line)\n",
    "        ls = re.findall('^\\$ ls$', line)\n",
    "        \n",
    "        if cd:\n",
    "            cd_dir = cd[0].split(' ')[2]\n",
    "            if cd_dir == '/':\n",
    "                root = Node('root')\n",
    "                current_node = root\n",
    "            elif cd_dir == '..':\n",
    "                current_node = current_node.parent\n",
    "            else:\n",
    "                for child in current_node.children:\n",
    "                    if child.name == cd_dir:\n",
    "                        current_node = child\n",
    "                        break\n",
    "        elif ls:\n",
    "            line = csvfile.readline().strip()\n",
    "            dir_ls = re.findall('^dir \\S+$', line)\n",
    "            file_ls = re.findall('^\\d+ \\S+$', line)\n",
    "            \n",
    "            while (dir_ls or file_ls):\n",
    "                if dir_ls:\n",
    "                    dir_name = dir_ls[0].split(' ')[1]\n",
    "                    child = Node(dir_name)\n",
    "                    current_node.children.append(child)\n",
    "                    child.parent = current_node\n",
    "                elif file_ls:\n",
    "                    file_name = file_ls[0].split(' ')[1]\n",
    "                    file_size = file_ls[0].split(' ')[0]\n",
    "                    \n",
    "                    current_node.files.append(file_name)\n",
    "                    current_node.size += int(file_size)\n",
    "                line = csvfile.readline().strip()\n",
    "                dir_ls = re.findall('^dir \\S+$', line)\n",
    "                file_ls = re.findall('^\\d+ \\S+$', line)\n",
    "            continue\n",
    "        line = csvfile.readline().strip()"
   ]
  },
  {
   "cell_type": "code",
   "execution_count": 4,
   "id": "370c77ed-f774-4188-85e1-cab8d191b24b",
   "metadata": {},
   "outputs": [],
   "source": [
    "def pre_order(current_node, result = []):\n",
    "    children_total_size = 0\n",
    "    for child in current_node.children:\n",
    "        result = pre_order(child, result)\n",
    "        children_total_size += child.total_size\n",
    "    current_node.total_size = current_node.size + children_total_size\n",
    "    if current_node.total_size <= 100000:\n",
    "        result.append(current_node.total_size)\n",
    "    return result"
   ]
  },
  {
   "cell_type": "code",
   "execution_count": 5,
   "id": "c62180e9-5eb4-4c23-9b84-55a6e115ff0e",
   "metadata": {},
   "outputs": [
    {
     "data": {
      "text/plain": [
       "1886043"
      ]
     },
     "execution_count": 5,
     "metadata": {},
     "output_type": "execute_result"
    }
   ],
   "source": [
    "sum(pre_order(root))"
   ]
  },
  {
   "cell_type": "markdown",
   "id": "f2bdb875-51f3-44a2-9c4d-4f4a3bc60263",
   "metadata": {},
   "source": [
    "Part 02"
   ]
  },
  {
   "cell_type": "code",
   "execution_count": 6,
   "id": "b2d3397d-a8c6-42bf-9b92-4a84dbed8d80",
   "metadata": {},
   "outputs": [
    {
     "data": {
      "text/plain": [
       "3562874"
      ]
     },
     "execution_count": 6,
     "metadata": {},
     "output_type": "execute_result"
    }
   ],
   "source": [
    "disk_space = 70000000\n",
    "unused_space = disk_space - root.total_size\n",
    "update_space = 30000000\n",
    "need_to_erase = update_space - unused_space\n",
    "need_to_erase"
   ]
  },
  {
   "cell_type": "code",
   "execution_count": 7,
   "id": "ef1dbd49-5e1d-4642-a664-9e3865f28768",
   "metadata": {},
   "outputs": [],
   "source": [
    "def find_directories(current_node, need_to_erase, result = []):\n",
    "    for child in current_node.children:\n",
    "        result = find_directories(child, need_to_erase, result)\n",
    "    if current_node.total_size >= need_to_erase:\n",
    "        result.append(current_node.total_size)\n",
    "    return result"
   ]
  },
  {
   "cell_type": "code",
   "execution_count": 8,
   "id": "ade639ce-0c59-451d-a898-ead5086f6a54",
   "metadata": {},
   "outputs": [],
   "source": [
    "result = find_directories(root, need_to_erase, [])"
   ]
  },
  {
   "cell_type": "code",
   "execution_count": 9,
   "id": "5b91b557-93dd-4f0a-8dd6-b9b519ab7ac1",
   "metadata": {},
   "outputs": [
    {
     "data": {
      "text/plain": [
       "3842121"
      ]
     },
     "execution_count": 9,
     "metadata": {},
     "output_type": "execute_result"
    }
   ],
   "source": [
    "min(result)"
   ]
  }
 ],
 "metadata": {
  "kernelspec": {
   "display_name": "Python 3 (ipykernel)",
   "language": "python",
   "name": "python3"
  },
  "language_info": {
   "codemirror_mode": {
    "name": "ipython",
    "version": 3
   },
   "file_extension": ".py",
   "mimetype": "text/x-python",
   "name": "python",
   "nbconvert_exporter": "python",
   "pygments_lexer": "ipython3",
   "version": "3.8.12"
  }
 },
 "nbformat": 4,
 "nbformat_minor": 5
}
