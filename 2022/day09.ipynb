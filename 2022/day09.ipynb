{
 "cells": [
  {
   "cell_type": "markdown",
   "id": "b2c828f5-3e7e-4f2b-b88e-ff6f77880b1a",
   "metadata": {},
   "source": [
    "Part 01"
   ]
  },
  {
   "cell_type": "code",
   "execution_count": 1,
   "id": "b7694b24-2aad-4f66-8d92-9e349b7ff77a",
   "metadata": {},
   "outputs": [],
   "source": [
    "import re\n",
    "with open('input09.txt') as file:\n",
    "    moves = []\n",
    "    for x in file.readlines():\n",
    "        [(a, b)] = re.findall('^(\\w)\\s*(\\d+)$', x.strip())\n",
    "        moves.append([a, int(b)])\n",
    "    file.close()"
   ]
  },
  {
   "cell_type": "code",
   "execution_count": 2,
   "id": "1e72a5d7-049b-4e93-b5c4-a775b2c461c0",
   "metadata": {},
   "outputs": [],
   "source": [
    "def knots_distance(knot1, knot2):\n",
    "    return max(abs(knot1[0] - knot2[0]), abs(knot1[1] - knot2[1]))"
   ]
  },
  {
   "cell_type": "code",
   "execution_count": 3,
   "id": "0bebc851-cbf7-4e8a-b5cb-43d7fbc67658",
   "metadata": {},
   "outputs": [],
   "source": [
    "def new_consecutive_knot_position(knot1_new, knot1_old, knot2):\n",
    "    if knots_distance(knot1_new, knot2) > 1:\n",
    "        diff_i = knot1_new[0] - knot2[0]\n",
    "        diff_j = knot1_new[1] - knot2[1]\n",
    "        if diff_i and diff_j:\n",
    "            return (knot2[0] + (-1 if diff_i < 0 else +1), knot2[1] + (-1 if diff_j < 0 else +1))\n",
    "        else:\n",
    "            return (knot2[0] + diff_i//2, knot2[1] + diff_j//2)\n",
    "    else:\n",
    "        return knot2"
   ]
  },
  {
   "cell_type": "code",
   "execution_count": 4,
   "id": "4d325f49-228e-4895-86f8-3f56e0d4b6e5",
   "metadata": {},
   "outputs": [],
   "source": [
    "def new_rope_position(knot1_new, rope):\n",
    "    knot1_old, rope[0] = rope[0], knot1_new\n",
    "    \n",
    "    for i in range(1, len(rope), +1):\n",
    "        knot2_old, rope[i] = rope[i], new_consecutive_knot_position(knot1_new, knot1_old, rope[i])\n",
    "        knot1_old, knot1_new = knot2_old, rope[i]\n",
    "    \n",
    "    return rope"
   ]
  },
  {
   "cell_type": "code",
   "execution_count": 5,
   "id": "4a438a89-101a-4579-84a8-df032b9999d5",
   "metadata": {},
   "outputs": [],
   "source": [
    "def tail_positions(rope_length):\n",
    "    knot = (0,0)\n",
    "    rope = [knot]*rope_length\n",
    "    tail_positions = set()\n",
    "    tail_positions.add(rope[-1])\n",
    "    for direction, times in moves:\n",
    "        for i in range(times):\n",
    "            H = rope[0]\n",
    "            if direction == 'L':\n",
    "                H_new = H[0], H[1]-1\n",
    "            elif direction == 'R':\n",
    "                H_new = H[0], H[1]+1\n",
    "            elif direction == 'U': \n",
    "                H_new = H[0]-1, H[1]\n",
    "            elif direction == 'D': \n",
    "                H_new = H[0]+1, H[1]\n",
    "            rope = new_rope_position(H_new, rope)\n",
    "            tail_positions.add(rope[-1])\n",
    "    return tail_positions"
   ]
  },
  {
   "cell_type": "code",
   "execution_count": 6,
   "id": "4331e972-7650-4c0c-b74b-2a1f1445c921",
   "metadata": {},
   "outputs": [
    {
     "data": {
      "text/plain": [
       "5878"
      ]
     },
     "execution_count": 6,
     "metadata": {},
     "output_type": "execute_result"
    }
   ],
   "source": [
    "len(tail_positions(2))"
   ]
  },
  {
   "cell_type": "markdown",
   "id": "6d911d06-baf5-4a86-b127-a7422d7b2053",
   "metadata": {},
   "source": [
    "Part 02"
   ]
  },
  {
   "cell_type": "code",
   "execution_count": 7,
   "id": "1e5923da-47f6-43b4-80d3-498ef2e9b383",
   "metadata": {},
   "outputs": [
    {
     "data": {
      "text/plain": [
       "2405"
      ]
     },
     "execution_count": 7,
     "metadata": {},
     "output_type": "execute_result"
    }
   ],
   "source": [
    "len(tail_positions(10))"
   ]
  }
 ],
 "metadata": {
  "kernelspec": {
   "display_name": "Python 3 (ipykernel)",
   "language": "python",
   "name": "python3"
  },
  "language_info": {
   "codemirror_mode": {
    "name": "ipython",
    "version": 3
   },
   "file_extension": ".py",
   "mimetype": "text/x-python",
   "name": "python",
   "nbconvert_exporter": "python",
   "pygments_lexer": "ipython3",
   "version": "3.8.12"
  }
 },
 "nbformat": 4,
 "nbformat_minor": 5
}
