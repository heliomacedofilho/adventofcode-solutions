{
 "cells": [
  {
   "cell_type": "code",
   "execution_count": 1,
   "id": "b9775b15-9e72-4e01-8844-652135d3a772",
   "metadata": {},
   "outputs": [],
   "source": [
    "import re\n",
    "with open('input19.txt') as csvfile:\n",
    "    blueprints_str = [[re.findall('Each (obsidian|geode|ore|clay) robot costs', item) + re.findall('(\\d+)\\s(obsidian|geode|ore|clay)', item) for item in line.strip()[:-1].split('.')] for line in csvfile.readlines()]"
   ]
  },
  {
   "cell_type": "code",
   "execution_count": 2,
   "id": "4dd711a1-a896-49c9-9add-106385a8a0d1",
   "metadata": {},
   "outputs": [],
   "source": [
    "blueprints = []\n",
    "for blueprint in blueprints_str:\n",
    "    robot_factory = {}\n",
    "    for robot_construction in blueprint:\n",
    "        robot_factory[robot_construction[0]] = {y: int(x) for x, y in robot_construction[1:]}\n",
    "    blueprints.append(robot_factory)"
   ]
  },
  {
   "cell_type": "code",
   "execution_count": 3,
   "id": "f96fe164-a67b-4f10-a27f-a2402503f69b",
   "metadata": {},
   "outputs": [],
   "source": [
    "def comparable_value(ores_per_robot, minutes_left, element):\n",
    "    return sum(element[0][material]*ores_per_robot[material]*minutes_left + element[1][material]*ores_per_robot[material] for material in ['ore','clay','obsidian','geode'])\n",
    "\n",
    "def ores_per_material(blueprint, material):\n",
    "    answer = 0\n",
    "    costs = blueprint[material]\n",
    "    for cost in costs:\n",
    "        if cost == 'ore':\n",
    "            answer += blueprint[material][cost]\n",
    "        else:\n",
    "            answer += ores_per_material(blueprint, cost)*blueprint[material][cost]\n",
    "    return answer"
   ]
  },
  {
   "cell_type": "code",
   "execution_count": 4,
   "id": "28aa5ce8-0d8f-44a9-94ef-db88213aba91",
   "metadata": {},
   "outputs": [],
   "source": [
    "def blueprint_epoch(blueprint, minutes=24):\n",
    "    materials = ['ore','clay','obsidian','geode']\n",
    "    ores_per_robot = {material: ores_per_material(blueprint, material) for material in materials}\n",
    "\n",
    "    answer = []\n",
    "    stack = [({material: 1 if material == 'ore' else 0 for material in materials}, {material: 1 if material == 'ore' else 0 for material in materials})]\n",
    "    for i in range(minutes-1):\n",
    "        minutes_left = minutes-i-1\n",
    "        new_stack = []\n",
    "        while stack:\n",
    "            current_constructed_robots, current_collected_materials = stack.pop()\n",
    "            for robot_construction in blueprint:\n",
    "                enough_material_to_build = all([blueprint[robot_construction][needed_material] <= current_collected_materials[needed_material] for needed_material in blueprint[robot_construction]])\n",
    "                if enough_material_to_build:\n",
    "                    next_constructed_robots = {kind_of_material: \\\n",
    "                                               current_constructed_robots[kind_of_material] + 1\\\n",
    "                                                   if robot_construction == kind_of_material else \\\n",
    "                                               current_constructed_robots[kind_of_material] \\\n",
    "                                               for kind_of_material in current_constructed_robots}\n",
    "                    next_collected_materials = {kind_of_material:\\\n",
    "                                                current_collected_materials[kind_of_material] + current_constructed_robots[kind_of_material] - blueprint[robot_construction][kind_of_material]\\\n",
    "                                                    if kind_of_material in blueprint[robot_construction] else \\\n",
    "                                                current_collected_materials[kind_of_material] + current_constructed_robots[kind_of_material]\\\n",
    "                                                for kind_of_material in current_collected_materials}\n",
    "                    new_stack.append((next_constructed_robots, next_collected_materials))\n",
    "            for kind_of_material in current_collected_materials:\n",
    "                current_collected_materials[kind_of_material] += current_constructed_robots[kind_of_material]\n",
    "            new_stack.append((current_constructed_robots, current_collected_materials))\n",
    "        \n",
    "        stack = sorted(new_stack, key=lambda x: comparable_value(ores_per_robot, minutes_left, x), reverse=True)[:5**5] #save best options from last 5 steps\n",
    "    return max(element[1]['geode'] for element in stack)"
   ]
  },
  {
   "cell_type": "markdown",
   "id": "b3eb053a-e3a0-48be-a1c5-5f8dd8f4ffcd",
   "metadata": {},
   "source": [
    "Part 01"
   ]
  },
  {
   "cell_type": "code",
   "execution_count": 5,
   "id": "8155b918-1f70-4d09-8eb8-b31ff48f90a0",
   "metadata": {},
   "outputs": [
    {
     "data": {
      "text/plain": [
       "1528"
      ]
     },
     "execution_count": 5,
     "metadata": {},
     "output_type": "execute_result"
    }
   ],
   "source": [
    "quality_level = 0\n",
    "for i, blueprint in enumerate(blueprints):\n",
    "    quality_level += (i+1) * blueprint_epoch(blueprints[i])\n",
    "quality_level"
   ]
  },
  {
   "cell_type": "markdown",
   "id": "40595992-2756-4ce1-9c2e-cefebb77c3cc",
   "metadata": {},
   "source": [
    "Part 02"
   ]
  },
  {
   "cell_type": "code",
   "execution_count": 6,
   "id": "acd64652-c8dd-451c-a725-87f4cc701dd4",
   "metadata": {},
   "outputs": [
    {
     "data": {
      "text/plain": [
       "16926"
      ]
     },
     "execution_count": 6,
     "metadata": {},
     "output_type": "execute_result"
    }
   ],
   "source": [
    "blueprint_epoch(blueprints[0], minutes=32) * blueprint_epoch(blueprints[1], minutes=32) * blueprint_epoch(blueprints[2], minutes=32)"
   ]
  }
 ],
 "metadata": {
  "kernelspec": {
   "display_name": "Python 3 (ipykernel)",
   "language": "python",
   "name": "python3"
  },
  "language_info": {
   "codemirror_mode": {
    "name": "ipython",
    "version": 3
   },
   "file_extension": ".py",
   "mimetype": "text/x-python",
   "name": "python",
   "nbconvert_exporter": "python",
   "pygments_lexer": "ipython3",
   "version": "3.8.12"
  }
 },
 "nbformat": 4,
 "nbformat_minor": 5
}
