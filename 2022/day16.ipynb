{
 "cells": [
  {
   "cell_type": "code",
   "execution_count": 1,
   "id": "26f12501-0b66-46f1-b113-221ae2cbb40d",
   "metadata": {},
   "outputs": [],
   "source": [
    "import re\n",
    "\n",
    "with open('input16.txt') as csvfile:\n",
    "    inp = csvfile.readlines()\n",
    "    from_tos = [re.findall('([A-Z]{2,})', line.strip()) for line in inp]\n",
    "    rates = [re.findall('(\\d+)', line.strip()) for line in inp]"
   ]
  },
  {
   "cell_type": "code",
   "execution_count": 2,
   "id": "e7423f42-308e-47b9-863a-0f5186543755",
   "metadata": {},
   "outputs": [],
   "source": [
    "class Valve():\n",
    "    def __init__(self, name, rate=None):\n",
    "        self.name = name\n",
    "        self.tunnel = []\n",
    "        self.rate = rate"
   ]
  },
  {
   "cell_type": "code",
   "execution_count": 3,
   "id": "89e479d4-7c40-4b9c-81d1-0f7fca65131a",
   "metadata": {},
   "outputs": [],
   "source": [
    "valves = {}\n",
    "\n",
    "for from_to, rate in zip(from_tos, rates):\n",
    "    valves[from_to[0]] = Valve(from_to[0], int(rate[0]))\n",
    "for from_to, rate in zip(from_tos, rates):\n",
    "    for to_name in from_to[1:]:\n",
    "        valves[from_to[0]].tunnel.append(valves[to_name])"
   ]
  },
  {
   "cell_type": "code",
   "execution_count": 4,
   "id": "577886a1-2f36-41cd-82ad-feedd1331782",
   "metadata": {},
   "outputs": [],
   "source": [
    "def least_distance(valve01, valve02):\n",
    "    def least_distance_helper(seeked_valve, visited, queue, distance):\n",
    "        new_queue = []\n",
    "        while queue:\n",
    "            valve = queue.pop()\n",
    "            visited.add(valve.name)\n",
    "            if valve.name == seeked_valve.name:\n",
    "                return distance\n",
    "            new_queue.extend([neighbor for neighbor in valve.tunnel if neighbor.name not in visited])\n",
    "        return least_distance_helper(seeked_valve, visited, new_queue, distance+1)    \n",
    "    if valve01 == valve02: return 0\n",
    "    else: return least_distance_helper(valve02, set(), [neighbor for neighbor in valve01.tunnel], 1)"
   ]
  },
  {
   "cell_type": "code",
   "execution_count": 5,
   "id": "db9a86c7-2370-4e8a-9c32-cb0005e06aad",
   "metadata": {},
   "outputs": [],
   "source": [
    "def paths_and_pressures(valves, distances, possible_valves, head, minutes_left):\n",
    "    paths_and_pressures = []\n",
    "    stack = [(minutes_left, 0, [head])] #0 == pressure\n",
    "    while stack:\n",
    "        minutes_left, pressure, path = stack.pop()\n",
    "        valve = path[-1]\n",
    "        new_queue = []\n",
    "        for next_valve in possible_valves - set(path):\n",
    "            distance = distances[(valve, next_valve)]\n",
    "            if distance > minutes_left - 2:\n",
    "                continue\n",
    "            next_minutes_left = minutes_left - distance - 1\n",
    "            next_pressure = pressure + valves[next_valve].rate * next_minutes_left\n",
    "            new_queue.append((next_minutes_left, next_pressure, path + [next_valve]))\n",
    "        if new_queue:\n",
    "            stack.extend(new_queue)\n",
    "        else:\n",
    "            paths_and_pressures.append((path[1:], pressure))\n",
    "\n",
    "    return paths_and_pressures"
   ]
  },
  {
   "cell_type": "code",
   "execution_count": 6,
   "id": "2cb53c24-56d1-40d5-94ab-ba04ec6aa071",
   "metadata": {},
   "outputs": [],
   "source": [
    "possible_valves = set(valves[valve].name for valve in valves if valves[valve].rate != 0)"
   ]
  },
  {
   "cell_type": "code",
   "execution_count": 7,
   "id": "ef8a76b0-aa7a-46dc-9337-1905a346756d",
   "metadata": {},
   "outputs": [],
   "source": [
    "distances = {}\n",
    "for valve01 in possible_valves.union({'AA'}):\n",
    "    for valve02 in possible_valves.union({'AA'}):\n",
    "        distances[(valve01, valve02)] = least_distance(valves[valve01], valves[valve02])"
   ]
  },
  {
   "cell_type": "code",
   "execution_count": 8,
   "id": "e72f935a-b3b9-4a8a-bedc-5071b2566f4f",
   "metadata": {},
   "outputs": [
    {
     "name": "stdout",
     "output_type": "stream",
     "text": [
      "1873\n"
     ]
    }
   ],
   "source": [
    "answer = max([path_pressure[1] for path_pressure in paths_and_pressures(valves, distances, possible_valves, 'AA', 30)])\n",
    "print(answer)"
   ]
  },
  {
   "cell_type": "markdown",
   "id": "5405ebce-c02d-40f7-80e3-b9792344eeca",
   "metadata": {},
   "source": [
    "Part 02"
   ]
  },
  {
   "cell_type": "code",
   "execution_count": 9,
   "id": "014a0451-21af-4bda-898f-4e8d3e01dbe4",
   "metadata": {},
   "outputs": [],
   "source": [
    "from functools import cmp_to_key\n",
    "\n",
    "def sorted_paths_by_pressure(paths_and_pressures):\n",
    "    return sorted(paths_and_pressures, key=cmp_to_key(lambda p_p1, p_p2: p_p2[1] - p_p1[1]))"
   ]
  },
  {
   "cell_type": "code",
   "execution_count": 10,
   "id": "b86e9dc4-b489-4c07-97d5-17589b2c7a5b",
   "metadata": {},
   "outputs": [
    {
     "name": "stdout",
     "output_type": "stream",
     "text": [
      "2425\n"
     ]
    }
   ],
   "source": [
    "minutes_left = 26\n",
    "head = 'AA'\n",
    "lower_bound = max([path_pressure[1] for path_pressure in paths_and_pressures(valves, distances, possible_valves, head, minutes_left)])\n",
    "max_pressure = lower_bound\n",
    "\n",
    "for path1, path1_pressure in sorted_paths_by_pressure(paths_and_pressures(valves, distances, possible_valves, head, minutes_left)):\n",
    "    _, path2_pressure = sorted_paths_by_pressure(paths_and_pressures(valves, distances, possible_valves - set(path1), head, minutes_left))[0]\n",
    "    current_pressure = path1_pressure + path2_pressure\n",
    "    if current_pressure < lower_bound: break\n",
    "    max_pressure = max(max_pressure, current_pressure)\n",
    "                               \n",
    "print(max_pressure)"
   ]
  }
 ],
 "metadata": {
  "kernelspec": {
   "display_name": "Python 3 (ipykernel)",
   "language": "python",
   "name": "python3"
  },
  "language_info": {
   "codemirror_mode": {
    "name": "ipython",
    "version": 3
   },
   "file_extension": ".py",
   "mimetype": "text/x-python",
   "name": "python",
   "nbconvert_exporter": "python",
   "pygments_lexer": "ipython3",
   "version": "3.8.12"
  }
 },
 "nbformat": 4,
 "nbformat_minor": 5
}
