{
 "cells": [
  {
   "cell_type": "markdown",
   "id": "35b5bb2b-79e6-4714-b4ac-c9becf99c4eb",
   "metadata": {},
   "source": [
    "Part 01"
   ]
  },
  {
   "cell_type": "code",
   "execution_count": 1,
   "id": "d915ffef-9bc9-46d4-8fad-f77d2d3bb7fe",
   "metadata": {},
   "outputs": [],
   "source": [
    "def get_priority(c):\n",
    "    if c.islower():\n",
    "        return ord(c) - ord('a') + 1\n",
    "    elif c.isupper():\n",
    "        return ord(c) - ord('A') + 27\n",
    "    else:\n",
    "        assert(False)"
   ]
  },
  {
   "cell_type": "code",
   "execution_count": 2,
   "id": "0257762a-e34c-414c-a38c-732c8ea080e7",
   "metadata": {},
   "outputs": [
    {
     "name": "stdout",
     "output_type": "stream",
     "text": [
      "7872\n"
     ]
    }
   ],
   "source": [
    "priorities = 0\n",
    "with open('input03.txt', mode='r') as csvfile:\n",
    "    line = csvfile.readline()\n",
    "    while (line):\n",
    "        line = line.strip()\n",
    "        n = len(line)\n",
    "        first_rucksack, second_rucksack = set(line[:n//2]), set(line[n//2:])\n",
    "        intersection = first_rucksack.intersection(second_rucksack).pop()\n",
    "        priorities += get_priority(intersection)\n",
    "        line = csvfile.readline()\n",
    "    csvfile.close()\n",
    "print(priorities)"
   ]
  },
  {
   "cell_type": "markdown",
   "id": "be1bfa1f-ade3-406a-98e9-261a9c0d2a79",
   "metadata": {},
   "source": [
    "Part 02"
   ]
  },
  {
   "cell_type": "code",
   "execution_count": 3,
   "id": "b744c378-0b56-4f19-8e2a-649eb49f5311",
   "metadata": {},
   "outputs": [],
   "source": [
    "def get_priority(c):\n",
    "    if c.islower():\n",
    "        return ord(c) - ord('a') + 1\n",
    "    elif c.isupper():\n",
    "        return ord(c) - ord('A') + 27\n",
    "    else:\n",
    "        assert(False)"
   ]
  },
  {
   "cell_type": "code",
   "execution_count": 4,
   "id": "59890709-9a85-44f9-99c8-4b113c0325b9",
   "metadata": {},
   "outputs": [
    {
     "name": "stdout",
     "output_type": "stream",
     "text": [
      "2497\n"
     ]
    }
   ],
   "source": [
    "priorities = 0\n",
    "with open('input03.txt', mode='r') as csvfile:\n",
    "    line1 = csvfile.readline()\n",
    "    line2 = csvfile.readline()\n",
    "    line3 = csvfile.readline()\n",
    "    while (line1 and line2 and line3):\n",
    "        line1, line2, line3 = set(line1.strip()), set(line2.strip()), set(line3.strip())\n",
    "        intersection = line1.intersection(line2).intersection(line3).pop()\n",
    "        priorities += get_priority(intersection)\n",
    "        line1 = csvfile.readline()\n",
    "        line2 = csvfile.readline()\n",
    "        line3 = csvfile.readline()\n",
    "    csvfile.close()\n",
    "print(priorities)"
   ]
  }
 ],
 "metadata": {
  "kernelspec": {
   "display_name": "Python 3 (ipykernel)",
   "language": "python",
   "name": "python3"
  },
  "language_info": {
   "codemirror_mode": {
    "name": "ipython",
    "version": 3
   },
   "file_extension": ".py",
   "mimetype": "text/x-python",
   "name": "python",
   "nbconvert_exporter": "python",
   "pygments_lexer": "ipython3",
   "version": "3.8.12"
  }
 },
 "nbformat": 4,
 "nbformat_minor": 5
}
