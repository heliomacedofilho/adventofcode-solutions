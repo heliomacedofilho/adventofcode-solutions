{
 "cells": [
  {
   "cell_type": "markdown",
   "id": "1c4afe9f-4968-4069-849c-906f1a456da6",
   "metadata": {},
   "source": [
    "Part 01"
   ]
  },
  {
   "cell_type": "code",
   "execution_count": 1,
   "id": "22417bdd-9d30-49f1-b8e8-757d237fa117",
   "metadata": {},
   "outputs": [],
   "source": [
    "import re"
   ]
  },
  {
   "cell_type": "code",
   "execution_count": 2,
   "id": "dcaf0faf-89b9-4238-854a-3c220c9524a3",
   "metadata": {},
   "outputs": [],
   "source": [
    "first_lines = []\n",
    "last_lines = []\n",
    "with open('input05.txt', mode='r') as csvfile:\n",
    "    line = csvfile.readline()\n",
    "    while (line.strip() != ''):\n",
    "        first_lines.append(line)\n",
    "        line = csvfile.readline().strip()\n",
    "    line = csvfile.readline()\n",
    "    while (line != ''):\n",
    "        last_lines.append(line)\n",
    "        line = csvfile.readline().strip()\n",
    "    csvfile.close()\n",
    "last_lines = [re.findall('move (\\d+) from (\\d+) to (\\d+)', line) for line in last_lines]"
   ]
  },
  {
   "cell_type": "code",
   "execution_count": 3,
   "id": "d7387674-64eb-49ed-9534-9f87d0427079",
   "metadata": {},
   "outputs": [],
   "source": [
    "stack_keys = re.findall('\\w*(\\d+)\\w*', first_lines[-1])\n",
    "table = {int(key): [] for key in stack_keys}\n",
    "for line in first_lines[-2::-1]:\n",
    "    row = re.findall('(\\s{3,4}|\\[\\w\\][ ]{0,1})', line)\n",
    "    for idx, crate in enumerate(row):\n",
    "        if crate.strip() != '':\n",
    "            table[idx+1].append(crate.strip()[1:-1])"
   ]
  },
  {
   "cell_type": "code",
   "execution_count": 4,
   "id": "8de16e4c-442f-4db8-b84e-89db03d99c62",
   "metadata": {},
   "outputs": [],
   "source": [
    "for line in last_lines:\n",
    "    repeat, origin, destination = line[0]\n",
    "    repeat, origin, destination = int(repeat), int(origin), int(destination)\n",
    "    for _ in range(repeat):\n",
    "        x = table[origin].pop()\n",
    "        table[destination].append(x)"
   ]
  },
  {
   "cell_type": "code",
   "execution_count": 5,
   "id": "ad575713-6cf1-4343-b777-50f326eec281",
   "metadata": {},
   "outputs": [
    {
     "name": "stdout",
     "output_type": "stream",
     "text": [
      "QNNTGTPFN\n"
     ]
    }
   ],
   "source": [
    "answer = ''\n",
    "for stack in table:\n",
    "    answer += table[stack].pop()\n",
    "print(answer)"
   ]
  },
  {
   "cell_type": "raw",
   "id": "c4c97ac6-1451-4a20-8b00-c9b86ee4737b",
   "metadata": {},
   "source": [
    "Part 02"
   ]
  },
  {
   "cell_type": "code",
   "execution_count": 6,
   "id": "c1ad176a-6cfd-41d7-9ef2-9d3ef11888e2",
   "metadata": {},
   "outputs": [],
   "source": [
    "import re"
   ]
  },
  {
   "cell_type": "code",
   "execution_count": 7,
   "id": "0b72ca5a-e720-4aa6-8519-dcb88d96980b",
   "metadata": {},
   "outputs": [],
   "source": [
    "first_lines = []\n",
    "last_lines = []\n",
    "with open('input05.txt', mode='r') as csvfile:\n",
    "    line = csvfile.readline()\n",
    "    while (line.strip() != ''):\n",
    "        first_lines.append(line)\n",
    "        line = csvfile.readline().strip()\n",
    "    line = csvfile.readline()\n",
    "    while (line != ''):\n",
    "        last_lines.append(line)\n",
    "        line = csvfile.readline().strip()\n",
    "    csvfile.close()\n",
    "last_lines = [re.findall('move (\\d+) from (\\d+) to (\\d+)', line) for line in last_lines]"
   ]
  },
  {
   "cell_type": "code",
   "execution_count": 8,
   "id": "abe86cb6-7e37-4bd0-a231-2b0ad9692c8d",
   "metadata": {},
   "outputs": [],
   "source": [
    "stack_keys = re.findall('\\w*(\\d+)\\w*', first_lines[-1])\n",
    "table = {int(key): [] for key in stack_keys}\n",
    "for line in first_lines[-2::-1]:\n",
    "    row = re.findall('(\\s{3,4}|\\[\\w\\][ ]{0,1})', line)\n",
    "    for idx, crate in enumerate(row):\n",
    "        if crate.strip() != '':\n",
    "            table[idx+1].append(crate.strip()[1:-1])"
   ]
  },
  {
   "cell_type": "code",
   "execution_count": 9,
   "id": "f3c893a1-8ad3-4905-a981-142266c197a1",
   "metadata": {},
   "outputs": [],
   "source": [
    "for line in last_lines:\n",
    "    repeat, origin, destination = line[0]\n",
    "    repeat, origin, destination = int(repeat), int(origin), int(destination)\n",
    "    mover_stack = []\n",
    "    for _ in range(repeat):\n",
    "        x = table[origin].pop()\n",
    "        mover_stack.append(x)\n",
    "    for _ in range(repeat):\n",
    "        x = mover_stack.pop()\n",
    "        table[destination].append(x)"
   ]
  },
  {
   "cell_type": "code",
   "execution_count": 10,
   "id": "292d6e4a-6324-4af8-b3b5-1896096b96de",
   "metadata": {},
   "outputs": [
    {
     "name": "stdout",
     "output_type": "stream",
     "text": [
      "GGNPJBTTR\n"
     ]
    }
   ],
   "source": [
    "answer = ''\n",
    "for stack in table:\n",
    "    answer += table[stack].pop()\n",
    "print(answer)"
   ]
  },
  {
   "cell_type": "code",
   "execution_count": null,
   "id": "2ad74cb4-66b4-42b1-81bc-e775c942e483",
   "metadata": {},
   "outputs": [],
   "source": []
  }
 ],
 "metadata": {
  "kernelspec": {
   "display_name": "Python 3 (ipykernel)",
   "language": "python",
   "name": "python3"
  },
  "language_info": {
   "codemirror_mode": {
    "name": "ipython",
    "version": 3
   },
   "file_extension": ".py",
   "mimetype": "text/x-python",
   "name": "python",
   "nbconvert_exporter": "python",
   "pygments_lexer": "ipython3",
   "version": "3.8.12"
  }
 },
 "nbformat": 4,
 "nbformat_minor": 5
}
