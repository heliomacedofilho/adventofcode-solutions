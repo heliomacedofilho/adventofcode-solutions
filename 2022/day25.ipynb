{
 "cells": [
  {
   "cell_type": "code",
   "execution_count": 1,
   "id": "14b22f53-0882-40a4-bb82-8b63896983de",
   "metadata": {},
   "outputs": [],
   "source": [
    "def load_fuel_requirements():\n",
    "    with open('input25.txt') as csvfile: return [snafu.strip() for snafu in csvfile.readlines()]"
   ]
  },
  {
   "cell_type": "code",
   "execution_count": 2,
   "id": "69e99565-deca-4183-8037-5efcb5977830",
   "metadata": {},
   "outputs": [],
   "source": [
    "def encode(decimal):\n",
    "    def encode_helper(decimal):\n",
    "        if decimal:\n",
    "            quotient, remainder = decimal // 5, decimal % 5\n",
    "            return [remainder-5] + encode_helper(quotient+1) if remainder > 2 else [remainder] + encode_helper(quotient)\n",
    "        else: return []\n",
    "    \n",
    "    return ''.join([{-2: '=', -1: '-'}.get(digit, str(digit)) for digit in encode_helper(decimal)[::-1]])"
   ]
  },
  {
   "cell_type": "code",
   "execution_count": 3,
   "id": "265999ba-d21d-4470-baf0-7523bdca4018",
   "metadata": {},
   "outputs": [],
   "source": [
    "def decode(snafu):\n",
    "    return sum(({'=': -2, '-': -1, '0': 0, '1': 1, '2': 2}[c] * (5**idx)) for idx, c in enumerate(snafu[::-1]))"
   ]
  },
  {
   "cell_type": "code",
   "execution_count": 4,
   "id": "7f281b9d-fc4a-4b71-9baf-9e2273826aab",
   "metadata": {},
   "outputs": [],
   "source": [
    "def sum_of_fuel_requirements():\n",
    "    return encode(sum(decode(snafu) for snafu in load_fuel_requirements()))"
   ]
  },
  {
   "cell_type": "markdown",
   "id": "b246ee08-ad8e-427d-abaa-b0801e799771",
   "metadata": {},
   "source": [
    "Part 01"
   ]
  },
  {
   "cell_type": "code",
   "execution_count": 5,
   "id": "8a7c9b0e-4bb2-4337-add4-d19d071404a7",
   "metadata": {},
   "outputs": [
    {
     "data": {
      "text/plain": [
       "'2-1=10=1=1==2-1=-221'"
      ]
     },
     "execution_count": 5,
     "metadata": {},
     "output_type": "execute_result"
    }
   ],
   "source": [
    "answer = sum_of_fuel_requirements()\n",
    "answer"
   ]
  }
 ],
 "metadata": {
  "kernelspec": {
   "display_name": "Python 3 (ipykernel)",
   "language": "python",
   "name": "python3"
  },
  "language_info": {
   "codemirror_mode": {
    "name": "ipython",
    "version": 3
   },
   "file_extension": ".py",
   "mimetype": "text/x-python",
   "name": "python",
   "nbconvert_exporter": "python",
   "pygments_lexer": "ipython3",
   "version": "3.8.12"
  }
 },
 "nbformat": 4,
 "nbformat_minor": 5
}
