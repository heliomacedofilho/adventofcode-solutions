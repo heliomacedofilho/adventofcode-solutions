{
 "cells": [
  {
   "cell_type": "code",
   "execution_count": 1,
   "id": "f3c0017a-7a97-47c3-8122-25f34c203ae5",
   "metadata": {},
   "outputs": [],
   "source": [
    "def compare_packets(packet1, packet2, idx=0):\n",
    "    if idx == len(packet1) and idx == len(packet2):\n",
    "        return 0\n",
    "    elif idx == len(packet1):\n",
    "        return -1\n",
    "    elif idx == len(packet2):\n",
    "        return +1\n",
    "    else:\n",
    "        if type(packet1[idx]) == int and type(packet2[idx]) == int:\n",
    "            if packet1[idx] < packet2[idx]:\n",
    "                return -1\n",
    "            elif packet1[idx] > packet2[idx]:\n",
    "                return +1\n",
    "            else:\n",
    "                return compare_packets(packet1, packet2, idx+1)\n",
    "        elif type(packet1[idx]) == list and type(packet2[idx]) == list:\n",
    "            packets_compared = compare_packets(packet1[idx], packet2[idx], 0)\n",
    "            if packets_compared == 0:\n",
    "                return compare_packets(packet1, packet2, idx+1)\n",
    "            else:\n",
    "                return packets_compared\n",
    "        else:\n",
    "            if type(packet1[idx]) == int:\n",
    "                packet1[idx] = [packet1[idx]]\n",
    "                return compare_packets(packet1, packet2, idx)\n",
    "            else:\n",
    "                packet2[idx] = [packet2[idx]]\n",
    "                return compare_packets(packet1, packet2, idx)"
   ]
  },
  {
   "cell_type": "code",
   "execution_count": 2,
   "id": "e8fe082e-40bf-4439-ad86-d1dce080fbfa",
   "metadata": {},
   "outputs": [],
   "source": [
    "with open('input13.txt') as csvfile:\n",
    "    packets = [eval(packet.strip()) for packet in csvfile.readlines() if packet.strip() != '']"
   ]
  },
  {
   "cell_type": "code",
   "execution_count": 3,
   "id": "26863377-5721-4239-a8e0-3e92dba7aed8",
   "metadata": {},
   "outputs": [],
   "source": [
    "answer = sum([1 + i//2 for i in range(0, len(packets), +2) if compare_packets(packets[i], packets[i+1]) == -1])"
   ]
  },
  {
   "cell_type": "markdown",
   "id": "9e2944be-f669-4260-aa2d-c6f29588f8de",
   "metadata": {},
   "source": [
    "Part 02"
   ]
  },
  {
   "cell_type": "code",
   "execution_count": 4,
   "id": "2aa96b68-2314-42e8-b4b9-13da47cf6ce3",
   "metadata": {},
   "outputs": [
    {
     "data": {
      "text/plain": [
       "23049"
      ]
     },
     "execution_count": 4,
     "metadata": {},
     "output_type": "execute_result"
    }
   ],
   "source": [
    "from functools import cmp_to_key\n",
    "\n",
    "divider_packets = [[[2]], [[6]]]\n",
    "sorted_packets = sorted(packets + divider_packets, key=cmp_to_key(compare_packets))\n",
    "answer = 1*(1+sorted_packets.index(divider_packets[0]))*(1+sorted_packets.index(divider_packets[1]))\n",
    "answer"
   ]
  }
 ],
 "metadata": {
  "kernelspec": {
   "display_name": "Python 3 (ipykernel)",
   "language": "python",
   "name": "python3"
  },
  "language_info": {
   "codemirror_mode": {
    "name": "ipython",
    "version": 3
   },
   "file_extension": ".py",
   "mimetype": "text/x-python",
   "name": "python",
   "nbconvert_exporter": "python",
   "pygments_lexer": "ipython3",
   "version": "3.8.12"
  }
 },
 "nbformat": 4,
 "nbformat_minor": 5
}
