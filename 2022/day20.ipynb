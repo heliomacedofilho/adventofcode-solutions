{
 "cells": [
  {
   "cell_type": "code",
   "execution_count": 1,
   "id": "74134d41-8550-45da-b3e2-f1be0238e9d2",
   "metadata": {},
   "outputs": [],
   "source": [
    "class Coordinate():\n",
    "    def __init__(self, value, decription_key = None):\n",
    "        self.value = int(value) if decription_key is None else int(value)*decription_key"
   ]
  },
  {
   "cell_type": "code",
   "execution_count": 2,
   "id": "59c9fa6a-d533-40f0-aa0e-67a82048c96a",
   "metadata": {},
   "outputs": [],
   "source": [
    "def mix(sequence, idx):\n",
    "    positions = [idx, (idx+sequence[idx].value) % (len(sequence)-1)]\n",
    "    if positions[0] < positions[1]:\n",
    "        return sequence[:positions[0]] + sequence[positions[0]+1:positions[1]+1] + sequence[positions[0]:positions[0]+1] + sequence[positions[1]+1:]\n",
    "    else:\n",
    "        return sequence[:positions[1]] + sequence[positions[0]:positions[0]+1] + sequence[positions[1]:positions[0]] + sequence[positions[0]+1:]\n",
    "\n",
    "def epoch(original_order, sequence):\n",
    "    for idx in range(len(original_order)):\n",
    "        mapped_idx = sequence.index(original_order[idx])\n",
    "        sequence = mix(sequence, mapped_idx)\n",
    "    return sequence\n",
    "\n",
    "def three_sum(original_order, sequence, n_epochs = 1):\n",
    "    for _ in range(n_epochs):\n",
    "        sequence = epoch(original_order, sequence)\n",
    "    zero_idx = [idx for idx in range(len(sequence)) if sequence[idx].value == 0][0]\n",
    "    return sum([sequence[(zero_idx+i) % len(sequence)].value for i in range(1000, 3001, 1000)])"
   ]
  },
  {
   "cell_type": "markdown",
   "id": "fd1fde06-f381-4688-8ab1-8cf6458f6cdb",
   "metadata": {},
   "source": [
    "Part 01"
   ]
  },
  {
   "cell_type": "code",
   "execution_count": 3,
   "id": "cc9a4e7e-0616-4d47-92f2-f20696c8b994",
   "metadata": {},
   "outputs": [
    {
     "data": {
      "text/plain": [
       "15297"
      ]
     },
     "execution_count": 3,
     "metadata": {},
     "output_type": "execute_result"
    }
   ],
   "source": [
    "with open('input20.txt') as csvfile:\n",
    "    sequence = [Coordinate(x.strip()) for x in csvfile.readlines()]\n",
    "original_order = sequence[:]\n",
    "three_sum(original_order, sequence)"
   ]
  },
  {
   "cell_type": "markdown",
   "id": "b58fe0aa-622a-4e6c-a9a3-70650a9a7b93",
   "metadata": {},
   "source": [
    "Part 02"
   ]
  },
  {
   "cell_type": "code",
   "execution_count": 4,
   "id": "4de42370-6d57-427e-9c5f-bd2d5f45e8c6",
   "metadata": {},
   "outputs": [
    {
     "data": {
      "text/plain": [
       "2897373276210"
      ]
     },
     "execution_count": 4,
     "metadata": {},
     "output_type": "execute_result"
    }
   ],
   "source": [
    "with open('input20.txt') as csvfile:\n",
    "    sequence = [Coordinate(x.strip(), decription_key = 811589153) for x in csvfile.readlines()]\n",
    "original_order = sequence[:]\n",
    "three_sum(original_order, sequence, n_epochs = 10)"
   ]
  }
 ],
 "metadata": {
  "kernelspec": {
   "display_name": "Python 3 (ipykernel)",
   "language": "python",
   "name": "python3"
  },
  "language_info": {
   "codemirror_mode": {
    "name": "ipython",
    "version": 3
   },
   "file_extension": ".py",
   "mimetype": "text/x-python",
   "name": "python",
   "nbconvert_exporter": "python",
   "pygments_lexer": "ipython3",
   "version": "3.8.12"
  }
 },
 "nbformat": 4,
 "nbformat_minor": 5
}
