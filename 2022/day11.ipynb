{
 "cells": [
  {
   "cell_type": "code",
   "execution_count": 1,
   "id": "e3bedbdd-967b-4eb5-8992-1e5d58c73aae",
   "metadata": {},
   "outputs": [],
   "source": [
    "class Monkey():\n",
    "    map_str_to_operator = {'*': int.__mul__, '/': int.__floordiv__, '+': int.__add__, '-': int.__sub__}\n",
    "    def __init__(self, monkey_id, initial_priorities, raw_operation, test, monkey_false, monkey_true):\n",
    "        self.monkey_id = monkey_id\n",
    "        self.priorities = initial_priorities\n",
    "        self.operation = lambda x: self.map_str_to_operator[raw_operation[1]](x if raw_operation[0] == 'old' else int(raw_operation[0]), x if raw_operation[2] == 'old' else int(raw_operation[2]))\n",
    "        self.test = lambda x: x % test == 0\n",
    "        self.monkey_false = monkey_false\n",
    "        self.monkey_true = monkey_true\n",
    "        self.inspections = 0\n",
    "        self.tests = 1\n",
    "    \n",
    "    def add_priority(self, priority):\n",
    "        self.priorities.append(priority)\n",
    "    \n",
    "    def manage_priority_part01(self, priority):\n",
    "        return priority//3\n",
    "    \n",
    "    def manage_priority_part02(self, priority):\n",
    "        return priority % self.tests\n",
    "    \n",
    "    def turn(self):\n",
    "        output = []\n",
    "        for priority in self.priorities:\n",
    "            #inspect\n",
    "            self.inspections += 1\n",
    "            #update worry level after inspection\n",
    "            new_priority = self.operation(priority)\n",
    "            #update worry level after relief\n",
    "            new_new_priority = self.manage_priority_part02(new_priority)\n",
    "            #test to route item\n",
    "            if self.test(new_new_priority):\n",
    "                output.append((self.monkey_true, new_new_priority))\n",
    "            else:\n",
    "                output.append((self.monkey_false, new_new_priority))\n",
    "        self.priorities = []\n",
    "        return output"
   ]
  },
  {
   "cell_type": "code",
   "execution_count": 2,
   "id": "f08f83d7-dff9-4c46-9e7f-5dbc3717af66",
   "metadata": {},
   "outputs": [],
   "source": [
    "import re\n",
    "with open('input11.txt', mode='r') as csvfile:\n",
    "    buffer = [x.strip() for x in csvfile.readlines()]\n",
    "    csvfile.close()\n",
    "\n",
    "n_monkeys = (len(buffer) + 1)//7\n",
    "monkey_list = [None]*n_monkeys\n",
    "tests=1\n",
    "\n",
    "for i in range(n_monkeys):\n",
    "    monkey_id = int(re.findall('(\\d+)', buffer[i*7])[0])\n",
    "    priorities = [int(x) for x in re.findall('(\\d+)', buffer[i*7+1])]\n",
    "    operation = re.findall('= (\\w+|\\d+) (\\S) (\\w+|\\d+)', buffer[i*7+2])[0]\n",
    "    test = int(re.findall('(\\d+)', buffer[i*7+3])[0])\n",
    "    monkey_true = int(re.findall('(\\d+)', buffer[i*7+4])[0])\n",
    "    monkey_false = int(re.findall('(\\d+)', buffer[i*7+5])[0])\n",
    "    monkey_list[i] = Monkey(monkey_id, priorities, operation, test, monkey_false, monkey_true)\n",
    "    \n",
    "    tests*=test"
   ]
  },
  {
   "cell_type": "code",
   "execution_count": 3,
   "id": "8694f3c8-2727-4e00-9ff7-20d63a86a4ad",
   "metadata": {},
   "outputs": [],
   "source": [
    "for monkey in monkey_list:\n",
    "    monkey.tests = tests"
   ]
  },
  {
   "cell_type": "code",
   "execution_count": 4,
   "id": "dd8e3720-188e-4bb9-86f2-44b83dab9391",
   "metadata": {},
   "outputs": [],
   "source": [
    "for _ in range(10_000):\n",
    "    for monkey in monkey_list:\n",
    "        routes = monkey.turn()\n",
    "        for route in routes:\n",
    "            monkey_list[route[0]].add_priority(route[1])"
   ]
  },
  {
   "cell_type": "code",
   "execution_count": 5,
   "id": "44e4c299-99af-4b33-a88c-791a38b13033",
   "metadata": {},
   "outputs": [
    {
     "data": {
      "text/plain": [
       "30599555965"
      ]
     },
     "execution_count": 5,
     "metadata": {},
     "output_type": "execute_result"
    }
   ],
   "source": [
    "monkey_inspections = []\n",
    "for monkey in monkey_list:\n",
    "    monkey_inspections.append(monkey.inspections)\n",
    "monkey_inspections.sort()\n",
    "monkey_inspections[-1]*monkey_inspections[-2]"
   ]
  },
  {
   "cell_type": "code",
   "execution_count": null,
   "id": "8130b3c6-1bf5-4bcb-8d97-897fb194e65e",
   "metadata": {},
   "outputs": [],
   "source": []
  }
 ],
 "metadata": {
  "kernelspec": {
   "display_name": "Python 3 (ipykernel)",
   "language": "python",
   "name": "python3"
  },
  "language_info": {
   "codemirror_mode": {
    "name": "ipython",
    "version": 3
   },
   "file_extension": ".py",
   "mimetype": "text/x-python",
   "name": "python",
   "nbconvert_exporter": "python",
   "pygments_lexer": "ipython3",
   "version": "3.8.12"
  }
 },
 "nbformat": 4,
 "nbformat_minor": 5
}
