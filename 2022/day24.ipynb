{
 "cells": [
  {
   "cell_type": "code",
   "execution_count": 1,
   "id": "1d451cab-4750-428e-bd92-b012617f48cb",
   "metadata": {},
   "outputs": [],
   "source": [
    "def load_blizzards():\n",
    "    with open('input24.txt') as csvfile:\n",
    "        matrix = [[c for c in line.strip()[1:-1]] for line in csvfile.readlines()[1:-1]]\n",
    "        height, width = len(matrix), len(matrix[0])\n",
    "        blizzards = {(i, j): [matrix[i][j]] for i, j in [(i,j) for j in range(len(matrix[0])) for i in range(len(matrix))] if matrix[i][j] != '.'}\n",
    "    return blizzards, height, width"
   ]
  },
  {
   "cell_type": "code",
   "execution_count": 2,
   "id": "3d8b4acf-ec2f-4d6a-95eb-5299e9c4490b",
   "metadata": {},
   "outputs": [],
   "source": [
    "def next_blizzard_position(position, blizzard, height, width):\n",
    "    return ((position[0] + (-1 if blizzard == '^' else (+1 if blizzard == 'v' else 0))) % height,\\\n",
    "            (position[1] + (-1 if blizzard == '<' else (+1 if blizzard == '>' else 0))) % width)"
   ]
  },
  {
   "cell_type": "code",
   "execution_count": 3,
   "id": "5e3297a9-9965-42a2-8a1e-014a70577ec4",
   "metadata": {},
   "outputs": [],
   "source": [
    "def next_minute(blizzards, height, width):\n",
    "    next_blizzards = {}\n",
    "    for position in blizzards:\n",
    "        for blizzard in blizzards[position]:\n",
    "            next_position = next_blizzard_position(position, blizzard, height, width)\n",
    "            if next_position in next_blizzards:\n",
    "                next_blizzards[next_position].append(blizzard)\n",
    "            else:\n",
    "                next_blizzards[next_position] = [blizzard]\n",
    "    return next_blizzards"
   ]
  },
  {
   "cell_type": "code",
   "execution_count": 4,
   "id": "d63a3d5d-f4c3-4655-bddf-2aabfc832a6f",
   "metadata": {},
   "outputs": [],
   "source": [
    "def all_blizzards(blizzards, height, width):\n",
    "    all_blizzards = [blizzards]\n",
    "    for _ in range(height*width-1):\n",
    "        all_blizzards.append(next_minute(all_blizzards[-1], height, width))\n",
    "    return all_blizzards"
   ]
  },
  {
   "cell_type": "code",
   "execution_count": 5,
   "id": "20ac8070-08b8-474b-9b65-86e3b2c18c09",
   "metadata": {},
   "outputs": [],
   "source": [
    "def maze(blizzards_iter, height, width, forward = True, minute = 1):\n",
    "    begin, end = (-1,0), (height-1, width-1)\n",
    "    if not forward:\n",
    "        begin, end = (height, width-1), (0,0)\n",
    "    \n",
    "    positions = set()\n",
    "    positions.add(begin)\n",
    "    \n",
    "    while(end not in positions):\n",
    "        current_blizzards = blizzards_iter[minute % (height*width)]\n",
    "\n",
    "        positions_to_delete = set()\n",
    "        positions_to_add = set()\n",
    "        for position in positions:\n",
    "            if position in current_blizzards:\n",
    "                positions_to_delete.add(position)\n",
    "\n",
    "            possible_next_moves = [(i,j) for i, j in [(position[0]-1,position[1]), \\\n",
    "                                                      (position[0]+1,position[1]), \\\n",
    "                                                      (position[0],position[1]-1), \\\n",
    "                                                      (position[0],position[1]+1)] if (0 <= i < height and 0 <= j < width)]\n",
    "            \n",
    "            for possible_next_move in possible_next_moves:\n",
    "                if possible_next_move not in current_blizzards:\n",
    "                    positions_to_add.add(possible_next_move)\n",
    "\n",
    "        positions -= positions_to_delete\n",
    "        positions |= positions_to_add\n",
    "        minute+=1\n",
    "\n",
    "    return minute"
   ]
  },
  {
   "cell_type": "markdown",
   "id": "c49dbd59-6b44-4574-8a46-aadeb8b2f07d",
   "metadata": {},
   "source": [
    "Part 01"
   ]
  },
  {
   "cell_type": "code",
   "execution_count": 6,
   "id": "ff477fd3-02a5-48cc-b6ac-683fca3d8e03",
   "metadata": {},
   "outputs": [
    {
     "name": "stdout",
     "output_type": "stream",
     "text": [
      "299\n"
     ]
    }
   ],
   "source": [
    "blizzards, height, width = load_blizzards()\n",
    "blizzards_iter = all_blizzards(blizzards, height, width)\n",
    "answer = maze(blizzards_iter, height, width)\n",
    "print(answer)"
   ]
  },
  {
   "cell_type": "markdown",
   "id": "c9478465-f724-4320-8757-1c94a81ba86f",
   "metadata": {},
   "source": [
    "Part 02"
   ]
  },
  {
   "cell_type": "code",
   "execution_count": 7,
   "id": "cda94201-7ec6-469a-8418-46e2905465a4",
   "metadata": {},
   "outputs": [
    {
     "name": "stdout",
     "output_type": "stream",
     "text": [
      "899\n"
     ]
    }
   ],
   "source": [
    "blizzards, height, width = load_blizzards()\n",
    "blizzards_iter = all_blizzards(blizzards, height, width)\n",
    "answer = 0\n",
    "for i in range(3):\n",
    "    answer = maze(blizzards_iter, height, width, (i%2) == 0, answer+1)\n",
    "print(answer)"
   ]
  }
 ],
 "metadata": {
  "kernelspec": {
   "display_name": "Python 3 (ipykernel)",
   "language": "python",
   "name": "python3"
  },
  "language_info": {
   "codemirror_mode": {
    "name": "ipython",
    "version": 3
   },
   "file_extension": ".py",
   "mimetype": "text/x-python",
   "name": "python",
   "nbconvert_exporter": "python",
   "pygments_lexer": "ipython3",
   "version": "3.8.12"
  }
 },
 "nbformat": 4,
 "nbformat_minor": 5
}
