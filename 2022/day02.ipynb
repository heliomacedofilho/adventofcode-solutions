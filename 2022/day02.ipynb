{
 "cells": [
  {
   "cell_type": "markdown",
   "id": "6ecd1896-aea0-4a2e-9958-1dd030bdcfa9",
   "metadata": {},
   "source": [
    "Part 01"
   ]
  },
  {
   "cell_type": "code",
   "execution_count": 1,
   "id": "bf1a4169-b343-435c-8503-47a678a68614",
   "metadata": {},
   "outputs": [],
   "source": [
    "ROCK = 'Rock'\n",
    "SCISSORS = 'Scissors'\n",
    "PAPER = 'Paper'"
   ]
  },
  {
   "cell_type": "code",
   "execution_count": 2,
   "id": "764b2158-727d-4ae9-bf4b-221e27e28b9b",
   "metadata": {},
   "outputs": [],
   "source": [
    "WIN = 'Win'\n",
    "DRAW = 'Draw'\n",
    "LOST = 'Lost'"
   ]
  },
  {
   "cell_type": "code",
   "execution_count": 3,
   "id": "92bc3dcd-abd5-4159-afdd-5a21af39162e",
   "metadata": {},
   "outputs": [],
   "source": [
    "outcome = {(ROCK, SCISSORS): WIN, (SCISSORS, PAPER): WIN, (PAPER, ROCK): WIN,\\\n",
    "           (ROCK, ROCK): DRAW, (SCISSORS, SCISSORS): DRAW, (PAPER, PAPER): DRAW,\\\n",
    "           (SCISSORS, ROCK): LOST, (PAPER, SCISSORS): LOST, (ROCK, PAPER): LOST}"
   ]
  },
  {
   "cell_type": "code",
   "execution_count": 4,
   "id": "49dcf95d-969e-47f4-b979-a2d7a8e9c6b9",
   "metadata": {},
   "outputs": [],
   "source": [
    "first_column_crypto = {'A': ROCK, 'B': PAPER, 'C': SCISSORS}"
   ]
  },
  {
   "cell_type": "code",
   "execution_count": 5,
   "id": "d594c396-7be8-459b-a5b9-e57d6ff3f3e0",
   "metadata": {},
   "outputs": [],
   "source": [
    "second_column_crypto = {'X': ROCK, 'Y': PAPER, 'Z': SCISSORS}"
   ]
  },
  {
   "cell_type": "code",
   "execution_count": 6,
   "id": "8aa60874-2bec-4754-9044-3b8e6b736f94",
   "metadata": {},
   "outputs": [],
   "source": [
    "shape_score = {ROCK: 1, PAPER: 2, SCISSORS: 3}"
   ]
  },
  {
   "cell_type": "code",
   "execution_count": 7,
   "id": "c6ed9ab0-dd35-46d9-8c9f-42518b14ea04",
   "metadata": {},
   "outputs": [],
   "source": [
    "outcome_score = {WIN: 6, DRAW: 3, LOST: 0}"
   ]
  },
  {
   "cell_type": "code",
   "execution_count": 8,
   "id": "94cd7ef1-4095-4df0-8566-7ed9494ffbf0",
   "metadata": {},
   "outputs": [
    {
     "name": "stdout",
     "output_type": "stream",
     "text": [
      "13682\n"
     ]
    }
   ],
   "source": [
    "final_score = 0\n",
    "with open('input02.txt', mode='r') as csvfile:\n",
    "    line = csvfile.readline()\n",
    "    while (line):\n",
    "        play = [play.strip() for play in line.split(' ')]\n",
    "        final_score += outcome_score[outcome[(second_column_crypto[play[1]], first_column_crypto[play[0]])]]\n",
    "        final_score += shape_score[second_column_crypto[play[1]]]\n",
    "        line = csvfile.readline()\n",
    "    csvfile.close()\n",
    "print(final_score)"
   ]
  },
  {
   "cell_type": "markdown",
   "id": "10319d4e-2973-4f46-a345-18c189c335cf",
   "metadata": {},
   "source": [
    "Part 02"
   ]
  },
  {
   "cell_type": "code",
   "execution_count": 9,
   "id": "d1f8653d-9197-47a5-a80a-44cbfd0fd88b",
   "metadata": {},
   "outputs": [],
   "source": [
    "ROCK = 'Rock'\n",
    "SCISSORS = 'Scissors'\n",
    "PAPER = 'Paper'"
   ]
  },
  {
   "cell_type": "code",
   "execution_count": 10,
   "id": "6c68f88e-979c-49c0-bb8f-f846f2c6a8dc",
   "metadata": {},
   "outputs": [],
   "source": [
    "WIN = 'Win'\n",
    "DRAW = 'Draw'\n",
    "LOST = 'Lost'"
   ]
  },
  {
   "cell_type": "code",
   "execution_count": 11,
   "id": "42f77ff6-d569-42b8-9e3e-1c5dc6dbf2eb",
   "metadata": {},
   "outputs": [],
   "source": [
    "first_column_crypto = {'A': ROCK, 'B': PAPER, 'C': SCISSORS}"
   ]
  },
  {
   "cell_type": "code",
   "execution_count": 12,
   "id": "05da58bb-73ca-4ef2-9402-978e8390fe0f",
   "metadata": {},
   "outputs": [],
   "source": [
    "second_column_crypto = {'X': LOST, 'Y': DRAW, 'Z': WIN}"
   ]
  },
  {
   "cell_type": "code",
   "execution_count": 13,
   "id": "ad5fa5ca-375e-495e-90f9-1704de86dfe9",
   "metadata": {},
   "outputs": [],
   "source": [
    "outcome = {(WIN, SCISSORS): ROCK, (WIN, PAPER): SCISSORS, (WIN, ROCK): PAPER,\\\n",
    "           (DRAW, ROCK): ROCK, (DRAW, SCISSORS): SCISSORS, (DRAW, PAPER): PAPER,\\\n",
    "           (LOST, ROCK): SCISSORS, (LOST, SCISSORS): PAPER, (LOST, PAPER): ROCK}"
   ]
  },
  {
   "cell_type": "code",
   "execution_count": 14,
   "id": "d5d60d51-de91-4aec-b4ad-4bd5df3ea231",
   "metadata": {},
   "outputs": [],
   "source": [
    "shape_score = {ROCK: 1, PAPER: 2, SCISSORS: 3}"
   ]
  },
  {
   "cell_type": "code",
   "execution_count": 15,
   "id": "80f0c086-addf-4b51-8b16-118cf56bb641",
   "metadata": {},
   "outputs": [],
   "source": [
    "outcome_score = {WIN: 6, DRAW: 3, LOST: 0}"
   ]
  },
  {
   "cell_type": "code",
   "execution_count": 16,
   "id": "5160ce77-5856-43c2-a269-af3ad55b63bf",
   "metadata": {},
   "outputs": [
    {
     "name": "stdout",
     "output_type": "stream",
     "text": [
      "12881\n"
     ]
    }
   ],
   "source": [
    "final_score = 0\n",
    "with open('input02.txt', mode='r') as csvfile:\n",
    "    line = csvfile.readline()\n",
    "    while (line):\n",
    "        play = [play.strip() for play in line.split(' ')]\n",
    "        move = second_column_crypto[play[1]]\n",
    "        opponent_object = first_column_crypto[play[0]]\n",
    "        my_object = outcome[(move, opponent_object)]\n",
    "        final_score += outcome_score[move]\n",
    "        final_score += shape_score[my_object]\n",
    "        line = csvfile.readline()\n",
    "    csvfile.close()\n",
    "print(final_score)"
   ]
  },
  {
   "cell_type": "code",
   "execution_count": null,
   "id": "9f891384-f2aa-423a-b59f-a82b260e3b1f",
   "metadata": {},
   "outputs": [],
   "source": []
  }
 ],
 "metadata": {
  "kernelspec": {
   "display_name": "Python 3 (ipykernel)",
   "language": "python",
   "name": "python3"
  },
  "language_info": {
   "codemirror_mode": {
    "name": "ipython",
    "version": 3
   },
   "file_extension": ".py",
   "mimetype": "text/x-python",
   "name": "python",
   "nbconvert_exporter": "python",
   "pygments_lexer": "ipython3",
   "version": "3.8.12"
  }
 },
 "nbformat": 4,
 "nbformat_minor": 5
}
