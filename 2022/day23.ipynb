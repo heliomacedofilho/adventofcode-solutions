{
 "cells": [
  {
   "cell_type": "code",
   "execution_count": 1,
   "id": "1aebb642-b320-4d70-a4ac-8e55de656695",
   "metadata": {},
   "outputs": [],
   "source": [
    "directions = ['NW', 'N', 'NE', 'E', 'SE', 'S', 'SW', 'W', 'NW']\n",
    "order_0 = ['N', 'S', 'W', 'E']"
   ]
  },
  {
   "cell_type": "code",
   "execution_count": 2,
   "id": "762ee11c-b281-4024-83a6-967967b16394",
   "metadata": {},
   "outputs": [],
   "source": [
    "def load_matrix():\n",
    "    with open('input23.txt') as csvfile:\n",
    "        return [[c for c in line.strip()] for line in csvfile.readlines()]"
   ]
  },
  {
   "cell_type": "code",
   "execution_count": 3,
   "id": "5edf5160-d4e0-4307-80d7-fef091b26288",
   "metadata": {},
   "outputs": [],
   "source": [
    "def smallest_rectangle_containing_elves(matrix):\n",
    "    min_x, max_x = min(line.index('#') for line in matrix if '#' in line), max(len(line) - line[::-1].index('#') - 1 for line in matrix if '#' in line)\n",
    "    for i in range(len(matrix)):\n",
    "        if '#' in matrix[i]: break\n",
    "    min_y = i\n",
    "    for i in range(len(matrix)-1, -1, -1):\n",
    "        if '#' in matrix[i]: break\n",
    "    max_y = i\n",
    "    return min_y, max_y, min_x, max_x"
   ]
  },
  {
   "cell_type": "code",
   "execution_count": 4,
   "id": "d9bb0592-f270-45b4-bacd-ca5bdfb880f6",
   "metadata": {},
   "outputs": [],
   "source": [
    "def crop_retangle(matrix, coordinates):\n",
    "    min_y, max_y, min_x, max_x = coordinates\n",
    "    return [line[min_x:max_x+1] for line in matrix[min_y:max_y+1]]"
   ]
  },
  {
   "cell_type": "code",
   "execution_count": 5,
   "id": "8811e2a6-9882-4512-8d51-64d8517bddb8",
   "metadata": {},
   "outputs": [],
   "source": [
    "def add_borders(matrix):\n",
    "    return [['.']*(len(matrix[0])+2)] + [['.'] + line + ['.'] for line in matrix] + [['.']*(len(matrix[0])+2)]"
   ]
  },
  {
   "cell_type": "code",
   "execution_count": 6,
   "id": "16b942b3-cd0c-464c-a8ca-a69252c14ea4",
   "metadata": {},
   "outputs": [],
   "source": [
    "def find_elves(matrix):\n",
    "    elves = []\n",
    "    for i in range(len(matrix)): elves.extend([(i, j) for j in range(len(matrix[i])) if matrix[i][j] == '#'])\n",
    "    return elves"
   ]
  },
  {
   "cell_type": "code",
   "execution_count": 7,
   "id": "b5266934-8baa-4147-bb5b-cbf1d36f9c4c",
   "metadata": {},
   "outputs": [],
   "source": [
    "def adjacent_position(matrix, position, direction):\n",
    "    next_position_y, next_position_x = position[:]\n",
    "    if 'N' in direction:\n",
    "        next_position_y -= 1\n",
    "    if 'S' in direction:\n",
    "        next_position_y += 1\n",
    "    if 'W' in direction:\n",
    "        next_position_x -= 1\n",
    "    if 'E' in direction:\n",
    "        next_position_x += 1\n",
    "    return (next_position_y, next_position_x)"
   ]
  },
  {
   "cell_type": "code",
   "execution_count": 8,
   "id": "7998b992-2e26-41b4-83dd-5099aedd8e33",
   "metadata": {},
   "outputs": [],
   "source": [
    "def access_matrix_position(matrix, position):\n",
    "    return matrix[position[0]][position[1]]"
   ]
  },
  {
   "cell_type": "code",
   "execution_count": 9,
   "id": "f2b36f88-724a-4e93-b492-9642ce235866",
   "metadata": {},
   "outputs": [],
   "source": [
    "def first_half_round(matrix, round_i = 0):\n",
    "    order_i = [order_0[i % len(order_0)] for i in range(round_i, round_i+4)]\n",
    "    first_half_propositions = {}\n",
    "    \n",
    "    for elf_position in find_elves(matrix):\n",
    "        if '#' in [access_matrix_position(matrix, adjacent_position(matrix, elf_position, direction)) for direction in directions]:\n",
    "            for orthogonal_direction in order_i:\n",
    "                if '#' not in [access_matrix_position(matrix, adjacent_position(matrix, elf_position, direction)) for direction in directions if orthogonal_direction in direction]:\n",
    "                    possible_adjacent_position = adjacent_position(matrix, elf_position, orthogonal_direction)\n",
    "                    if possible_adjacent_position in first_half_propositions:\n",
    "                        first_half_propositions[possible_adjacent_position].append(elf_position)\n",
    "                        break\n",
    "                    else:\n",
    "                        first_half_propositions[possible_adjacent_position] = [elf_position]\n",
    "                        break\n",
    "\n",
    "    return first_half_propositions"
   ]
  },
  {
   "cell_type": "code",
   "execution_count": 10,
   "id": "b47db69b-9409-45db-9d49-3523f93ec586",
   "metadata": {},
   "outputs": [],
   "source": [
    "def second_half_round(matrix, first_half_propositions):\n",
    "    for possible_adjacent_position in first_half_propositions:\n",
    "        if len(first_half_propositions[possible_adjacent_position]) == 1:\n",
    "            elf_position = first_half_propositions[possible_adjacent_position].pop()\n",
    "            matrix[elf_position[0]][elf_position[1]] = '.'\n",
    "            matrix[possible_adjacent_position[0]][possible_adjacent_position[1]] = '#'\n",
    "    return matrix"
   ]
  },
  {
   "cell_type": "code",
   "execution_count": 11,
   "id": "79553837-b979-40e8-ae16-290f001a8630",
   "metadata": {},
   "outputs": [],
   "source": [
    "def no_elves_moves(first_half_propositions):\n",
    "    for possible_adjacent_position in first_half_propositions:\n",
    "        if len(first_half_propositions[possible_adjacent_position]) == 1:\n",
    "            return False\n",
    "    return True"
   ]
  },
  {
   "cell_type": "code",
   "execution_count": 12,
   "id": "7ce32af6-8484-4f4a-a9b2-03cd6eafea92",
   "metadata": {},
   "outputs": [],
   "source": [
    "def process_elves_positions(n_rounds=10, return_stochastic_round = False):\n",
    "    matrix = load_matrix()\n",
    "    i = 0\n",
    "    while (return_stochastic_round or i < n_rounds):\n",
    "        matrix = add_borders(crop_retangle(matrix, smallest_rectangle_containing_elves(matrix)))\n",
    "        first_half_propositions = first_half_round(matrix, i)\n",
    "        if return_stochastic_round and no_elves_moves(first_half_propositions): return i+1\n",
    "        matrix = second_half_round(matrix, first_half_propositions)\n",
    "        i+=1\n",
    "\n",
    "    return crop_retangle(matrix, smallest_rectangle_containing_elves(matrix))"
   ]
  },
  {
   "cell_type": "code",
   "execution_count": 13,
   "id": "d2fdf56f-b666-4c5f-8fba-9e501b9a0534",
   "metadata": {},
   "outputs": [],
   "source": [
    "def empty_ground_tiles(matrix):\n",
    "    return sum(line.count('.') for line in matrix)"
   ]
  },
  {
   "cell_type": "markdown",
   "id": "f3ee6324-21e3-4f2f-b936-45af609a7134",
   "metadata": {},
   "source": [
    "Part 01"
   ]
  },
  {
   "cell_type": "code",
   "execution_count": 14,
   "id": "47ce67da-7db1-4dc1-8aa4-51f0b06d61d9",
   "metadata": {},
   "outputs": [
    {
     "name": "stdout",
     "output_type": "stream",
     "text": [
      "4208\n"
     ]
    }
   ],
   "source": [
    "matrix = process_elves_positions(n_rounds = 10)\n",
    "answer = empty_ground_tiles(matrix)\n",
    "print(answer)"
   ]
  },
  {
   "cell_type": "markdown",
   "id": "523539fb-53f7-4f91-8d59-b79a16550e0c",
   "metadata": {},
   "source": [
    "Part 02"
   ]
  },
  {
   "cell_type": "code",
   "execution_count": 15,
   "id": "65e5b6b5-07ef-4637-9dc0-d6b0b7beffe3",
   "metadata": {},
   "outputs": [
    {
     "name": "stdout",
     "output_type": "stream",
     "text": [
      "1016\n"
     ]
    }
   ],
   "source": [
    "answer = process_elves_positions(return_stochastic_round = True)\n",
    "print(answer)"
   ]
  }
 ],
 "metadata": {
  "kernelspec": {
   "display_name": "Python 3 (ipykernel)",
   "language": "python",
   "name": "python3"
  },
  "language_info": {
   "codemirror_mode": {
    "name": "ipython",
    "version": 3
   },
   "file_extension": ".py",
   "mimetype": "text/x-python",
   "name": "python",
   "nbconvert_exporter": "python",
   "pygments_lexer": "ipython3",
   "version": "3.8.12"
  }
 },
 "nbformat": 4,
 "nbformat_minor": 5
}
