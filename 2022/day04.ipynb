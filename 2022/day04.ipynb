{
 "cells": [
  {
   "cell_type": "markdown",
   "id": "ec11535f-a0a2-4cf6-9963-58be6a0ec473",
   "metadata": {},
   "source": [
    "Part 01"
   ]
  },
  {
   "cell_type": "code",
   "execution_count": 1,
   "id": "925ab603-dbe7-4ade-9baf-906a8d927d95",
   "metadata": {},
   "outputs": [],
   "source": [
    "def is_proper_subset(first_interval, second_interval):\n",
    "    if (first_interval[0] <= second_interval[0] and first_interval[1] >= second_interval[1]) or \\\n",
    "        (second_interval[0] <= first_interval[0] and second_interval[1] >= first_interval[1]):\n",
    "        return 1\n",
    "    else:\n",
    "        return 0"
   ]
  },
  {
   "cell_type": "code",
   "execution_count": 2,
   "id": "4907b729-521c-4c72-86f1-c9d6db47484b",
   "metadata": {},
   "outputs": [
    {
     "name": "stdout",
     "output_type": "stream",
     "text": [
      "576\n"
     ]
    }
   ],
   "source": [
    "answer = 0\n",
    "with open('input04.txt', mode='r') as csvfile:\n",
    "    line = csvfile.readline()\n",
    "    while (line):\n",
    "        intervals = [interval.strip().split('-') for interval in line.split(',')]\n",
    "        first_interval = [int(interval) for interval in intervals[0]]\n",
    "        second_interval = [int(interval) for interval in intervals[1]]\n",
    "        answer += is_proper_subset(first_interval, second_interval)\n",
    "        line = csvfile.readline()\n",
    "    csvfile.close()\n",
    "print(answer)"
   ]
  },
  {
   "cell_type": "markdown",
   "id": "cb9b69e0-d79f-4d47-ab35-0c42881a02b0",
   "metadata": {},
   "source": [
    "Part 02"
   ]
  },
  {
   "cell_type": "code",
   "execution_count": 3,
   "id": "1f6e4f30-1491-46d0-a4b3-7948d29b5923",
   "metadata": {},
   "outputs": [],
   "source": [
    "def intersection(first_interval, second_interval):\n",
    "    first_set = set([i for i in range(first_interval[0], first_interval[1]+1)])\n",
    "    second_set = set([i for i in range(second_interval[0], second_interval[1]+1)])\n",
    "    return 1 if len(first_set.intersection(second_set)) else 0"
   ]
  },
  {
   "cell_type": "code",
   "execution_count": 4,
   "id": "23f0160c-f027-4581-9870-2e90f8111fcf",
   "metadata": {},
   "outputs": [
    {
     "name": "stdout",
     "output_type": "stream",
     "text": [
      "905\n"
     ]
    }
   ],
   "source": [
    "answer = 0\n",
    "with open('input04.txt', mode='r') as csvfile:\n",
    "    line = csvfile.readline()\n",
    "    while (line):\n",
    "        intervals = [interval.strip().split('-') for interval in line.split(',')]\n",
    "        first_interval = [int(interval) for interval in intervals[0]]\n",
    "        second_interval = [int(interval) for interval in intervals[1]]\n",
    "        answer += intersection(first_interval, second_interval)\n",
    "        line = csvfile.readline()\n",
    "    csvfile.close()\n",
    "print(answer)"
   ]
  }
 ],
 "metadata": {
  "kernelspec": {
   "display_name": "Python 3 (ipykernel)",
   "language": "python",
   "name": "python3"
  },
  "language_info": {
   "codemirror_mode": {
    "name": "ipython",
    "version": 3
   },
   "file_extension": ".py",
   "mimetype": "text/x-python",
   "name": "python",
   "nbconvert_exporter": "python",
   "pygments_lexer": "ipython3",
   "version": "3.8.12"
  }
 },
 "nbformat": 4,
 "nbformat_minor": 5
}
