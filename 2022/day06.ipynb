{
 "cells": [
  {
   "cell_type": "markdown",
   "id": "ddcbf131-a5b3-4516-9438-84a7cdd49ddd",
   "metadata": {},
   "source": [
    "Part 01"
   ]
  },
  {
   "cell_type": "code",
   "execution_count": 1,
   "id": "11653dfc-985b-47d7-889c-e88ebdb53158",
   "metadata": {},
   "outputs": [],
   "source": [
    "def setify(s):\n",
    "    new_set = set()\n",
    "    for c in s:\n",
    "        new_set.add(c)\n",
    "    if len(new_set) == 4:\n",
    "        return True\n",
    "    else:\n",
    "        return False    "
   ]
  },
  {
   "cell_type": "code",
   "execution_count": 2,
   "id": "1c80d2ae-73ef-4988-8c02-1fe57370aacf",
   "metadata": {},
   "outputs": [
    {
     "name": "stdout",
     "output_type": "stream",
     "text": [
      "1034\n"
     ]
    }
   ],
   "source": [
    "answer = 0\n",
    "with open('input06.txt', mode='r') as csvfile:\n",
    "    line = csvfile.readline().strip()\n",
    "    for i in range(4, len(line)):\n",
    "        if setify(line[i-4:i]):\n",
    "            answer = i\n",
    "            break\n",
    "print(answer)"
   ]
  },
  {
   "cell_type": "markdown",
   "id": "b4485443-789f-4bf7-930d-c44625d91673",
   "metadata": {},
   "source": [
    "Part 02"
   ]
  },
  {
   "cell_type": "code",
   "execution_count": 3,
   "id": "0697c2b0-a22c-4fce-9065-fe3fee2fb44b",
   "metadata": {},
   "outputs": [],
   "source": [
    "def setify(s):\n",
    "    new_set = set()\n",
    "    for c in s:\n",
    "        new_set.add(c)\n",
    "    if len(new_set) == 14:\n",
    "        return True\n",
    "    else:\n",
    "        return False"
   ]
  },
  {
   "cell_type": "code",
   "execution_count": 4,
   "id": "034d6454-0e81-4c45-9313-9f5e523f80b3",
   "metadata": {},
   "outputs": [
    {
     "name": "stdout",
     "output_type": "stream",
     "text": [
      "2472\n"
     ]
    }
   ],
   "source": [
    "answer = 0\n",
    "with open('input06.txt', mode='r') as csvfile:\n",
    "    line = csvfile.readline().strip()\n",
    "    for i in range(14, len(line)):\n",
    "        if setify(line[i-14:i]):\n",
    "            answer = i\n",
    "            break\n",
    "print(answer)"
   ]
  }
 ],
 "metadata": {
  "kernelspec": {
   "display_name": "Python 3 (ipykernel)",
   "language": "python",
   "name": "python3"
  },
  "language_info": {
   "codemirror_mode": {
    "name": "ipython",
    "version": 3
   },
   "file_extension": ".py",
   "mimetype": "text/x-python",
   "name": "python",
   "nbconvert_exporter": "python",
   "pygments_lexer": "ipython3",
   "version": "3.8.12"
  }
 },
 "nbformat": 4,
 "nbformat_minor": 5
}
