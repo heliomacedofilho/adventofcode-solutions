{
 "cells": [
  {
   "cell_type": "code",
   "execution_count": 1,
   "id": "efe5dccc-34a2-483e-bac3-e570df36a98d",
   "metadata": {},
   "outputs": [],
   "source": [
    "with open('input15.txt') as txtfile:\n",
    "    cave_risks = [[int(c) for c in line.strip()] for line in txtfile.readlines()]"
   ]
  },
  {
   "cell_type": "code",
   "execution_count": 2,
   "id": "169880f4-87a5-4809-bd98-cdca23994b5a",
   "metadata": {},
   "outputs": [],
   "source": [
    "expanded_cave_risks = [[0 for _ in range(5*len(cave_risks[0]))] for _ in range(5*len(cave_risks))]\n",
    "for i in range(len(expanded_cave_risks)):\n",
    "    for j in range(len(expanded_cave_risks[0])):\n",
    "        cave_risk_candidate = cave_risks[i % len(cave_risks)][j % len(cave_risks[0])] + (i // len(cave_risks)) + (j // len(cave_risks[0]))\n",
    "        expanded_cave_risks[i][j] = cave_risk_candidate if cave_risk_candidate < 10 else (1 + (cave_risk_candidate % 10))"
   ]
  },
  {
   "cell_type": "code",
   "execution_count": 3,
   "id": "3d7f2ad6-456d-44fa-a80a-08c07cae584f",
   "metadata": {},
   "outputs": [],
   "source": [
    "def lowest_risk_path(cave_risks, expanded = False):\n",
    "    min_risks = [[None for _ in range(len(cave_risks[0]))] for _ in range(len(cave_risks))]\n",
    "\n",
    "    reverse_order = True\n",
    "    for _ in range(15) if expanded else range(3):\n",
    "        reverse_order = not reverse_order\n",
    "        for i in (range(len(cave_risks))[::-1] if reverse_order else range(len(cave_risks))):\n",
    "            for j in range(len(cave_risks[0])):\n",
    "                adjacent_positions = [adjacent_position \\\n",
    "                                      for adjacent_position in [(i-1, j), (i, j-1), (i+1, j), (i, j+1)] \\\n",
    "                                      if 0 <= adjacent_position[0] < len(cave_risks) and \\\n",
    "                                         0 <= adjacent_position[1] < len(cave_risks[0]) and \\\n",
    "                                         min_risks[adjacent_position[0]][adjacent_position[1]] is not None]\n",
    "\n",
    "                possible_min_risk = cave_risks[i][j] + min(min_risks[neighbor[0]][neighbor[1]] for neighbor in adjacent_positions) if adjacent_positions else 0\n",
    "                min_risks[i][j] = possible_min_risk if min_risks[i][j] is None else min(min_risks[i][j], possible_min_risk)\n",
    "    return min_risks[-1][-1]"
   ]
  },
  {
   "cell_type": "markdown",
   "id": "4e0e027f-d944-4701-8b61-0b63a55009dc",
   "metadata": {},
   "source": [
    "Part 01"
   ]
  },
  {
   "cell_type": "code",
   "execution_count": 4,
   "id": "9981b9f2-eb5f-4056-93d2-71b1087d1083",
   "metadata": {},
   "outputs": [
    {
     "data": {
      "text/plain": [
       "656"
      ]
     },
     "execution_count": 4,
     "metadata": {},
     "output_type": "execute_result"
    }
   ],
   "source": [
    "lowest_risk_path(cave_risks)"
   ]
  },
  {
   "cell_type": "markdown",
   "id": "f0139643-606a-4552-bdab-841806db77e0",
   "metadata": {},
   "source": [
    "Part 02"
   ]
  },
  {
   "cell_type": "code",
   "execution_count": 5,
   "id": "b9e85151-3f9b-4ed5-8d76-fa9ee61e76d1",
   "metadata": {},
   "outputs": [
    {
     "data": {
      "text/plain": [
       "2979"
      ]
     },
     "execution_count": 5,
     "metadata": {},
     "output_type": "execute_result"
    }
   ],
   "source": [
    "lowest_risk_path(expanded_cave_risks, True)"
   ]
  }
 ],
 "metadata": {
  "kernelspec": {
   "display_name": "Python 3 (ipykernel)",
   "language": "python",
   "name": "python3"
  },
  "language_info": {
   "codemirror_mode": {
    "name": "ipython",
    "version": 3
   },
   "file_extension": ".py",
   "mimetype": "text/x-python",
   "name": "python",
   "nbconvert_exporter": "python",
   "pygments_lexer": "ipython3",
   "version": "3.8.12"
  }
 },
 "nbformat": 4,
 "nbformat_minor": 5
}
