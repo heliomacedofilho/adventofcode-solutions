{
 "cells": [
  {
   "cell_type": "code",
   "execution_count": 1,
   "id": "fe6a2b2a-4532-40f1-8ee6-672f48357974",
   "metadata": {},
   "outputs": [],
   "source": [
    "with open('input20.txt') as txtfile:\n",
    "    lines = [line.strip() for line in txtfile.readlines()]\n",
    "    image_enhancement_algorithm = lines[0]\n",
    "    image = lines[2:]"
   ]
  },
  {
   "cell_type": "code",
   "execution_count": 2,
   "id": "74ebea10-b3ac-422e-a445-89f5c30a5697",
   "metadata": {},
   "outputs": [],
   "source": [
    "def kernel(output_pixel):\n",
    "    return [[i,j] for i in range(output_pixel[0]-1, output_pixel[0]+2) for j in range(output_pixel[1]-1, output_pixel[1]+2)]"
   ]
  },
  {
   "cell_type": "code",
   "execution_count": 3,
   "id": "1898bb7b-1662-4cf5-b73d-ce6eb7f77a3a",
   "metadata": {},
   "outputs": [],
   "source": [
    "def raster_kernel(window, image):\n",
    "    return [image[cell[0]][cell[1]] for cell in window]"
   ]
  },
  {
   "cell_type": "code",
   "execution_count": 4,
   "id": "d41d1530-e45c-4cfd-a8d2-d597d28d0ac7",
   "metadata": {},
   "outputs": [],
   "source": [
    "def binary(raster):\n",
    "    binary = 0b0\n",
    "    for bit in [0b1 if pixel == '#' else 0b0 for pixel in raster]:\n",
    "        binary = (binary << 1 | bit)\n",
    "    return binary"
   ]
  },
  {
   "cell_type": "code",
   "execution_count": 5,
   "id": "4d080145-d926-4261-bce8-479734828573",
   "metadata": {},
   "outputs": [],
   "source": [
    "def output_pixel(input_image, position):\n",
    "    return image_enhancement_algorithm[binary(raster_kernel(kernel([position[0],position[1]]), input_image))]"
   ]
  },
  {
   "cell_type": "code",
   "execution_count": 6,
   "id": "e625356e-3bda-4213-86bf-be609497b62c",
   "metadata": {},
   "outputs": [],
   "source": [
    "def resize_image(image, fat=4):\n",
    "    pad_left, pad_right = min(line.index('#') for line in image if '#' in line), min(line[::-1].index('#') for line in image if '#' in line)\n",
    "    pad_up, pad_down = min(i for i in range(len(image)) if '#' in image[i]), min(i for i in range(len(image)) if '#' in image[::-1][i]), \n",
    "    return  ['.'*(2*fat-pad_left-pad_right+len(image[0])) for _ in range(fat-pad_up)] + \\\n",
    "            ['.'*(fat-pad_left) + row + '.'*(fat-pad_right) for row in image] + \\\n",
    "            ['.'*(2*fat-pad_left-pad_right+len(image[0])) for _ in range(fat-pad_down)]"
   ]
  },
  {
   "cell_type": "code",
   "execution_count": 7,
   "id": "72496efd-8c75-4010-a62a-2099037928fa",
   "metadata": {},
   "outputs": [],
   "source": [
    "def one_epoch(image):\n",
    "    return [''.join([output_pixel(image, [i,j]) \\\n",
    "                     for j in range(1, len(image[0])-1)]) \\\n",
    "            for i in range(1, len(image)-1)]"
   ]
  },
  {
   "cell_type": "code",
   "execution_count": 8,
   "id": "f92c482a-c2d1-4bb1-9331-decc7ed48abc",
   "metadata": {},
   "outputs": [],
   "source": [
    "def print_image(image):\n",
    "    for row in image:\n",
    "        print(row)\n",
    "    print()"
   ]
  },
  {
   "cell_type": "code",
   "execution_count": 9,
   "id": "2c182096-31c7-4d72-a599-75f2de38bb3e",
   "metadata": {},
   "outputs": [],
   "source": [
    "def enhance_image(image, n_epochs=2, fat=4):\n",
    "    for _ in range(n_epochs//2):\n",
    "        for _ in range(2):\n",
    "            image = one_epoch(resize_image(image, fat))\n",
    "        image = [row[fat:-fat] for row in image[fat:-fat]]\n",
    "    return image"
   ]
  },
  {
   "cell_type": "code",
   "execution_count": 10,
   "id": "94a7a4a0-6110-44e6-8743-1df4c8c01ce2",
   "metadata": {},
   "outputs": [],
   "source": [
    "def litted_pixels(image):\n",
    "    #print_image(image)\n",
    "    return sum(line.count('#') for line in image)"
   ]
  },
  {
   "cell_type": "markdown",
   "id": "b4cee2d5-e7d0-4dc4-8f80-86a671751b06",
   "metadata": {},
   "source": [
    "Part 01"
   ]
  },
  {
   "cell_type": "code",
   "execution_count": 11,
   "id": "aff79dc0-117e-46cc-b66c-890f66832806",
   "metadata": {},
   "outputs": [
    {
     "data": {
      "text/plain": [
       "5306"
      ]
     },
     "execution_count": 11,
     "metadata": {},
     "output_type": "execute_result"
    }
   ],
   "source": [
    "final_image = enhance_image(image, 2, 4)\n",
    "litted_pixels(final_image)"
   ]
  },
  {
   "cell_type": "code",
   "execution_count": 12,
   "id": "89d77bcb-9d76-42a8-9c13-9d1a75646fcd",
   "metadata": {},
   "outputs": [],
   "source": [
    "#for row in final_image: print(row)"
   ]
  },
  {
   "cell_type": "markdown",
   "id": "a51ea2a7-72f7-4e94-aa82-440607103645",
   "metadata": {},
   "source": [
    "Part 02"
   ]
  },
  {
   "cell_type": "code",
   "execution_count": 13,
   "id": "dcb99746-c660-44dd-89c4-9a944d9cd566",
   "metadata": {},
   "outputs": [
    {
     "data": {
      "text/plain": [
       "17497"
      ]
     },
     "execution_count": 13,
     "metadata": {},
     "output_type": "execute_result"
    }
   ],
   "source": [
    "final_image = enhance_image(image, 50, 4)\n",
    "litted_pixels(final_image)"
   ]
  },
  {
   "cell_type": "code",
   "execution_count": 14,
   "id": "3039d8a1-60c8-4308-90bc-e7fe488b1be5",
   "metadata": {},
   "outputs": [],
   "source": [
    "#for row in final_image: print(row)"
   ]
  }
 ],
 "metadata": {
  "kernelspec": {
   "display_name": "Python 3 (ipykernel)",
   "language": "python",
   "name": "python3"
  },
  "language_info": {
   "codemirror_mode": {
    "name": "ipython",
    "version": 3
   },
   "file_extension": ".py",
   "mimetype": "text/x-python",
   "name": "python",
   "nbconvert_exporter": "python",
   "pygments_lexer": "ipython3",
   "version": "3.8.12"
  }
 },
 "nbformat": 4,
 "nbformat_minor": 5
}
