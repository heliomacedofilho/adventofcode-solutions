{
 "cells": [
  {
   "cell_type": "code",
   "execution_count": 1,
   "id": "5fb0a893-ae28-40c8-93c8-c2f58c98ddd1",
   "metadata": {},
   "outputs": [],
   "source": [
    "import re\n",
    "with open('input04.txt') as txtfile:\n",
    "    numbers = [int(number) for number in re.findall('(\\d+)', txtfile.readline())]\n",
    "    \n",
    "    boards, board = [], []\n",
    "    for line in txtfile:\n",
    "        if line.strip() == '':\n",
    "            if board: \n",
    "                boards.append(board)\n",
    "                board = []\n",
    "        else:\n",
    "            board.append([int(tile) for tile in re.findall('(\\d+)', line)])\n",
    "    if board: boards.append(board)"
   ]
  },
  {
   "cell_type": "code",
   "execution_count": 6,
   "id": "683406ef-e577-4c4b-a445-72162195abb7",
   "metadata": {},
   "outputs": [],
   "source": [
    "from collections import defaultdict\n",
    "\n",
    "def final_score(numbers, boards, last = False):\n",
    "    index = defaultdict(list)\n",
    "    for board in range(len(boards)):\n",
    "        for row in range(len(boards[board])):\n",
    "            for column in range(len(boards[board][row])):\n",
    "                index[boards[board][row][column]].append((board, row, column))\n",
    "\n",
    "    winner_boards = set()\n",
    "    crossed_numbers = defaultdict(set)\n",
    "    for number in numbers:\n",
    "        for board, row, column in index[number]:\n",
    "            crossed_numbers[(board, 'r', row)].add(number)\n",
    "            crossed_numbers[(board, 'c', column)].add(number)\n",
    "\n",
    "            if len(crossed_numbers[(board, 'r', row)]) == len(boards[board][row]) or \\\n",
    "                len(crossed_numbers[(board, 'c', column)]) == len(boards[board]):\n",
    "                winner_boards.add(board)\n",
    "                if last and len(winner_boards) < len(boards): continue\n",
    "                unmarked_numbers_sum = sum(boards[board][row][column] \\\n",
    "                                           for column in range(len(boards[board][row])) \\\n",
    "                                           for row in range(len(boards[board])) \\\n",
    "                                           if boards[board][row][column] not in \\\n",
    "                                           crossed_numbers[(board, 'r', row)] | crossed_numbers[(board, 'c', column)])\n",
    "                \n",
    "                return unmarked_numbers_sum * number"
   ]
  },
  {
   "cell_type": "markdown",
   "id": "9739ad74-f40c-460e-8e9d-24c7d6dbd068",
   "metadata": {},
   "source": [
    "Part 01"
   ]
  },
  {
   "cell_type": "code",
   "execution_count": 7,
   "id": "898b0788-812f-4c15-8612-5e5bf0591210",
   "metadata": {},
   "outputs": [
    {
     "data": {
      "text/plain": [
       "27027"
      ]
     },
     "execution_count": 7,
     "metadata": {},
     "output_type": "execute_result"
    }
   ],
   "source": [
    "final_score(numbers, boards)"
   ]
  },
  {
   "cell_type": "markdown",
   "id": "88110c60-2bbd-4516-ac1c-5bfe9e6b8e29",
   "metadata": {},
   "source": [
    "Part 02"
   ]
  },
  {
   "cell_type": "code",
   "execution_count": 8,
   "id": "a488d983-aca7-41f3-99c6-ce767b8c6620",
   "metadata": {},
   "outputs": [
    {
     "data": {
      "text/plain": [
       "36975"
      ]
     },
     "execution_count": 8,
     "metadata": {},
     "output_type": "execute_result"
    }
   ],
   "source": [
    "final_score(numbers, boards, True)"
   ]
  }
 ],
 "metadata": {
  "kernelspec": {
   "display_name": "Python 3 (ipykernel)",
   "language": "python",
   "name": "python3"
  },
  "language_info": {
   "codemirror_mode": {
    "name": "ipython",
    "version": 3
   },
   "file_extension": ".py",
   "mimetype": "text/x-python",
   "name": "python",
   "nbconvert_exporter": "python",
   "pygments_lexer": "ipython3",
   "version": "3.8.12"
  }
 },
 "nbformat": 4,
 "nbformat_minor": 5
}
