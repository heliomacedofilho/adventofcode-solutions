{
 "cells": [
  {
   "cell_type": "code",
   "execution_count": 1,
   "id": "e99611da-cd70-47e3-96f2-1d048eebcd1b",
   "metadata": {},
   "outputs": [],
   "source": [
    "with open('input10.txt') as txtfile:\n",
    "    lines = [line.split()[0] for line in txtfile.readlines()]"
   ]
  },
  {
   "cell_type": "code",
   "execution_count": 2,
   "id": "9e9356f0-cc3d-432e-a054-c3d67951f900",
   "metadata": {},
   "outputs": [],
   "source": [
    "def syntax_error_and_autocomplete_scores(lines):\n",
    "    syntax_error_score_system = {')': 3, ']': 57, '}': 1197, '>': 25137}\n",
    "    syntax_error_score = 0\n",
    "    \n",
    "    autocomplete_scores = []\n",
    "    autocomplete_score_system = {'(': 1, '[': 2, '{': 3, '<': 4}\n",
    "    \n",
    "    for line in lines:\n",
    "        corrupted = False\n",
    "        stack = []\n",
    "        for c in line:\n",
    "            if c in ['(', '[', '{', '<']: stack.append(c)\n",
    "            else:\n",
    "                if stack:\n",
    "                    c_open = stack.pop()\n",
    "                    if (c_open == '(' and c == ')') or \\\n",
    "                        (c_open == '[' and c == ']') or \\\n",
    "                        (c_open == '{' and c == '}') or \\\n",
    "                        (c_open == '<' and c == '>'):\n",
    "                        continue\n",
    "                    else:\n",
    "                        syntax_error_score += syntax_error_score_system[c]\n",
    "                        corrupted = True\n",
    "\n",
    "        if not corrupted:\n",
    "            autocomplete_score = 0\n",
    "            while (stack):\n",
    "                c = stack.pop()\n",
    "                autocomplete_score *= 5\n",
    "                autocomplete_score += autocomplete_score_system[c]\n",
    "            autocomplete_scores.append(autocomplete_score)\n",
    "\n",
    "    return syntax_error_score, \\\n",
    "            sorted(autocomplete_scores)[len(autocomplete_scores)//2]"
   ]
  },
  {
   "cell_type": "markdown",
   "id": "6c3e7705-5a45-4014-917f-5ac9efed984f",
   "metadata": {},
   "source": [
    "Part 01"
   ]
  },
  {
   "cell_type": "code",
   "execution_count": 3,
   "id": "de2132e0-36ba-4801-a834-7087b61677cf",
   "metadata": {},
   "outputs": [
    {
     "data": {
      "text/plain": [
       "311949"
      ]
     },
     "execution_count": 3,
     "metadata": {},
     "output_type": "execute_result"
    }
   ],
   "source": [
    "syntax_error_and_autocomplete_scores(lines)[0]"
   ]
  },
  {
   "cell_type": "markdown",
   "id": "2945a393-4b8a-49be-b75b-0cd0ecd7a4eb",
   "metadata": {},
   "source": [
    "Part 02"
   ]
  },
  {
   "cell_type": "code",
   "execution_count": 4,
   "id": "c225acd6-bf5f-45ac-87cc-cbb76d7bc67e",
   "metadata": {},
   "outputs": [
    {
     "data": {
      "text/plain": [
       "3042730309"
      ]
     },
     "execution_count": 4,
     "metadata": {},
     "output_type": "execute_result"
    }
   ],
   "source": [
    "syntax_error_and_autocomplete_scores(lines)[1]"
   ]
  }
 ],
 "metadata": {
  "kernelspec": {
   "display_name": "Python 3 (ipykernel)",
   "language": "python",
   "name": "python3"
  },
  "language_info": {
   "codemirror_mode": {
    "name": "ipython",
    "version": 3
   },
   "file_extension": ".py",
   "mimetype": "text/x-python",
   "name": "python",
   "nbconvert_exporter": "python",
   "pygments_lexer": "ipython3",
   "version": "3.8.12"
  }
 },
 "nbformat": 4,
 "nbformat_minor": 5
}
