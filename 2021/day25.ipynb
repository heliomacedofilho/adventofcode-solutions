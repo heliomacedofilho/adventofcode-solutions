{
 "cells": [
  {
   "cell_type": "code",
   "execution_count": 1,
   "id": "4f7c30c8-eb7d-48d8-9f1b-461843dc571f",
   "metadata": {},
   "outputs": [],
   "source": [
    "def load_blizzards():\n",
    "    with open('input25.txt') as csvfile:\n",
    "        matrix = [[c for c in line.strip()] for line in csvfile.readlines()]\n",
    "        height, width = len(matrix), len(matrix[0])\n",
    "        blizzards = {(i, j): matrix[i][j] for i, j in [(i,j) for j in range(len(matrix[0])) for i in range(len(matrix))] if matrix[i][j] != '.'}\n",
    "    return blizzards, height, width"
   ]
  },
  {
   "cell_type": "code",
   "execution_count": 2,
   "id": "5c59f21e-d16a-4db1-abb5-5cfa4676562f",
   "metadata": {},
   "outputs": [],
   "source": [
    "def next_blizzard_position(position, blizzard, height, width):\n",
    "    return ((position[0] + (+1 if blizzard == 'v' else 0)) % height,\\\n",
    "            (position[1] + (+1 if blizzard == '>' else 0)) % width)"
   ]
  },
  {
   "cell_type": "code",
   "execution_count": 3,
   "id": "a8e8db5c-7343-4b7e-83a7-c7d6468bb3c1",
   "metadata": {},
   "outputs": [],
   "source": [
    "def next_minute(blizzards, height, width):\n",
    "    herds = ['>', 'v']\n",
    "    for i in range(2):\n",
    "        next_blizzards = {}\n",
    "        for position in blizzards:\n",
    "            if blizzards[position] == herds[i]:\n",
    "                next_position = next_blizzard_position(position, blizzards[position], height, width)\n",
    "                if next_position in blizzards: next_blizzards[position] = blizzards[position]\n",
    "                else: next_blizzards[next_position] = blizzards[position]\n",
    "            else: next_blizzards[position] = blizzards[position]\n",
    "        blizzards = next_blizzards\n",
    "    next_blizzards = {}\n",
    "    \n",
    "    return blizzards"
   ]
  },
  {
   "cell_type": "code",
   "execution_count": 4,
   "id": "a1ae2042-485a-44fe-aa49-3a0b46776c7c",
   "metadata": {},
   "outputs": [],
   "source": [
    "def all_blizzards():\n",
    "    all_blizzards = []\n",
    "    \n",
    "    blizzards, height, width = load_blizzards()\n",
    "    all_blizzards.append(blizzards)\n",
    "\n",
    "    stop = False\n",
    "    while (not stop):\n",
    "        next_blizzards = next_minute(blizzards, height, width)\n",
    "        all_blizzards.append(next_blizzards)\n",
    "        stop = all(all(a[i]==b[i] for i in range(2)) for a, b in zip(sorted(all_blizzards[-2].items()), sorted(all_blizzards[-1].items())))\n",
    "        blizzards = next_blizzards\n",
    "\n",
    "    return all_blizzards[:-1]"
   ]
  },
  {
   "cell_type": "markdown",
   "id": "8a517aca-3d8b-4c25-b7e1-b532edc4987b",
   "metadata": {},
   "source": [
    "Part 01"
   ]
  },
  {
   "cell_type": "code",
   "execution_count": 5,
   "id": "34d18e24-e980-49a2-a01a-fb72f9ccb4d7",
   "metadata": {},
   "outputs": [],
   "source": [
    "all_blizzards = all_blizzards()"
   ]
  },
  {
   "cell_type": "code",
   "execution_count": 6,
   "id": "2e360d29-f2a1-4eff-8ed2-204998280788",
   "metadata": {},
   "outputs": [
    {
     "data": {
      "text/plain": [
       "353"
      ]
     },
     "execution_count": 6,
     "metadata": {},
     "output_type": "execute_result"
    }
   ],
   "source": [
    "len(all_blizzards)"
   ]
  },
  {
   "cell_type": "code",
   "execution_count": 7,
   "id": "68a49219-5301-4544-ab69-272b11e6a5fa",
   "metadata": {},
   "outputs": [],
   "source": [
    "_, height, width = load_blizzards()\n",
    "for i in range(height): print(''.join([all_blizzards[-1][(i, j)] if (i,j) in all_blizzards[-1] else '.' for j in range(width)]))"
   ]
  },
  {
   "cell_type": "code",
   "execution_count": null,
   "id": "3e03f1fd-fa46-4ea1-b38f-28ad7afe11ba",
   "metadata": {},
   "outputs": [],
   "source": []
  }
 ],
 "metadata": {
  "kernelspec": {
   "display_name": "Python 3 (ipykernel)",
   "language": "python",
   "name": "python3"
  },
  "language_info": {
   "codemirror_mode": {
    "name": "ipython",
    "version": 3
   },
   "file_extension": ".py",
   "mimetype": "text/x-python",
   "name": "python",
   "nbconvert_exporter": "python",
   "pygments_lexer": "ipython3",
   "version": "3.8.12"
  }
 },
 "nbformat": 4,
 "nbformat_minor": 5
}
