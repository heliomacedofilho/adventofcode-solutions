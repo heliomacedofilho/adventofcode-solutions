{
 "cells": [
  {
   "cell_type": "code",
   "execution_count": 1,
   "id": "7a532b8c-ada2-457d-a619-b2a0382f1b39",
   "metadata": {},
   "outputs": [],
   "source": [
    "import re\n",
    "with open('input05.txt') as txtfile:\n",
    "    lines = [[[int(n) for n in re.findall('(\\d+)', element)[::-1]] for element in line.split('->')] for line in txtfile.readlines()]"
   ]
  },
  {
   "cell_type": "code",
   "execution_count": 2,
   "id": "48c01207-da86-4ce7-827a-814e2bf6aaf6",
   "metadata": {},
   "outputs": [],
   "source": [
    "range_lines = [[range(lines[i][0][0], \\\n",
    "                      lines[i][1][0]+(1 if lines[i][0][0] <= lines[i][1][0] else -1), \\\n",
    "                      1 if lines[i][0][0] <= lines[i][1][0] else -1), \\\n",
    "                range(lines[i][0][1], \\\n",
    "                      lines[i][1][1]+(1 if lines[i][0][1] <= lines[i][1][1] else -1), \\\n",
    "                      1 if lines[i][0][1] <= lines[i][1][1] else -1)] \\\n",
    "               for i in range(len(lines))]"
   ]
  },
  {
   "cell_type": "code",
   "execution_count": 3,
   "id": "a24f69fd-da2f-4002-b7f0-f786712940a4",
   "metadata": {},
   "outputs": [],
   "source": [
    "zip_lines = [(set([(y,x) for (y,x) in \\\n",
    "                   zip(range_lines[i][0] if len(range_lines[i][0]) > 1 else [range_lines[i][0][0]]*len(range_lines[i][1]), \\\n",
    "                       range_lines[i][1] if len(range_lines[i][1]) > 1 else [range_lines[i][1][0]]*len(range_lines[i][0]))\n",
    "                  ])) for i in range(len(range_lines))]"
   ]
  },
  {
   "cell_type": "code",
   "execution_count": 4,
   "id": "6b1742a0-69e9-4936-b496-af6cfee9d2a7",
   "metadata": {},
   "outputs": [],
   "source": [
    "def is_diagonal(zip_line):\n",
    "    line_iter = iter(zip_line)\n",
    "    first_element, second_element = next(line_iter), next(line_iter)\n",
    "    return True if first_element[0] != second_element[0] and first_element[1] != second_element[1] else False\n",
    "\n",
    "def intersections(zip_lines, diagonal_included = False):\n",
    "    intersection = set()\n",
    "    for line01 in zip_lines:\n",
    "        if not diagonal_included and is_diagonal(line01): continue\n",
    "        for line02 in zip_lines:\n",
    "            if not diagonal_included and is_diagonal(line02): continue\n",
    "            if line01 != line02:\n",
    "                for y, x in line01:\n",
    "                    if (y, x) in line02:\n",
    "                        intersection.add((y, x))\n",
    "    return len(intersection)"
   ]
  },
  {
   "cell_type": "markdown",
   "id": "fac5a1e3-d9dd-44f1-9ffc-3fbed6eab6ef",
   "metadata": {},
   "source": [
    "Part 01"
   ]
  },
  {
   "cell_type": "code",
   "execution_count": 5,
   "id": "07098fb1-6dd0-4bb9-b680-140f41af9076",
   "metadata": {},
   "outputs": [
    {
     "data": {
      "text/plain": [
       "5147"
      ]
     },
     "execution_count": 5,
     "metadata": {},
     "output_type": "execute_result"
    }
   ],
   "source": [
    "intersections(zip_lines, False)"
   ]
  },
  {
   "cell_type": "markdown",
   "id": "6986c754-6f3f-42a2-a626-1ff4d9f55d65",
   "metadata": {},
   "source": [
    "Part 02"
   ]
  },
  {
   "cell_type": "code",
   "execution_count": 6,
   "id": "d681a81b-9e04-4831-ac0f-cc344e49124a",
   "metadata": {},
   "outputs": [
    {
     "data": {
      "text/plain": [
       "16925"
      ]
     },
     "execution_count": 6,
     "metadata": {},
     "output_type": "execute_result"
    }
   ],
   "source": [
    "intersections(zip_lines, True)"
   ]
  }
 ],
 "metadata": {
  "kernelspec": {
   "display_name": "Python 3 (ipykernel)",
   "language": "python",
   "name": "python3"
  },
  "language_info": {
   "codemirror_mode": {
    "name": "ipython",
    "version": 3
   },
   "file_extension": ".py",
   "mimetype": "text/x-python",
   "name": "python",
   "nbconvert_exporter": "python",
   "pygments_lexer": "ipython3",
   "version": "3.8.12"
  }
 },
 "nbformat": 4,
 "nbformat_minor": 5
}
