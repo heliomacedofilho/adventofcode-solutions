{
 "cells": [
  {
   "cell_type": "code",
   "execution_count": 1,
   "id": "4afbdb5e-2d74-444b-9842-cce2ad1d5eda",
   "metadata": {},
   "outputs": [],
   "source": [
    "import re\n",
    "with open('input06.txt') as txtfile:\n",
    "    timers = [int(timer) for timer in re.findall('(\\d+)', txtfile.readline())]"
   ]
  },
  {
   "cell_type": "code",
   "execution_count": 2,
   "id": "2f3534c5-4e9b-4ee6-8174-fb489b9ef8d1",
   "metadata": {},
   "outputs": [],
   "source": [
    "from collections import deque\n",
    "\n",
    "def lanternfish_population(timers, n_epochs):\n",
    "    lanternfishes = deque([0]*9)\n",
    "    for timer in timers: lanternfishes[timer]+=1\n",
    "    \n",
    "    for _ in range (n_epochs):\n",
    "        timer_0 = lanternfishes.popleft()\n",
    "        lanternfishes[6]+=timer_0\n",
    "        lanternfishes.append(timer_0)\n",
    "    \n",
    "    return lanternfishes"
   ]
  },
  {
   "cell_type": "markdown",
   "id": "1966a313-aeab-4272-abdb-5b735df69c69",
   "metadata": {},
   "source": [
    "Part 01"
   ]
  },
  {
   "cell_type": "code",
   "execution_count": 3,
   "id": "6383e6dd-d317-4bd1-897c-7f71469ab0a4",
   "metadata": {},
   "outputs": [
    {
     "data": {
      "text/plain": [
       "350917"
      ]
     },
     "execution_count": 3,
     "metadata": {},
     "output_type": "execute_result"
    }
   ],
   "source": [
    "sum(lanternfish_population(timers, 80))"
   ]
  },
  {
   "cell_type": "markdown",
   "id": "4bf23b55-5dd5-408d-a069-59cb17ddf74f",
   "metadata": {},
   "source": [
    "Part 02"
   ]
  },
  {
   "cell_type": "code",
   "execution_count": 4,
   "id": "b340248f-11c0-438c-9d96-bd21bf7a2cdf",
   "metadata": {},
   "outputs": [
    {
     "data": {
      "text/plain": [
       "1592918715629"
      ]
     },
     "execution_count": 4,
     "metadata": {},
     "output_type": "execute_result"
    }
   ],
   "source": [
    "sum(lanternfish_population(timers, 256))"
   ]
  }
 ],
 "metadata": {
  "kernelspec": {
   "display_name": "Python 3 (ipykernel)",
   "language": "python",
   "name": "python3"
  },
  "language_info": {
   "codemirror_mode": {
    "name": "ipython",
    "version": 3
   },
   "file_extension": ".py",
   "mimetype": "text/x-python",
   "name": "python",
   "nbconvert_exporter": "python",
   "pygments_lexer": "ipython3",
   "version": "3.8.12"
  }
 },
 "nbformat": 4,
 "nbformat_minor": 5
}
