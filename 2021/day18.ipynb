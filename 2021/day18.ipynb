{
 "cells": [
  {
   "cell_type": "code",
   "execution_count": 1,
   "id": "7f32af58-c643-4690-ad5c-9fcc8831a662",
   "metadata": {},
   "outputs": [],
   "source": [
    "with open('input18.txt') as txtfile:\n",
    "    snailfish_numbers = [line.strip() for line in txtfile.readlines()]"
   ]
  },
  {
   "cell_type": "code",
   "execution_count": 2,
   "id": "aea01811-d364-4564-b4cd-7d47cd42ac82",
   "metadata": {},
   "outputs": [],
   "source": [
    "def explode(snailfish_number, rec=0):\n",
    "    def explode_half(snailfish_number, idx, rec):\n",
    "        if type(snailfish_number[idx]) == list:\n",
    "            max_rec, left, right = explode(snailfish_number[idx], rec+1)\n",
    "            if rec == 3:\n",
    "                snailfish_number[idx] = 0\n",
    "            if (left if idx else right) is not None:\n",
    "                parent, child_idx = snailfish_number, 1-idx\n",
    "                while(type(parent[child_idx]) != int):\n",
    "                    parent = parent[child_idx]\n",
    "                    child_idx=idx\n",
    "                parent[child_idx] += (left if idx else right)\n",
    "            if max_rec == True: return ((True, None, right) if idx else (True, left, None))\n",
    "        return False, None, None\n",
    "    \n",
    "    if rec == 4:\n",
    "        return True, snailfish_number[0], snailfish_number[1]\n",
    "    else:\n",
    "        max_rec, left, right = explode_half(snailfish_number, 0, rec)\n",
    "        if max_rec == True: return max_rec, left, right\n",
    "        max_rec, left, right = explode_half(snailfish_number, 1, rec)\n",
    "        return max_rec, left, right"
   ]
  },
  {
   "cell_type": "code",
   "execution_count": 3,
   "id": "d8f54e25-c3a6-4351-a321-77998f9a4d0d",
   "metadata": {},
   "outputs": [],
   "source": [
    "def split(snailfish_number):\n",
    "    def split_number(snailfish_number):\n",
    "        return [snailfish_number//2, snailfish_number-(snailfish_number//2)]\n",
    "    \n",
    "    def split_half(snailfish_number, idx):\n",
    "        if type(snailfish_number[idx]) == list: \n",
    "            if split(snailfish_number[idx]): return True\n",
    "        else:\n",
    "            if snailfish_number[idx] >= 10:\n",
    "                snailfish_number[idx] = split_number(snailfish_number[idx])\n",
    "                return True\n",
    "        return False\n",
    "    \n",
    "    if split_half(snailfish_number, 0): return True\n",
    "    if split_half(snailfish_number, 1): return True\n",
    "    return False"
   ]
  },
  {
   "cell_type": "code",
   "execution_count": 4,
   "id": "a9a39da4-7f8c-4292-b76c-955cdbafbb5e",
   "metadata": {},
   "outputs": [],
   "source": [
    "def reduce(snailfish_number):\n",
    "    reduce = True\n",
    "    while (reduce):\n",
    "        reduce, _, _ = explode(snailfish_number)\n",
    "        if reduce: continue\n",
    "        reduce = split(snailfish_number)\n",
    "    return snailfish_number"
   ]
  },
  {
   "cell_type": "code",
   "execution_count": 5,
   "id": "c79ea051-94f2-4153-bdab-cbe0cfe2a9a5",
   "metadata": {},
   "outputs": [],
   "source": [
    "def add(snailfish_number1, snailfish_number2):\n",
    "    return [snailfish_number1, snailfish_number2]"
   ]
  },
  {
   "cell_type": "code",
   "execution_count": 6,
   "id": "c91c0587-2321-40fd-934e-cee231e430df",
   "metadata": {},
   "outputs": [],
   "source": [
    "def snailfish_number_sum(snailfish_numbers):\n",
    "    snailfish_number_sum = eval(snailfish_numbers[0])\n",
    "    for i in range(1,len(snailfish_numbers)):\n",
    "        snailfish_number_sum = reduce(add(snailfish_number_sum, eval(snailfish_numbers[i])))\n",
    "    return snailfish_number_sum"
   ]
  },
  {
   "cell_type": "code",
   "execution_count": 7,
   "id": "71924cd8-f906-44df-97ae-cb15dec4b6d3",
   "metadata": {},
   "outputs": [],
   "source": [
    "def magnitude(snailfish_number):\n",
    "    if type(snailfish_number) == int: return snailfish_number\n",
    "    return 3*magnitude(snailfish_number[0]) + 2*magnitude(snailfish_number[1])"
   ]
  },
  {
   "cell_type": "code",
   "execution_count": 8,
   "id": "ddde0cde-8ee0-4848-b2da-ee1609a89766",
   "metadata": {},
   "outputs": [],
   "source": [
    "def two_sum_largest_magnitude(snailfish_numbers):\n",
    "    max_magnitude = 0\n",
    "    for snailfish_number1 in snailfish_numbers:\n",
    "        for snailfish_number2 in snailfish_numbers:\n",
    "            if snailfish_number1 != snailfish_number2:\n",
    "                max_magnitude = max(max_magnitude, magnitude(reduce(add(eval(snailfish_number1), eval(snailfish_number2)))))\n",
    "    return max_magnitude"
   ]
  },
  {
   "cell_type": "markdown",
   "id": "ff8a7d3d-de29-4ec9-b5f0-ff86631d3953",
   "metadata": {},
   "source": [
    "Part 01"
   ]
  },
  {
   "cell_type": "code",
   "execution_count": 9,
   "id": "4c8bc928-730b-4eb2-bdbb-221bf74e7e0b",
   "metadata": {},
   "outputs": [
    {
     "data": {
      "text/plain": [
       "3411"
      ]
     },
     "execution_count": 9,
     "metadata": {},
     "output_type": "execute_result"
    }
   ],
   "source": [
    "magnitude(snailfish_number_sum(snailfish_numbers))"
   ]
  },
  {
   "cell_type": "markdown",
   "id": "c087aa2f-71d9-4509-8c5f-d571d398c70c",
   "metadata": {},
   "source": [
    "Part 02"
   ]
  },
  {
   "cell_type": "code",
   "execution_count": 10,
   "id": "20557ad8-c40d-41ea-bd33-5d0f24356d29",
   "metadata": {},
   "outputs": [
    {
     "data": {
      "text/plain": [
       "4680"
      ]
     },
     "execution_count": 10,
     "metadata": {},
     "output_type": "execute_result"
    }
   ],
   "source": [
    "two_sum_largest_magnitude(snailfish_numbers)"
   ]
  }
 ],
 "metadata": {
  "kernelspec": {
   "display_name": "Python 3 (ipykernel)",
   "language": "python",
   "name": "python3"
  },
  "language_info": {
   "codemirror_mode": {
    "name": "ipython",
    "version": 3
   },
   "file_extension": ".py",
   "mimetype": "text/x-python",
   "name": "python",
   "nbconvert_exporter": "python",
   "pygments_lexer": "ipython3",
   "version": "3.8.12"
  }
 },
 "nbformat": 4,
 "nbformat_minor": 5
}
