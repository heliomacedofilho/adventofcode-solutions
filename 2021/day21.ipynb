{
 "cells": [
  {
   "cell_type": "code",
   "execution_count": 1,
   "id": "1e8d665e-ea7e-420e-a9b5-7ff96e3c50a6",
   "metadata": {},
   "outputs": [],
   "source": [
    "import re\n",
    "with open('input21.txt') as txtfile:\n",
    "    start_positions = [int(re.findall('(\\d+)', line)[-1]) for line in txtfile.readlines()]"
   ]
  },
  {
   "cell_type": "markdown",
   "id": "10d8397e-ac4b-4480-af61-2619a0afb971",
   "metadata": {},
   "source": [
    "Part 01"
   ]
  },
  {
   "cell_type": "code",
   "execution_count": 2,
   "id": "7bb0aa63-714f-4827-8f78-61df8dd87a34",
   "metadata": {},
   "outputs": [],
   "source": [
    "def one_epoch(positions, total_scores, player, steps):\n",
    "    new_positions = ((positions[player] + steps) % 10, positions[1-player])\n",
    "    if player: new_positions = new_positions[::-1]\n",
    "    \n",
    "    new_total_scores = (total_scores[player] + new_positions[player] + 1, total_scores[1-player])\n",
    "    if player: new_total_scores = new_total_scores[::-1]\n",
    "    \n",
    "    return new_positions, new_total_scores"
   ]
  },
  {
   "cell_type": "code",
   "execution_count": 3,
   "id": "e19f73cf-b409-45fb-9d46-25c12ecbae99",
   "metadata": {},
   "outputs": [],
   "source": [
    "def play_dirac_dice(positions, max_score = 1000):\n",
    "    total_scores, player, rolls = [0, 0], 0, 0\n",
    "\n",
    "    while (all(total_scores[i] < max_score for i in range(len(total_scores)))):\n",
    "        positions, total_scores = one_epoch(positions, total_scores, player, sum(rolls+i+1 for i in range(3)))\n",
    "        player, rolls = 1 - player, rolls + 3\n",
    "\n",
    "    return total_scores, player, rolls"
   ]
  },
  {
   "cell_type": "code",
   "execution_count": 4,
   "id": "b048eb1d-afe2-4552-91cd-8f4f2f2ed194",
   "metadata": {},
   "outputs": [],
   "source": [
    "from collections import defaultdict\n",
    "\n",
    "def count_victories(positions, max_score = 21):\n",
    "    total_scores, player, winning = (0,0), 0, [0,0]\n",
    "    \n",
    "    positions_total_scores, occurrences = set([positions+total_scores]), {positions+total_scores: 1}\n",
    "    while (positions_total_scores):\n",
    "        new_positions_total_scores, new_occurrences = set(), defaultdict(int)\n",
    "\n",
    "        for (p0, p1, ts0, ts1) in positions_total_scores:\n",
    "            positions, total_scores = (p0,p1), (ts0,ts1)\n",
    "            \n",
    "            for i, j, k in [(i,j,k) for k in range(3) for j in range(3) for i in range(3)]:\n",
    "                new_positions, new_total_scores = one_epoch(positions, total_scores, player, i+j+k+3)\n",
    "                \n",
    "                if all(new_total_scores[i] < max_score for i in range(len(total_scores))):\n",
    "                    new_positions_total_scores.add(new_positions+new_total_scores)\n",
    "                    new_occurrences[new_positions+new_total_scores] += occurrences[positions+total_scores]\n",
    "                else:\n",
    "                    winning[player]+=occurrences[positions+total_scores]\n",
    "\n",
    "        player, positions_total_scores, occurrences = 1 - player, new_positions_total_scores, new_occurrences\n",
    "\n",
    "    return winning"
   ]
  },
  {
   "cell_type": "markdown",
   "id": "9407ec06-3812-499c-8ce1-ba4ba55a80c3",
   "metadata": {},
   "source": [
    "Part 01"
   ]
  },
  {
   "cell_type": "code",
   "execution_count": 5,
   "id": "1cc76848-828f-4dba-9ca3-17af05800918",
   "metadata": {},
   "outputs": [
    {
     "data": {
      "text/plain": [
       "504972"
      ]
     },
     "execution_count": 5,
     "metadata": {},
     "output_type": "execute_result"
    }
   ],
   "source": [
    "positions = [start_position-1 for start_position in start_positions]\n",
    "total_score, player, rolls = play_dirac_dice(positions)\n",
    "total_score[player]*rolls"
   ]
  },
  {
   "cell_type": "markdown",
   "id": "824b51a8-a49b-423c-8aa3-8f5d2037354f",
   "metadata": {},
   "source": [
    "Part 02"
   ]
  },
  {
   "cell_type": "code",
   "execution_count": 6,
   "id": "5658c2ea-daf5-4617-b196-6807824ba0f6",
   "metadata": {},
   "outputs": [
    {
     "data": {
      "text/plain": [
       "446968027750017"
      ]
     },
     "execution_count": 6,
     "metadata": {},
     "output_type": "execute_result"
    }
   ],
   "source": [
    "positions = tuple([start_position-1 for start_position in start_positions])\n",
    "max(count_victories(positions))"
   ]
  }
 ],
 "metadata": {
  "kernelspec": {
   "display_name": "Python 3 (ipykernel)",
   "language": "python",
   "name": "python3"
  },
  "language_info": {
   "codemirror_mode": {
    "name": "ipython",
    "version": 3
   },
   "file_extension": ".py",
   "mimetype": "text/x-python",
   "name": "python",
   "nbconvert_exporter": "python",
   "pygments_lexer": "ipython3",
   "version": "3.8.12"
  }
 },
 "nbformat": 4,
 "nbformat_minor": 5
}
