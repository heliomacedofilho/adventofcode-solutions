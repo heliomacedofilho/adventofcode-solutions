{
 "cells": [
  {
   "cell_type": "code",
   "execution_count": 1,
   "id": "22906bfd-5378-4d39-862a-204b003c51cd",
   "metadata": {},
   "outputs": [],
   "source": [
    "import re\n",
    "def load_instructions(limits = None):\n",
    "    with open('input22.txt') as txtfile:\n",
    "        instructions = [[line[:3].strip()] + [int(n) for n in re.findall('(-?\\d+)', line)] for line in txtfile.readlines()]\n",
    "        instructions = [[instruction[0]] + [range(instruction[i], instruction[i+1]+1) for i in range(1, len(instruction), 2)] for instruction in instructions]\n",
    "        if limits: instructions = [[instruction[0]] + cube_intersection(instruction[1:], [limits for _ in range(3)]) for instruction in instructions]\n",
    "\n",
    "    return instructions"
   ]
  },
  {
   "cell_type": "code",
   "execution_count": 2,
   "id": "e6ed9db1-b5ea-4e89-b0e9-66380c9f6ef3",
   "metadata": {},
   "outputs": [],
   "source": [
    "def one_axis_intervals(cube1_axis, cube2_axis):\n",
    "    def interval(a, b): return range(a, b)\n",
    "\n",
    "    axis_intersection = cube_axis_intersection(cube1_axis, cube2_axis)\n",
    "    \n",
    "    if axis_intersection:\n",
    "        return [interval(cube1_axis[0], axis_intersection[0]), \\\n",
    "                interval(axis_intersection[0], axis_intersection[-1]+1), \\\n",
    "                interval(axis_intersection[-1]+1, cube1_axis[-1]+1)]\n",
    "    else:\n",
    "        return []\n",
    "\n",
    "def cube_axis_intersection(cube1_axis, cube2_axis):\n",
    "    if cube1_axis and cube2_axis:\n",
    "        return range(max(cube1_axis[0], cube2_axis[0]), min(cube1_axis[-1], cube2_axis[-1])+1)\n",
    "    else:\n",
    "        return range(0,0)"
   ]
  },
  {
   "cell_type": "code",
   "execution_count": 3,
   "id": "2ed93209-8aeb-48b2-b1c6-91e369203975",
   "metadata": {},
   "outputs": [],
   "source": [
    "def cube(instruction):\n",
    "    return instruction[1:]\n",
    "\n",
    "def does_exist(cube):\n",
    "    return all(cube_axis for cube_axis in cube)\n",
    "\n",
    "def cube_intersection(cube1, cube2):\n",
    "    return [cube_axis_intersection(cube1_axis, cube2_axis) for cube1_axis, cube2_axis in zip(cube1, cube2)]\n",
    "\n",
    "def equal_cubes(cube1, cube2):\n",
    "    return all(all(cube1[i][j] == cube2[i][j] for j in [0,-1]) for i in range(len(cube1)))\n",
    "\n",
    "def cube_size(cube):\n",
    "    if not does_exist(cube): return 0\n",
    "    product = 1\n",
    "    for cube_axis in cube: product *= (1 + cube_axis[-1] - cube_axis[0])\n",
    "    return product\n",
    "\n",
    "def sum_disjoint_cube_sizes(instructions):\n",
    "    return sum([cube_size(cube(instruction)) for instruction in instructions])\n",
    "\n",
    "def explode_cube(victim_cube, tnt_cube):\n",
    "    cubes = []\n",
    "    cubes_intersection = cube_intersection(victim_cube, tnt_cube)\n",
    "    if does_exist(cubes_intersection):\n",
    "        for range_x in one_axis_intervals(victim_cube[0], tnt_cube[0]):\n",
    "            for range_y in one_axis_intervals(victim_cube[1], tnt_cube[1]):\n",
    "                for range_z in one_axis_intervals(victim_cube[2], tnt_cube[2]):\n",
    "                    created_cube = [range_x, range_y, range_z]\n",
    "                    if does_exist(created_cube) and not equal_cubes(created_cube, cubes_intersection):\n",
    "                        cubes.append(created_cube)\n",
    "    else:\n",
    "        cubes.append(victim_cube)\n",
    "    return cubes"
   ]
  },
  {
   "cell_type": "code",
   "execution_count": 4,
   "id": "dd1cc607-24f5-468f-8888-c5a9d7a5f8b0",
   "metadata": {},
   "outputs": [],
   "source": [
    "def next_off_instruction(instructions):\n",
    "    for idx, instruction in enumerate(instructions):\n",
    "        if instruction[0] == 'off':\n",
    "            return idx\n",
    "    return None"
   ]
  },
  {
   "cell_type": "code",
   "execution_count": 5,
   "id": "6b399d3a-ca39-419a-bba8-a66e1e663b57",
   "metadata": {},
   "outputs": [],
   "source": [
    "def create_tnt_cubes(instructions):\n",
    "    next_instructions = []\n",
    "    while (instructions):\n",
    "        instruction = instructions.pop(0)\n",
    "        if instruction[0] == 'off': next_instructions.append(instruction)\n",
    "        else:\n",
    "            for next_instruction in next_instructions:\n",
    "                if next_instruction[0] == 'on':\n",
    "                    tnt_cube = cube_intersection(cube(instruction), cube(next_instruction))\n",
    "                    if does_exist(tnt_cube): next_instructions.append(['off'] + tnt_cube)\n",
    "            next_instructions.append(instruction)\n",
    "\n",
    "    return next_instructions"
   ]
  },
  {
   "cell_type": "code",
   "execution_count": 6,
   "id": "ebd3f20f-02ad-4028-a943-37368c8cad14",
   "metadata": {},
   "outputs": [],
   "source": [
    "def apply_tnt_cubes(instructions):\n",
    "    first_off_index = next_off_instruction(instructions)\n",
    "    while (first_off_index is not None):\n",
    "        disjoint_cubes_instructions = []\n",
    "\n",
    "        bomb_cube = cube(instructions[first_off_index])\n",
    "        for i in range(first_off_index):\n",
    "            disjoint_cubes_instructions.extend([['on'] + cube for cube in explode_cube(cube(instructions[i]), bomb_cube)])\n",
    "\n",
    "        instructions = disjoint_cubes_instructions + instructions[first_off_index+1:]\n",
    "        first_off_index = next_off_instruction(instructions)\n",
    "    return instructions"
   ]
  },
  {
   "cell_type": "markdown",
   "id": "85f5f37c-6cc9-4fa4-9a94-b09e23453d52",
   "metadata": {},
   "source": [
    "Part 01"
   ]
  },
  {
   "cell_type": "code",
   "execution_count": 7,
   "id": "14b0e311-456a-49a6-b0ad-19795fb46177",
   "metadata": {},
   "outputs": [
    {
     "data": {
      "text/plain": [
       "615869"
      ]
     },
     "execution_count": 7,
     "metadata": {},
     "output_type": "execute_result"
    }
   ],
   "source": [
    "disjoint_cube_sizes =  sum_disjoint_cube_sizes(apply_tnt_cubes(create_tnt_cubes(load_instructions(range(-50, 51)))))\n",
    "disjoint_cube_sizes"
   ]
  },
  {
   "cell_type": "markdown",
   "id": "6b7c0809-68b2-4c67-a76d-bee50f390125",
   "metadata": {},
   "source": [
    "Part 02"
   ]
  },
  {
   "cell_type": "code",
   "execution_count": 8,
   "id": "3c3052f7-0fd9-4c71-9a50-e0ae68cc5361",
   "metadata": {},
   "outputs": [
    {
     "data": {
      "text/plain": [
       "1323862415207825"
      ]
     },
     "execution_count": 8,
     "metadata": {},
     "output_type": "execute_result"
    }
   ],
   "source": [
    "disjoint_cube_sizes =  sum_disjoint_cube_sizes(apply_tnt_cubes(create_tnt_cubes(load_instructions())))\n",
    "disjoint_cube_sizes"
   ]
  }
 ],
 "metadata": {
  "kernelspec": {
   "display_name": "Python 3 (ipykernel)",
   "language": "python",
   "name": "python3"
  },
  "language_info": {
   "codemirror_mode": {
    "name": "ipython",
    "version": 3
   },
   "file_extension": ".py",
   "mimetype": "text/x-python",
   "name": "python",
   "nbconvert_exporter": "python",
   "pygments_lexer": "ipython3",
   "version": "3.8.12"
  }
 },
 "nbformat": 4,
 "nbformat_minor": 5
}
