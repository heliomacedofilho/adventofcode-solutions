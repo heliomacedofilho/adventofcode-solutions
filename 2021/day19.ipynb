{
 "cells": [
  {
   "cell_type": "code",
   "execution_count": 1,
   "id": "7f002fca-ab04-45e3-8ecb-2021f5b05f58",
   "metadata": {},
   "outputs": [],
   "source": [
    "import re\n",
    "def read_sensors(filename = 'input19.txt'):\n",
    "    with open(filename) as txtfile:\n",
    "        sensors, idx, positions = {}, 0, []\n",
    "        for line in txtfile.readlines():\n",
    "            if '---' in line: idx = int(re.findall('(\\d+)', line)[0])\n",
    "            elif line.strip() == '':\n",
    "                sensors[idx] = positions\n",
    "                idx, positions = 0, []\n",
    "            else: positions.append([int(coordinate) for coordinate in re.findall('(-?\\d+)', line)])            \n",
    "        sensors[idx] = positions\n",
    "    return sensors"
   ]
  },
  {
   "cell_type": "code",
   "execution_count": 2,
   "id": "ca03381e-2030-497f-a333-a122b00d6fa4",
   "metadata": {},
   "outputs": [],
   "source": [
    "def subtract(position1, position2):\n",
    "    return [position1[idx] - position2[idx] for idx in range(len(position1))]"
   ]
  },
  {
   "cell_type": "code",
   "execution_count": 3,
   "id": "fe78c10c-41f6-4ad2-b144-0498ecf505ac",
   "metadata": {},
   "outputs": [],
   "source": [
    "def add(position1, position2):\n",
    "    return [position1[idx] + position2[idx] for idx in range(len(position1))]"
   ]
  },
  {
   "cell_type": "code",
   "execution_count": 4,
   "id": "aea170c7-037d-48d1-a944-61900cf55b96",
   "metadata": {},
   "outputs": [],
   "source": [
    "def relative_distances(sensor, common_beacons = 12):\n",
    "    beacons_list = [[sensor[j] for j in range(i, len(sensor))] for i in range(len(sensor)+1-common_beacons)]\n",
    "    relative_distances = [[subtract(beacon_list[i], beacon_list[0]) for i in range(1, len(beacon_list))] for beacon_list in beacons_list]\n",
    "    return zip(beacons_list, relative_distances)"
   ]
  },
  {
   "cell_type": "code",
   "execution_count": 5,
   "id": "b1714df8-df3a-49a9-a6b1-1eeef4f86930",
   "metadata": {},
   "outputs": [],
   "source": [
    "def sensors_share_beacons(sensor1, sensor2, common_beacons = 12):\n",
    "    for beacons_list1, relative_distances1 in relative_distances(sorted(sensor1), common_beacons):\n",
    "        for beacons_list2, relative_distances2 in relative_distances(sorted(sensor2), common_beacons):\n",
    "            common_relative_distances = set([tuple(relative_distance) for relative_distance in relative_distances1]).intersection(set([tuple(relative_distance) for relative_distance in relative_distances2]))\n",
    "            if len(common_relative_distances) >= (common_beacons - 1):\n",
    "                return True, \\\n",
    "                        [beacons_list1[0]] + [beacons_list1[i+1] for i in range(len(relative_distances1)) if tuple(relative_distances1[i]) in common_relative_distances], \\\n",
    "                        [beacons_list2[0]] + [beacons_list2[i+1] for i in range(len(relative_distances2)) if tuple(relative_distances2[i]) in common_relative_distances]\n",
    "    return False, None, None"
   ]
  },
  {
   "cell_type": "code",
   "execution_count": 6,
   "id": "bfe7d107-e737-4f70-93dd-d281b4510daa",
   "metadata": {},
   "outputs": [],
   "source": [
    "def orientations(sensor):\n",
    "    def orientations_helper(cube):\n",
    "        def roll(cube): return [cube[0],cube[2],-cube[1]]\n",
    "        def turn(cube): return [-cube[1],cube[0],cube[2]]\n",
    "        orientations = []\n",
    "        for cycle in range(2):\n",
    "            for step in range(3):\n",
    "                cube = roll(cube)\n",
    "                for i in range(3):\n",
    "                    orientations.append(cube)\n",
    "                    cube = turn(cube)\n",
    "                orientations.append(cube)\n",
    "            cube = roll(turn(roll(cube)))\n",
    "        return orientations\n",
    "    return [[position for position in list_of_positions] \\\n",
    "            for list_of_positions in zip(*[orientations_helper(position) for position in sensor])]"
   ]
  },
  {
   "cell_type": "code",
   "execution_count": 7,
   "id": "3ca7c834-7fec-4d76-bd51-e6380a341673",
   "metadata": {},
   "outputs": [],
   "source": [
    "def sensors_positions(sensors):\n",
    "    sensors_positions = [[0 for _ in range(3)] for _ in range(len(sensors))]\n",
    "    visited, queue = {0}, [0]\n",
    "    while (queue):\n",
    "        new_queue = []\n",
    "        for i in queue:\n",
    "            for j in sensors.keys() - visited:\n",
    "                for sensor_j in orientations(sensors[j]):\n",
    "                    match, first_list, second_list = sensors_share_beacons(sensors[i], sensor_j, 12)\n",
    "                    if match:\n",
    "                        sensors[j] = sensor_j\n",
    "                        relative_sensor_position_i_to_j = subtract(sorted(first_list)[0], sorted(second_list)[0])\n",
    "                        sensors_positions[j] = add(sensors_positions[i], relative_sensor_position_i_to_j)\n",
    "                        new_queue.append(j)\n",
    "                        visited.add(j)\n",
    "                        break\n",
    "        queue = new_queue\n",
    "    return sensors_positions"
   ]
  },
  {
   "cell_type": "code",
   "execution_count": 8,
   "id": "6c98edcc-3840-440f-82ec-14cfd68708fa",
   "metadata": {},
   "outputs": [],
   "source": [
    "def beacons(sensors, sensors_positions):\n",
    "    beacons = set()\n",
    "    for sensor in sensors:\n",
    "        for beacon in sensors[sensor]:\n",
    "            beacons.add(tuple(add(beacon, sensors_positions[sensor])))\n",
    "    return beacons"
   ]
  },
  {
   "cell_type": "code",
   "execution_count": 9,
   "id": "dc101034-9f38-4cda-87d6-61e6ef37924f",
   "metadata": {},
   "outputs": [],
   "source": [
    "def manhattan_distance(position1, position2):\n",
    "    return sum(abs(position1[i]-position2[i]) for i in range(len(position1)))    "
   ]
  },
  {
   "cell_type": "code",
   "execution_count": 10,
   "id": "f33d56fa-a1aa-4ad9-9267-e5e1db337efc",
   "metadata": {},
   "outputs": [],
   "source": [
    "def max_manhattan_distance(sensors_positions):\n",
    "    return max(manhattan_distance(sensors_positions1, sensors_positions2) for sensors_positions1 in sensors_positions[:] for sensors_positions2 in sensors_positions[:] )"
   ]
  },
  {
   "cell_type": "markdown",
   "id": "d410772d-a33c-4861-b41c-1e3f6436a7e9",
   "metadata": {},
   "source": [
    "Part 01"
   ]
  },
  {
   "cell_type": "code",
   "execution_count": 11,
   "id": "e68ae009-a88d-482c-a0e4-2a8e4069f7ea",
   "metadata": {},
   "outputs": [
    {
     "data": {
      "text/plain": [
       "306"
      ]
     },
     "execution_count": 11,
     "metadata": {},
     "output_type": "execute_result"
    }
   ],
   "source": [
    "sensors = read_sensors('input19.txt')\n",
    "sensors_positions = sensors_positions(sensors)\n",
    "beacons = beacons(sensors, sensors_positions)\n",
    "answer = len(beacons)\n",
    "answer"
   ]
  },
  {
   "cell_type": "markdown",
   "id": "f0cf0279-dbba-419d-96ac-8dffd955c4ed",
   "metadata": {},
   "source": [
    "Part 02"
   ]
  },
  {
   "cell_type": "code",
   "execution_count": 12,
   "id": "1ebd912d-6b12-4ce4-b56d-18cdb40ca662",
   "metadata": {},
   "outputs": [
    {
     "data": {
      "text/plain": [
       "9764"
      ]
     },
     "execution_count": 12,
     "metadata": {},
     "output_type": "execute_result"
    }
   ],
   "source": [
    "max_manhattan_distance(sensors_positions)"
   ]
  }
 ],
 "metadata": {
  "kernelspec": {
   "display_name": "Python 3 (ipykernel)",
   "language": "python",
   "name": "python3"
  },
  "language_info": {
   "codemirror_mode": {
    "name": "ipython",
    "version": 3
   },
   "file_extension": ".py",
   "mimetype": "text/x-python",
   "name": "python",
   "nbconvert_exporter": "python",
   "pygments_lexer": "ipython3",
   "version": "3.8.12"
  }
 },
 "nbformat": 4,
 "nbformat_minor": 5
}
