{
 "cells": [
  {
   "cell_type": "code",
   "execution_count": 1,
   "id": "ca3eff66-042f-44d2-ade5-a08361b020b9",
   "metadata": {},
   "outputs": [],
   "source": [
    "with open('input16.txt') as txtfile:\n",
    "    binary_string = ''.join([format(int(c, 16), '#06b')[2:] for c in txtfile.readline().strip()])"
   ]
  },
  {
   "cell_type": "code",
   "execution_count": 2,
   "id": "dbefd4af-f778-41ad-8785-484ead2e7590",
   "metadata": {},
   "outputs": [],
   "source": [
    "def operation(packet_type_id, subpackets):\n",
    "    if packet_type_id == 0: return sum(subpackets)\n",
    "    elif packet_type_id == 1:\n",
    "        product = 1\n",
    "        for value in subpackets: product *= value\n",
    "        return product\n",
    "    elif packet_type_id == 2: return min(subpackets)\n",
    "    elif packet_type_id == 3: return max(subpackets)\n",
    "    elif packet_type_id == 5: return 1 if subpackets[0] > subpackets[1] else 0\n",
    "    elif packet_type_id == 6: return 1 if subpackets[0] < subpackets[1] else 0\n",
    "    elif packet_type_id == 7: return 1 if subpackets[0] == subpackets[1] else 0"
   ]
  },
  {
   "cell_type": "code",
   "execution_count": 3,
   "id": "a589abb7-493f-4ca9-b7b8-a7b350fcc184",
   "metadata": {},
   "outputs": [],
   "source": [
    "def packet_decoder(binary_string, start_idx_header = 0):\n",
    "    packet_version = int(binary_string[start_idx_header:start_idx_header+3], 2)\n",
    "    packet_type_id = int(binary_string[start_idx_header+3:start_idx_header+6], 2)\n",
    "    version_number_sum = packet_version\n",
    "\n",
    "    start_idx_payload = start_idx_header+6\n",
    "    if packet_type_id == 4:\n",
    "        number = []\n",
    "        while(binary_string[start_idx_payload] != '0'):\n",
    "            number.append(binary_string[start_idx_payload+1:start_idx_payload+5])\n",
    "            start_idx_payload+=5\n",
    "        number.append(binary_string[start_idx_payload+1:start_idx_payload+5])\n",
    "        return int(''.join(number), 2), version_number_sum, start_idx_payload+5\n",
    "    else:\n",
    "        subpackets = []\n",
    "        lengh_type_id = int(binary_string[start_idx_payload], 2)\n",
    "        last_bit_read = start_idx_payload + (16 if lengh_type_id == 0 else 12)\n",
    "        condition, restriction = 0, int(binary_string[start_idx_payload+1:last_bit_read], 2)\n",
    "\n",
    "        while (condition < restriction):\n",
    "            before_last_bit_read = last_bit_read\n",
    "            subpacket, subpacket_version_number, last_bit_read = packet_decoder(binary_string, start_idx_header=last_bit_read)\n",
    "            subpackets.append(subpacket)\n",
    "            version_number_sum += subpacket_version_number\n",
    "            condition += (last_bit_read - before_last_bit_read) if lengh_type_id == 0 else 1\n",
    "                \n",
    "        return operation(packet_type_id, subpackets), version_number_sum, last_bit_read"
   ]
  },
  {
   "cell_type": "code",
   "execution_count": 4,
   "id": "39c5da38-5f5f-4b43-85ae-d58826a9a5c9",
   "metadata": {},
   "outputs": [],
   "source": [
    "a, b, _ = packet_decoder(binary_string, start_idx_header = 0)"
   ]
  },
  {
   "cell_type": "markdown",
   "id": "1b44770a-073d-49fa-9eaf-ef30aac4bd93",
   "metadata": {},
   "source": [
    "Part 01"
   ]
  },
  {
   "cell_type": "code",
   "execution_count": 5,
   "id": "19f60b33-4d9a-4c4b-913a-f1dd35207e4a",
   "metadata": {},
   "outputs": [
    {
     "data": {
      "text/plain": [
       "989"
      ]
     },
     "execution_count": 5,
     "metadata": {},
     "output_type": "execute_result"
    }
   ],
   "source": [
    "b"
   ]
  },
  {
   "cell_type": "markdown",
   "id": "8df6274f-ba08-462a-af1f-d25bc38b1c09",
   "metadata": {},
   "source": [
    "Part 02"
   ]
  },
  {
   "cell_type": "code",
   "execution_count": 6,
   "id": "7f966585-aee0-4901-b47a-457350c757be",
   "metadata": {},
   "outputs": [
    {
     "data": {
      "text/plain": [
       "7936430475134"
      ]
     },
     "execution_count": 6,
     "metadata": {},
     "output_type": "execute_result"
    }
   ],
   "source": [
    "a"
   ]
  }
 ],
 "metadata": {
  "kernelspec": {
   "display_name": "Python 3 (ipykernel)",
   "language": "python",
   "name": "python3"
  },
  "language_info": {
   "codemirror_mode": {
    "name": "ipython",
    "version": 3
   },
   "file_extension": ".py",
   "mimetype": "text/x-python",
   "name": "python",
   "nbconvert_exporter": "python",
   "pygments_lexer": "ipython3",
   "version": "3.8.12"
  }
 },
 "nbformat": 4,
 "nbformat_minor": 5
}
