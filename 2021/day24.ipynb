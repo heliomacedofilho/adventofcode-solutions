{
 "cells": [
  {
   "cell_type": "code",
   "execution_count": 1,
   "id": "469daaca-dce5-428b-80bf-4495b7f22112",
   "metadata": {},
   "outputs": [],
   "source": [
    "class variable():\n",
    "    def __init__(self, literal = None):\n",
    "        self.register = 0 if literal is None else literal\n",
    "    def __add__(self, other):\n",
    "        self.register += other if type(other) == int else other.register\n",
    "    def __mul__(self, other):\n",
    "        self.register *= other if type(other) == int else other.register\n",
    "    def __truediv__(self, other):\n",
    "        self.register //= (other if type(other) == int else other.register)\n",
    "    def __mod__(self, other):\n",
    "        self.register %= other if type(other) == int else other.register\n",
    "    def __eq__(self, other):\n",
    "        self.register = 1 if self.register == (other if type(other) == int else other.register) else 0\n",
    "    def __repr__(self):\n",
    "        return repr(self.register)"
   ]
  },
  {
   "cell_type": "code",
   "execution_count": 2,
   "id": "5521f6c2-fab9-482a-9aa7-0ab5acef047e",
   "metadata": {},
   "outputs": [],
   "source": [
    "def load_commands():\n",
    "    operation = {'inp': ' = ', 'add': '+', 'mul': '*', 'div': '/', 'mod': '%', 'eql': '=='}\n",
    "    parameters = ['variable(eval(\\'parameter['+str(i)+']\\'))' for i in range(14)[::-1]]\n",
    "    with open('input24.txt') as txtfile:\n",
    "        commands = [line.strip().split(' ') for line in txtfile.readlines()]\n",
    "        cte1 = [int(commands[i+5][2]) for i in range(0, len(commands), 18)]\n",
    "        cte2 = [int(commands[i+15][2]) for i in range(0, len(commands), 18)]\n",
    "        commands = [command[1] + operation[command[0]] + (command[2] if len(command) == 3 else parameters.pop()) for command in commands]\n",
    "    return commands, cte1, cte2"
   ]
  },
  {
   "cell_type": "code",
   "execution_count": 3,
   "id": "37e17fab-7318-4e81-ac65-e675af403b00",
   "metadata": {},
   "outputs": [],
   "source": [
    "def alu(commands, parameter):\n",
    "    w, x, y, z = variable(), variable(), variable(), variable()\n",
    "    for command in commands:\n",
    "        if ' = ' in command: \n",
    "            if command[0] == 'w': w = eval(command[4:])\n",
    "            elif command[0] == 'x': x = eval(command[4:])\n",
    "            elif command[0] == 'y': y = eval(command[4:])\n",
    "            elif command[0] == 'z': z = eval(command[4:])\n",
    "        else:\n",
    "            exec(command)\n",
    "    return w, x, y, z"
   ]
  },
  {
   "cell_type": "code",
   "execution_count": 4,
   "id": "8907ebe6-a0a6-40b5-ac30-68373de0bcde",
   "metadata": {},
   "outputs": [],
   "source": [
    "#there is a pattern running commands\n",
    "#for every inp w, z is going to be \n",
    "    #last_z * 26 + w + cte2 (cte2 is a literal 15 lines after inp w); or\n",
    "    #last_z // 26 (if x == 0. note that x == 0 <=> last_z mod 26 = w - cte1 (cte1 is a literal 5 lines after inp w).\n",
    "#do the math and you can build the following function"
   ]
  },
  {
   "cell_type": "code",
   "execution_count": 5,
   "id": "951cc047-3304-402a-a91f-77fc66a1b9a5",
   "metadata": {},
   "outputs": [],
   "source": [
    "def accepted_number(cte1, cte2, w0 = 4, w1 = 5, w2 = 9, w3 = 8, w5 = 9, w7 = 9, w8 = 9):\n",
    "    gap = [cte2[0]+cte1[13],cte2[1]+cte1[12],cte2[2]+cte1[11],cte2[3]+cte1[4],cte2[5]+cte1[6],cte2[7]+cte1[10],cte2[8]+cte1[9]]\n",
    "    w = [1 for _ in range(14)]\n",
    "    w[0], w[1], w[2], w[3], w[5], w[7], w[8] = w0, w1, w2, w3, w5, w7, w8\n",
    "    w[13],w[12],w[11],w[4],w[6],w[10],w[9]=w[0]+gap[0],w[1]+gap[1],w[2]+gap[2],w[3]+gap[3],w[5]+gap[4],w[7]+gap[5],w[8]+gap[6]\n",
    "    return w"
   ]
  },
  {
   "cell_type": "code",
   "execution_count": 6,
   "id": "895e223b-c5d6-4cf6-b921-818a6470ea84",
   "metadata": {},
   "outputs": [],
   "source": [
    "commands, cte1, cte2 = load_commands()"
   ]
  },
  {
   "cell_type": "markdown",
   "id": "aca0e77b-c195-4166-937a-166df206b5e0",
   "metadata": {},
   "source": [
    "Part 01"
   ]
  },
  {
   "cell_type": "code",
   "execution_count": 7,
   "id": "98475f36-012b-4656-bb3c-c50662f37e35",
   "metadata": {},
   "outputs": [
    {
     "name": "stdout",
     "output_type": "stream",
     "text": [
      "45989929946199\n"
     ]
    }
   ],
   "source": [
    "largest = accepted_number(cte1, cte2, 4, 5, 9, 8, 9, 9, 9)\n",
    "if alu(load_commands()[0], largest)[-1].register == 0:\n",
    "    print(''.join([str(c) for c in largest]))"
   ]
  },
  {
   "cell_type": "code",
   "execution_count": 8,
   "id": "9000ebc3-712c-4f48-adbd-7995b5a5469c",
   "metadata": {},
   "outputs": [
    {
     "name": "stdout",
     "output_type": "stream",
     "text": [
      "11912814611156\n"
     ]
    }
   ],
   "source": [
    "smallest = accepted_number(cte1, cte2, 1, 1, 9, 1, 8, 4, 6)\n",
    "if alu(load_commands()[0], smallest)[-1].register == 0:\n",
    "    print(''.join([str(c) for c in smallest]))"
   ]
  }
 ],
 "metadata": {
  "kernelspec": {
   "display_name": "Python 3 (ipykernel)",
   "language": "python",
   "name": "python3"
  },
  "language_info": {
   "codemirror_mode": {
    "name": "ipython",
    "version": 3
   },
   "file_extension": ".py",
   "mimetype": "text/x-python",
   "name": "python",
   "nbconvert_exporter": "python",
   "pygments_lexer": "ipython3",
   "version": "3.8.12"
  }
 },
 "nbformat": 4,
 "nbformat_minor": 5
}
