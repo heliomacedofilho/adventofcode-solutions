{
 "cells": [
  {
   "cell_type": "code",
   "execution_count": 1,
   "id": "720766e8-e9e1-4e05-9c87-6fc5f6d16a5e",
   "metadata": {},
   "outputs": [],
   "source": [
    "with open('input01.txt') as txtfile:\n",
    "    measurements = [int(measurement.strip()) for measurement in txtfile.readlines()]\n",
    "    three_measurements = [sum(measurements[i:i+3]) for i in range(len(measurements)-2)]"
   ]
  },
  {
   "cell_type": "code",
   "execution_count": 2,
   "id": "edfd3b36-2b5f-43e7-9238-58113ec776c9",
   "metadata": {},
   "outputs": [],
   "source": [
    "def number_of_increases(measurements):\n",
    "    return sum(measurements[i-1] < measurements[i] for i in range(1, len(measurements)))"
   ]
  },
  {
   "cell_type": "markdown",
   "id": "2b2a9d9c-5330-4e27-b9bf-9fcf98dcc728",
   "metadata": {},
   "source": [
    "Part 01"
   ]
  },
  {
   "cell_type": "code",
   "execution_count": 3,
   "id": "4b9e3aa4-1269-4f1b-bb43-5a896bdd6d8a",
   "metadata": {},
   "outputs": [
    {
     "data": {
      "text/plain": [
       "1754"
      ]
     },
     "execution_count": 3,
     "metadata": {},
     "output_type": "execute_result"
    }
   ],
   "source": [
    "answer = number_of_increases(measurements)\n",
    "answer"
   ]
  },
  {
   "cell_type": "markdown",
   "id": "8526f49b-4ed4-46fc-b946-c1d65ad4a5e9",
   "metadata": {},
   "source": [
    "Part 02"
   ]
  },
  {
   "cell_type": "code",
   "execution_count": 4,
   "id": "2146b06a-f93e-4834-a8e7-4e0f1d109a05",
   "metadata": {},
   "outputs": [
    {
     "data": {
      "text/plain": [
       "1789"
      ]
     },
     "execution_count": 4,
     "metadata": {},
     "output_type": "execute_result"
    }
   ],
   "source": [
    "answer = number_of_increases(three_measurements)\n",
    "answer"
   ]
  }
 ],
 "metadata": {
  "kernelspec": {
   "display_name": "Python 3 (ipykernel)",
   "language": "python",
   "name": "python3"
  },
  "language_info": {
   "codemirror_mode": {
    "name": "ipython",
    "version": 3
   },
   "file_extension": ".py",
   "mimetype": "text/x-python",
   "name": "python",
   "nbconvert_exporter": "python",
   "pygments_lexer": "ipython3",
   "version": "3.8.12"
  }
 },
 "nbformat": 4,
 "nbformat_minor": 5
}
