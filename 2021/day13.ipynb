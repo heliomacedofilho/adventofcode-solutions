{
 "cells": [
  {
   "cell_type": "code",
   "execution_count": 1,
   "id": "14aeea88-380d-4751-99a3-282db414b4d7",
   "metadata": {},
   "outputs": [],
   "source": [
    "import re\n",
    "with open('input13.txt') as txtfile:\n",
    "    lines = txtfile.readlines()\n",
    "    dots = set([tuple([int(d) for d in re.findall('(\\d+)', line.strip())[::-1]]) for line in lines if ',' in line])\n",
    "    folds = [line.strip()[11:].split('=') for line in lines if 'fold' in line]\n",
    "    for fold in folds: fold[1] = int(fold[1])"
   ]
  },
  {
   "cell_type": "code",
   "execution_count": 2,
   "id": "c674e6be-a441-4783-aacf-785cc2d504b2",
   "metadata": {},
   "outputs": [],
   "source": [
    "def fold(dots, folds):\n",
    "    for fold in folds:\n",
    "        idx = 0 if fold[0] == 'y' else 1\n",
    "        dots_to_project = set()\n",
    "        for dot in dots.copy():\n",
    "            if dot[idx] > fold[1]:\n",
    "                dots.remove(dot)\n",
    "                dots_to_project.add(dot)\n",
    "\n",
    "        for dot in dots_to_project:\n",
    "            new_dot = (2*fold[1] - dot[idx], dot[1-idx])\n",
    "            dots.add(new_dot if idx == 0 else new_dot[::-1])\n",
    "    return dots"
   ]
  },
  {
   "cell_type": "code",
   "execution_count": 3,
   "id": "998f3c7f-70d5-433c-9953-93e33fda83c9",
   "metadata": {},
   "outputs": [],
   "source": [
    "def draw_folded_paper(dots, folds):\n",
    "    final_dots = fold(dots, folds)\n",
    "    y_max, x_max = max(final_dot[0] for final_dot in final_dots), max(final_dot[1] for final_dot in final_dots)\n",
    "    matrix = [['#' if (i,j) in final_dots else ' ' for j in range(x_max+1)] for i in range(y_max+1)]\n",
    "    for row in matrix: print(''.join(row))"
   ]
  },
  {
   "cell_type": "markdown",
   "id": "efe0b083-4793-4998-824f-71ab076f422e",
   "metadata": {},
   "source": [
    "Part 01"
   ]
  },
  {
   "cell_type": "code",
   "execution_count": 4,
   "id": "b36a38d9-8ccb-4ee0-a62a-94d71ecc3ab5",
   "metadata": {},
   "outputs": [
    {
     "data": {
      "text/plain": [
       "706"
      ]
     },
     "execution_count": 4,
     "metadata": {},
     "output_type": "execute_result"
    }
   ],
   "source": [
    "len(fold(dots, [folds[0]]))"
   ]
  },
  {
   "cell_type": "markdown",
   "id": "4f8a2027-8e66-4fa2-9fb7-e56ad72e46ce",
   "metadata": {},
   "source": [
    "Part 02"
   ]
  },
  {
   "cell_type": "code",
   "execution_count": 5,
   "id": "8cc0e0eb-5a6e-4d33-a508-361deb8c3de6",
   "metadata": {},
   "outputs": [
    {
     "name": "stdout",
     "output_type": "stream",
     "text": [
      "#    ###  ####   ## ###    ## #### #  #\n",
      "#    #  # #       # #  #    # #    #  #\n",
      "#    #  # ###     # ###     # ###  ####\n",
      "#    ###  #       # #  #    # #    #  #\n",
      "#    # #  #    #  # #  # #  # #    #  #\n",
      "#### #  # #     ##  ###   ##  #### #  #\n"
     ]
    }
   ],
   "source": [
    "draw_folded_paper(dots, folds)"
   ]
  }
 ],
 "metadata": {
  "kernelspec": {
   "display_name": "Python 3 (ipykernel)",
   "language": "python",
   "name": "python3"
  },
  "language_info": {
   "codemirror_mode": {
    "name": "ipython",
    "version": 3
   },
   "file_extension": ".py",
   "mimetype": "text/x-python",
   "name": "python",
   "nbconvert_exporter": "python",
   "pygments_lexer": "ipython3",
   "version": "3.8.12"
  }
 },
 "nbformat": 4,
 "nbformat_minor": 5
}
