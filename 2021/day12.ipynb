{
 "cells": [
  {
   "cell_type": "code",
   "execution_count": 1,
   "id": "262ae3e1-c0bd-4561-8e39-d1c19496e8f3",
   "metadata": {},
   "outputs": [],
   "source": [
    "import re\n",
    "with open('input12.txt') as txtfile:\n",
    "    tunnels = [re.findall('(\\w+)', line) for line in txtfile.readlines()]"
   ]
  },
  {
   "cell_type": "code",
   "execution_count": 2,
   "id": "a08e6f2c-b768-4894-be63-b57848db8db5",
   "metadata": {},
   "outputs": [],
   "source": [
    "from collections import defaultdict\n",
    "\n",
    "def adjacency_list(tunnels):\n",
    "    adjacency_list = defaultdict(list)\n",
    "    for origin, destination in tunnels:\n",
    "        adjacency_list[origin].append(destination)\n",
    "        adjacency_list[destination].append(origin)\n",
    "    return adjacency_list"
   ]
  },
  {
   "cell_type": "code",
   "execution_count": 3,
   "id": "4da7fe7e-cbce-48d9-bc0d-ffc32a320640",
   "metadata": {},
   "outputs": [],
   "source": [
    "def paths(adjacency_list, relaxed_version = False):\n",
    "    paths = []\n",
    "    queue = [(['start'], set(['start']), False)]\n",
    "\n",
    "    while (queue):\n",
    "        path, small_caves_visited, visited_a_small_case_twice = queue.pop()\n",
    "\n",
    "        current_cave = path[-1]\n",
    "        if current_cave == 'end': \n",
    "            paths.append(path)\n",
    "            continue\n",
    "\n",
    "        for next_cave in adjacency_list[current_cave]:\n",
    "            if next_cave in small_caves_visited and \\\n",
    "                (not relaxed_version or (next_cave == 'start' or visited_a_small_case_twice)):\n",
    "                continue\n",
    "            else:\n",
    "                next_small_cases_visited = small_caves_visited.copy()\n",
    "                if next_cave.isupper():\n",
    "                    queue.append((path[:] + [next_cave], \\\n",
    "                                  next_small_cases_visited, \\\n",
    "                                  visited_a_small_case_twice))\n",
    "                else:\n",
    "                    if next_cave in next_small_cases_visited:\n",
    "                        queue.append((path[:] + [next_cave], \\\n",
    "                                      next_small_cases_visited, \\\n",
    "                                      True))\n",
    "                    else:\n",
    "                        next_small_cases_visited.add(next_cave)\n",
    "                        queue.append((path[:] + [next_cave], \\\n",
    "                                      next_small_cases_visited, \\\n",
    "                                      visited_a_small_case_twice))\n",
    "    return paths"
   ]
  },
  {
   "cell_type": "markdown",
   "id": "c2b04aba-de49-4768-ba50-4fe63dbe0cb3",
   "metadata": {},
   "source": [
    "Part 01"
   ]
  },
  {
   "cell_type": "code",
   "execution_count": 4,
   "id": "f0c0bc2b-4e14-4bf9-b2e3-fd5d6a0d25b0",
   "metadata": {},
   "outputs": [
    {
     "data": {
      "text/plain": [
       "5178"
      ]
     },
     "execution_count": 4,
     "metadata": {},
     "output_type": "execute_result"
    }
   ],
   "source": [
    "len(paths(adjacency_list(tunnels), False))"
   ]
  },
  {
   "cell_type": "markdown",
   "id": "87b8ab32-2f38-4e62-8bfc-fcf65398d776",
   "metadata": {},
   "source": [
    "Part 02"
   ]
  },
  {
   "cell_type": "code",
   "execution_count": 5,
   "id": "78b37e75-80db-4389-94a2-f8864604770f",
   "metadata": {},
   "outputs": [
    {
     "data": {
      "text/plain": [
       "130094"
      ]
     },
     "execution_count": 5,
     "metadata": {},
     "output_type": "execute_result"
    }
   ],
   "source": [
    "len(paths(adjacency_list(tunnels), True))"
   ]
  }
 ],
 "metadata": {
  "kernelspec": {
   "display_name": "Python 3 (ipykernel)",
   "language": "python",
   "name": "python3"
  },
  "language_info": {
   "codemirror_mode": {
    "name": "ipython",
    "version": 3
   },
   "file_extension": ".py",
   "mimetype": "text/x-python",
   "name": "python",
   "nbconvert_exporter": "python",
   "pygments_lexer": "ipython3",
   "version": "3.8.12"
  }
 },
 "nbformat": 4,
 "nbformat_minor": 5
}
