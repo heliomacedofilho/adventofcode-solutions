{
 "cells": [
  {
   "cell_type": "code",
   "execution_count": 1,
   "id": "e785df0d-199f-4cea-bd99-bc6bbbf525d8",
   "metadata": {},
   "outputs": [],
   "source": [
    "import re\n",
    "with open('input17.txt') as txtfile:\n",
    "    target_area = [int(coordinate) for coordinate in re.findall('(-?\\d+)', txtfile.readline())]\n",
    "    x_interval, y_interval = [target_area[0], target_area[1]+1], [target_area[2], target_area[3]+1]"
   ]
  },
  {
   "cell_type": "code",
   "execution_count": 2,
   "id": "21bec1a6-f97a-4778-b8ca-ad7460717ea2",
   "metadata": {},
   "outputs": [],
   "source": [
    "def x_position(x_velocity, time=1):\n",
    "    if x_velocity < time-1:\n",
    "        return (x_velocity**2 + x_velocity)/2\n",
    "    else:\n",
    "        return ((2*x_velocity - (time - 1))*time)/2"
   ]
  },
  {
   "cell_type": "code",
   "execution_count": 3,
   "id": "46c339e5-81e0-45b5-98e3-809e08650c5d",
   "metadata": {},
   "outputs": [],
   "source": [
    "def y_highest_position(y_velocity, time=1):\n",
    "    return x_position(y_velocity, time)"
   ]
  },
  {
   "cell_type": "code",
   "execution_count": 4,
   "id": "a3cf7e09-2d42-48d8-a05a-4de69b74e1c2",
   "metadata": {},
   "outputs": [],
   "source": [
    "def y_position(y_velocity, time=1):\n",
    "    return ((2*y_velocity - (time - 1))*time)/2    "
   ]
  },
  {
   "cell_type": "code",
   "execution_count": 5,
   "id": "f0119df9-0f66-45a5-9d69-ccb7602a08c6",
   "metadata": {},
   "outputs": [],
   "source": [
    "def narrow_range(interval, time):\n",
    "    f = lambda x: round(x/time + (time-1)/2)\n",
    "    return f(interval[0]), f(interval[1])+1"
   ]
  },
  {
   "cell_type": "code",
   "execution_count": 6,
   "id": "0f98f2d4-170b-46f8-92ee-8ca42a3ea74b",
   "metadata": {},
   "outputs": [],
   "source": [
    "def possible_velocities(y_interval, x_interval):\n",
    "    distinct_initial_velocities = set()\n",
    "\n",
    "    for time in range(2*abs(y_interval[0])+1, 0, -1):\n",
    "        y_range_limits = narrow_range(y_interval, time)\n",
    "        for y_velocity in range(y_range_limits[0], y_range_limits[1]):\n",
    "            x_range_limits = narrow_range(x_interval, time)\n",
    "            for x_velocity in range(round(x_interval[0]**0.5), x_range_limits[1]):\n",
    "                if x_position(x_velocity, time) in range(x_interval[0], x_interval[1]) and y_position(y_velocity, time) in range(y_interval[0], y_interval[1]):\n",
    "                    distinct_initial_velocities.add((y_velocity, x_velocity))\n",
    "\n",
    "    return distinct_initial_velocities"
   ]
  },
  {
   "cell_type": "code",
   "execution_count": 7,
   "id": "75498a17-b621-460e-8a0f-95735bb51a33",
   "metadata": {},
   "outputs": [],
   "source": [
    "distinct_initial_velocities = possible_velocities(y_interval, x_interval)"
   ]
  },
  {
   "cell_type": "markdown",
   "id": "f74b7c63-61b4-48e7-bb01-c479cf7751ce",
   "metadata": {},
   "source": [
    "Part 01"
   ]
  },
  {
   "cell_type": "code",
   "execution_count": 8,
   "id": "293555de-e1fa-4900-8c94-8f1812df3a8c",
   "metadata": {},
   "outputs": [
    {
     "data": {
      "text/plain": [
       "45.0"
      ]
     },
     "execution_count": 8,
     "metadata": {},
     "output_type": "execute_result"
    }
   ],
   "source": [
    "max_y_position = max(y_highest_position(distinct_initial_velocity[0], 2*abs(y_interval[0])+1) \\\n",
    "                     for distinct_initial_velocity in distinct_initial_velocities)\n",
    "max_y_position"
   ]
  },
  {
   "cell_type": "markdown",
   "id": "ce236788-58a2-4a2c-98bd-1a61082c49ca",
   "metadata": {},
   "source": [
    "Part 02"
   ]
  },
  {
   "cell_type": "code",
   "execution_count": 9,
   "id": "6e811102-b094-4719-ad1b-b80323609d38",
   "metadata": {},
   "outputs": [
    {
     "data": {
      "text/plain": [
       "112"
      ]
     },
     "execution_count": 9,
     "metadata": {},
     "output_type": "execute_result"
    }
   ],
   "source": [
    "len(distinct_initial_velocities)"
   ]
  }
 ],
 "metadata": {
  "kernelspec": {
   "display_name": "Python 3 (ipykernel)",
   "language": "python",
   "name": "python3"
  },
  "language_info": {
   "codemirror_mode": {
    "name": "ipython",
    "version": 3
   },
   "file_extension": ".py",
   "mimetype": "text/x-python",
   "name": "python",
   "nbconvert_exporter": "python",
   "pygments_lexer": "ipython3",
   "version": "3.8.12"
  }
 },
 "nbformat": 4,
 "nbformat_minor": 5
}
