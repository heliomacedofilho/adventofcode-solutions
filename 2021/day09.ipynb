{
 "cells": [
  {
   "cell_type": "code",
   "execution_count": 1,
   "id": "a33d6630-2dbe-4ee4-b56b-bcf9392cab40",
   "metadata": {},
   "outputs": [],
   "source": [
    "with open('input09.txt') as txtfile:\n",
    "    matrix = [[int(c) for c in line.strip()] for line in txtfile.readlines()]"
   ]
  },
  {
   "cell_type": "code",
   "execution_count": 2,
   "id": "9b33345b-5a50-4696-944d-ab1ee1fe846a",
   "metadata": {},
   "outputs": [],
   "source": [
    "def risk_levels_low_points(matrix):\n",
    "    answer = 0\n",
    "    for i in range(len(matrix)):\n",
    "        for j in range(len(matrix[i])):\n",
    "            adjacent_points = []\n",
    "            if i > 0: adjacent_points.append(matrix[i-1][j])\n",
    "            if j > 0: adjacent_points.append(matrix[i][j-1])\n",
    "            if i < len(matrix) - 1: adjacent_points.append(matrix[i+1][j])\n",
    "            if j < len(matrix[i]) - 1: adjacent_points.append(matrix[i][j+1])\n",
    "            if all(matrix[i][j] < adjacent_point for adjacent_point in adjacent_points):\n",
    "                answer += (1+matrix[i][j])\n",
    "    return answer"
   ]
  },
  {
   "cell_type": "code",
   "execution_count": 3,
   "id": "4687e447-3fd0-4206-8ca1-e9da0dd67b9d",
   "metadata": {},
   "outputs": [],
   "source": [
    "def basin_size(matrix, point):\n",
    "    queue = set()\n",
    "    queue.add(point)\n",
    "    basin_size = 0\n",
    "    while (queue):\n",
    "        (i, j) = queue.pop()\n",
    "        basin_size += 1\n",
    "        if i > 0 and matrix[i-1][j] != 9: queue.add((i-1,j))\n",
    "        if j > 0 and matrix[i][j-1] != 9: queue.add((i,j-1))\n",
    "        if i < len(matrix) - 1 and matrix[i+1][j] != 9: queue.add((i+1,j))\n",
    "        if j < len(matrix[i]) - 1 and matrix[i][j+1] != 9: queue.add((i,j+1))\n",
    "        matrix[i][j] = 9\n",
    "    return basin_size"
   ]
  },
  {
   "cell_type": "code",
   "execution_count": 4,
   "id": "c06738c1-a871-458e-a990-62e3125a7f59",
   "metadata": {},
   "outputs": [],
   "source": [
    "def basin_sizes(matrix):\n",
    "    basin_sizes = []\n",
    "    for i in range(len(matrix)):\n",
    "        for j in range(len(matrix[i])):\n",
    "            if matrix[i][j] != 9:\n",
    "                basin_sizes.append(basin_size(matrix, (i, j)))\n",
    "    return basin_sizes"
   ]
  },
  {
   "cell_type": "markdown",
   "id": "a151d111-0e90-4433-95f6-a75862af7d11",
   "metadata": {},
   "source": [
    "Part 01"
   ]
  },
  {
   "cell_type": "code",
   "execution_count": 5,
   "id": "31625fe5-575b-4c2b-beea-353b753c4916",
   "metadata": {},
   "outputs": [
    {
     "data": {
      "text/plain": [
       "631"
      ]
     },
     "execution_count": 5,
     "metadata": {},
     "output_type": "execute_result"
    }
   ],
   "source": [
    "risk_levels_low_points(matrix)"
   ]
  },
  {
   "cell_type": "markdown",
   "id": "4c72ec6c-5c2c-4361-9df5-1857af06c732",
   "metadata": {},
   "source": [
    "Part 02"
   ]
  },
  {
   "cell_type": "code",
   "execution_count": 6,
   "id": "05d9e390-9e6a-453c-b961-b0b31a28a052",
   "metadata": {},
   "outputs": [
    {
     "data": {
      "text/plain": [
       "821560"
      ]
     },
     "execution_count": 6,
     "metadata": {},
     "output_type": "execute_result"
    }
   ],
   "source": [
    "three_largest_basins = sorted(basin_sizes(matrix), reverse=True)[:3]\n",
    "answer = three_largest_basins[0]*three_largest_basins[1]*three_largest_basins[2]\n",
    "answer"
   ]
  }
 ],
 "metadata": {
  "kernelspec": {
   "display_name": "Python 3 (ipykernel)",
   "language": "python",
   "name": "python3"
  },
  "language_info": {
   "codemirror_mode": {
    "name": "ipython",
    "version": 3
   },
   "file_extension": ".py",
   "mimetype": "text/x-python",
   "name": "python",
   "nbconvert_exporter": "python",
   "pygments_lexer": "ipython3",
   "version": "3.8.12"
  }
 },
 "nbformat": 4,
 "nbformat_minor": 5
}
