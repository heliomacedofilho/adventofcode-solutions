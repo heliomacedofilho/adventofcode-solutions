{
 "cells": [
  {
   "cell_type": "code",
   "execution_count": 1,
   "id": "8151fa1c-d7a1-4d2d-8421-9162ac9c4fcf",
   "metadata": {},
   "outputs": [],
   "source": [
    "def bit_frequency(binary_array, column):\n",
    "    bit_column_frequency = {0b0: 0, 0b1:0}\n",
    "    for i in range(len(binary_array)): bit_column_frequency[binary_array[i][column]]+=1\n",
    "    return bit_column_frequency"
   ]
  },
  {
   "cell_type": "code",
   "execution_count": 2,
   "id": "fcb88c9a-9fc5-4091-8f79-ff1c2260b318",
   "metadata": {},
   "outputs": [],
   "source": [
    "with open('input03.txt') as txtfile:\n",
    "    binary_array = [[0b0 if c == '0' else 0b1 for c in line.strip()] for line in txtfile.readlines()]\n",
    "    bit_frequency_list = [bit_frequency(binary_array, j) for j in range(len(binary_array[0]))]"
   ]
  },
  {
   "cell_type": "code",
   "execution_count": 3,
   "id": "59ddba53-0f1d-482d-8c7a-6a4856f43877",
   "metadata": {},
   "outputs": [],
   "source": [
    "def convert_to_binary(bit_list):\n",
    "    rate = 0b0\n",
    "    for bit in bit_list:\n",
    "        rate = (rate << 1) | bit\n",
    "    return rate    "
   ]
  },
  {
   "cell_type": "code",
   "execution_count": 4,
   "id": "8f887e9c-a9ef-42ec-80ac-85b73d956750",
   "metadata": {},
   "outputs": [],
   "source": [
    "def power_consumption(bit_frequency_list):\n",
    "    least_common_bit_list = [sorted(bit_column_frequency, key=lambda x: bit_column_frequency[x])[0] for bit_column_frequency in bit_frequency_list]\n",
    "    most_common_bit_list = [sorted(bit_column_frequency, key=lambda x: bit_column_frequency[x])[1] for bit_column_frequency in bit_frequency_list]\n",
    "        \n",
    "    epsilon_rate = convert_to_binary(least_common_bit_list)\n",
    "    gamma_rate = convert_to_binary(most_common_bit_list)\n",
    "        \n",
    "    return gamma_rate*epsilon_rate"
   ]
  },
  {
   "cell_type": "markdown",
   "id": "cf033025-7cbc-4f50-b3d3-5502e1325911",
   "metadata": {},
   "source": [
    "Part 01"
   ]
  },
  {
   "cell_type": "code",
   "execution_count": 5,
   "id": "c74cdc1c-5df7-49c4-a1a7-6a2167bfa095",
   "metadata": {},
   "outputs": [
    {
     "data": {
      "text/plain": [
       "3847100"
      ]
     },
     "execution_count": 5,
     "metadata": {},
     "output_type": "execute_result"
    }
   ],
   "source": [
    "answer = power_consumption(bit_frequency_list)\n",
    "answer"
   ]
  },
  {
   "cell_type": "markdown",
   "id": "1d050c2c-b1ee-4164-99b2-422ccb38b8e6",
   "metadata": {},
   "source": [
    "Part 02"
   ]
  },
  {
   "cell_type": "code",
   "execution_count": 6,
   "id": "0288a910-51f2-43e8-8f15-899cd52125d0",
   "metadata": {},
   "outputs": [],
   "source": [
    "def life_support_rating(binary_array):\n",
    "    def life_support_rating_helper(binary_array, most_common = True):\n",
    "        current_binary_array = binary_array[:]\n",
    "        for j in range(len(current_binary_array[0])):\n",
    "            bit_column_frequency = bit_frequency(current_binary_array, j)\n",
    "            least_common_bit, most_common_bit = sorted(bit_column_frequency, key=lambda x: bit_column_frequency[x])\n",
    "            common_bit = most_common_bit if most_common else least_common_bit\n",
    "            #tie-breaking criteria\n",
    "            if bit_column_frequency[least_common_bit] == bit_column_frequency[most_common_bit]: common_bit = 0b1 if most_common else 0b0\n",
    "            current_binary_array = [binary_number for binary_number in current_binary_array if binary_number[j] == common_bit]\n",
    "            if len(current_binary_array) == 1: return(current_binary_array)\n",
    "\n",
    "    oxygen_generator_rating = convert_to_binary(life_support_rating_helper(binary_array, True)[0])\n",
    "    CO2_scrubber_rating = convert_to_binary(life_support_rating_helper(binary_array, False)[0])\n",
    "            \n",
    "    return oxygen_generator_rating * CO2_scrubber_rating"
   ]
  },
  {
   "cell_type": "code",
   "execution_count": 7,
   "id": "d79e86c2-ade8-4f0e-baef-73bdab1e8122",
   "metadata": {},
   "outputs": [
    {
     "data": {
      "text/plain": [
       "4105235"
      ]
     },
     "execution_count": 7,
     "metadata": {},
     "output_type": "execute_result"
    }
   ],
   "source": [
    "answer = life_support_rating(binary_array)\n",
    "answer"
   ]
  }
 ],
 "metadata": {
  "kernelspec": {
   "display_name": "Python 3 (ipykernel)",
   "language": "python",
   "name": "python3"
  },
  "language_info": {
   "codemirror_mode": {
    "name": "ipython",
    "version": 3
   },
   "file_extension": ".py",
   "mimetype": "text/x-python",
   "name": "python",
   "nbconvert_exporter": "python",
   "pygments_lexer": "ipython3",
   "version": "3.8.12"
  }
 },
 "nbformat": 4,
 "nbformat_minor": 5
}
