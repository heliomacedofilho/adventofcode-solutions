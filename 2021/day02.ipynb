{
 "cells": [
  {
   "cell_type": "code",
   "execution_count": 1,
   "id": "95e9a3fc-a821-4558-8320-9536b0a2f24a",
   "metadata": {},
   "outputs": [],
   "source": [
    "import re\n",
    "with open('input02.txt') as txtfile:\n",
    "    commands = [re.findall('(\\w+)\\s(\\d+)', line.strip())[0] for line in txtfile.readlines()]"
   ]
  },
  {
   "cell_type": "code",
   "execution_count": 2,
   "id": "ab79cb87-b0a6-473e-99bc-2c02c2f64ee9",
   "metadata": {},
   "outputs": [],
   "source": [
    "def position(commands):\n",
    "    horizontal, vertical = 0, 0\n",
    "    for direction, unit in commands:\n",
    "        if direction == 'forward':\n",
    "            horizontal += int(unit)\n",
    "        else:\n",
    "            vertical += int(unit)*(1 if direction == 'down' else -1)\n",
    "    return horizontal, vertical"
   ]
  },
  {
   "cell_type": "markdown",
   "id": "f56cef72-e555-4518-b947-735edfad034a",
   "metadata": {},
   "source": [
    "Part 01"
   ]
  },
  {
   "cell_type": "code",
   "execution_count": 3,
   "id": "275efa83-905c-4c57-8517-f5f0efa5e566",
   "metadata": {},
   "outputs": [
    {
     "data": {
      "text/plain": [
       "1868935"
      ]
     },
     "execution_count": 3,
     "metadata": {},
     "output_type": "execute_result"
    }
   ],
   "source": [
    "horizontal, vertical = position(commands)\n",
    "answer = horizontal*vertical\n",
    "answer"
   ]
  },
  {
   "cell_type": "code",
   "execution_count": 4,
   "id": "a6fb510d-829e-401c-b3c3-9f1a95fa9874",
   "metadata": {},
   "outputs": [],
   "source": [
    "#1868935"
   ]
  },
  {
   "cell_type": "markdown",
   "id": "c2e7c01f-2e97-4753-bc26-c3b8440d81be",
   "metadata": {},
   "source": [
    "Part 02"
   ]
  },
  {
   "cell_type": "code",
   "execution_count": 5,
   "id": "b3674741-ddfa-411d-96e5-94d31ee257d2",
   "metadata": {},
   "outputs": [],
   "source": [
    "def position_and_aim(commands):\n",
    "    horizontal, vertical, aim = 0, 0, 0\n",
    "    for direction, unit in commands:\n",
    "        if direction == 'forward':\n",
    "            horizontal += int(unit)\n",
    "            vertical += aim*int(unit)\n",
    "        else:\n",
    "            aim += int(unit)*(1 if direction == 'down' else -1)\n",
    "    return horizontal, vertical"
   ]
  },
  {
   "cell_type": "code",
   "execution_count": 6,
   "id": "10eedf30-724a-47cb-8fa5-b6cbb4abf9c1",
   "metadata": {},
   "outputs": [
    {
     "data": {
      "text/plain": [
       "1965970888"
      ]
     },
     "execution_count": 6,
     "metadata": {},
     "output_type": "execute_result"
    }
   ],
   "source": [
    "horizontal, vertical = position_and_aim(commands)\n",
    "answer = horizontal*vertical\n",
    "answer"
   ]
  }
 ],
 "metadata": {
  "kernelspec": {
   "display_name": "Python 3 (ipykernel)",
   "language": "python",
   "name": "python3"
  },
  "language_info": {
   "codemirror_mode": {
    "name": "ipython",
    "version": 3
   },
   "file_extension": ".py",
   "mimetype": "text/x-python",
   "name": "python",
   "nbconvert_exporter": "python",
   "pygments_lexer": "ipython3",
   "version": "3.8.12"
  }
 },
 "nbformat": 4,
 "nbformat_minor": 5
}
