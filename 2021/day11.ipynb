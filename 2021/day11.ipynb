{
 "cells": [
  {
   "cell_type": "code",
   "execution_count": 1,
   "id": "d76375c3-6542-4d60-9b12-296bb09a3ea0",
   "metadata": {},
   "outputs": [],
   "source": [
    "with open('input11.txt') as txtfile:\n",
    "    matrix = [[int(c) for c in line.strip()] for line in txtfile.readlines()]"
   ]
  },
  {
   "cell_type": "code",
   "execution_count": 2,
   "id": "1e0b2557-bcf6-4444-a29e-031e648bfc75",
   "metadata": {},
   "outputs": [],
   "source": [
    "from collections import deque\n",
    "\n",
    "def octopus_positions_indexed(matrix):\n",
    "    energy_levels = deque([set() for _ in range(10)])\n",
    "    for i in range(len(matrix)):\n",
    "        for j in range(len(matrix[i])):\n",
    "            energy_levels[matrix[i][j]].add((i,j))\n",
    "    return energy_levels\n",
    "\n",
    "def one_epoch(energy_levels):\n",
    "    energy_levels.appendleft(set())\n",
    "    next_level_0 = energy_levels.pop()\n",
    "    level_10 = list(next_level_0)\n",
    "\n",
    "    while (level_10):\n",
    "        (i, j) = level_10.pop()\n",
    "\n",
    "        adjacent_positions = [(i_prime, j_prime) \\\n",
    "                              for i_prime in range(i-1, i+2) \\\n",
    "                              for j_prime in range(j-1, j+2) \\\n",
    "                              if (i, j) != (i_prime, j_prime) and \\\n",
    "                                  i_prime > -1 and j_prime > -1 and \\\n",
    "                                  i_prime < len(matrix) and j_prime < len(matrix[i])]\n",
    "\n",
    "        for adjacent_position in adjacent_positions:\n",
    "            for energy_level, position_set in enumerate(energy_levels):\n",
    "                if adjacent_position in position_set:\n",
    "                    position_set.remove(adjacent_position)\n",
    "                    if energy_level == 9: \n",
    "                        level_10.append(adjacent_position)\n",
    "                        next_level_0.add(adjacent_position)\n",
    "                    else: \n",
    "                        energy_levels[energy_level+1].add(adjacent_position)\n",
    "                    break\n",
    "\n",
    "    energy_levels[0] = next_level_0\n",
    "    return energy_levels\n",
    "\n",
    "def flashes(matrix, n_epochs = 1):\n",
    "    energy_levels = octopus_positions_indexed(matrix)\n",
    "    \n",
    "    flashes = 0\n",
    "    for _ in range(n_epochs):\n",
    "        energy_levels = one_epoch(energy_levels)\n",
    "        flashes += len(energy_levels[0])\n",
    "    return flashes\n",
    "\n",
    "def first_epoch_flashes_all(matrix):\n",
    "    energy_levels = octopus_positions_indexed(matrix)\n",
    "    \n",
    "    i = 0\n",
    "    while (len(energy_levels[0]) != len(matrix)*len(matrix[0])):\n",
    "        energy_levels = one_epoch(energy_levels)\n",
    "        i+=1\n",
    "    return i"
   ]
  },
  {
   "cell_type": "markdown",
   "id": "7f073612-bf3c-497f-8013-416fb83b6c32",
   "metadata": {},
   "source": [
    "Part 01"
   ]
  },
  {
   "cell_type": "code",
   "execution_count": 3,
   "id": "f512ffc8-4fc4-47a1-8b0a-e992a5030c77",
   "metadata": {},
   "outputs": [
    {
     "data": {
      "text/plain": [
       "1755"
      ]
     },
     "execution_count": 3,
     "metadata": {},
     "output_type": "execute_result"
    }
   ],
   "source": [
    "flashes(matrix, 100)"
   ]
  },
  {
   "cell_type": "markdown",
   "id": "0a17039c-03cc-4668-8a03-b2a82dabe4bc",
   "metadata": {},
   "source": [
    "Part 02"
   ]
  },
  {
   "cell_type": "code",
   "execution_count": 4,
   "id": "453ef6cd-1487-4866-a4c9-6058cd9447ba",
   "metadata": {},
   "outputs": [
    {
     "data": {
      "text/plain": [
       "212"
      ]
     },
     "execution_count": 4,
     "metadata": {},
     "output_type": "execute_result"
    }
   ],
   "source": [
    "first_epoch_flashes_all(matrix)"
   ]
  }
 ],
 "metadata": {
  "kernelspec": {
   "display_name": "Python 3 (ipykernel)",
   "language": "python",
   "name": "python3"
  },
  "language_info": {
   "codemirror_mode": {
    "name": "ipython",
    "version": 3
   },
   "file_extension": ".py",
   "mimetype": "text/x-python",
   "name": "python",
   "nbconvert_exporter": "python",
   "pygments_lexer": "ipython3",
   "version": "3.8.12"
  }
 },
 "nbformat": 4,
 "nbformat_minor": 5
}
