{
 "cells": [
  {
   "cell_type": "code",
   "execution_count": 1,
   "id": "44439cbc-0797-44c0-95c1-d4d1563165a2",
   "metadata": {},
   "outputs": [],
   "source": [
    "import re\n",
    "with open('input14.txt') as txtfile:\n",
    "    polymer_template = txtfile.readline().strip()\n",
    "    insertion_rules = [re.findall('(\\w+)', line.strip()) for line in txtfile.readlines() if line.strip() != '']\n",
    "    insertion_rules = {insertion_rule[0]: insertion_rule[1] for insertion_rule in insertion_rules}"
   ]
  },
  {
   "cell_type": "code",
   "execution_count": 5,
   "id": "914e1521-4bad-46a3-8c92-cea75090bd58",
   "metadata": {},
   "outputs": [],
   "source": [
    "from collections import defaultdict\n",
    "\n",
    "def polymer(polymer_template, insertion_rules, n_epochs=1):\n",
    "    pairs = defaultdict(int)\n",
    "    for i in range(len(polymer_template)-1):\n",
    "        pairs[polymer_template[i:i+2]]+=1\n",
    "\n",
    "    for _ in range(n_epochs):\n",
    "        next_pairs = defaultdict(int)\n",
    "        for pair in pairs:\n",
    "            pair01, pair02 = pair[0] + insertion_rules[pair], insertion_rules[pair] + pair[1]\n",
    "            next_pairs[pair01] += pairs[pair]\n",
    "            next_pairs[pair02] += pairs[pair]\n",
    "        pairs = next_pairs\n",
    "            \n",
    "    return pairs"
   ]
  },
  {
   "cell_type": "code",
   "execution_count": 7,
   "id": "c7e9c2af-e031-42a5-b320-51caf2c778d6",
   "metadata": {},
   "outputs": [],
   "source": [
    "def letters_count(polymer_template, insertion_rules, n_epochs=1):\n",
    "    pairs = polymer(polymer_template, insertion_rules, n_epochs)\n",
    "    letters_count = defaultdict(int)\n",
    "    letters_count[polymer_template[0]]+=1\n",
    "    letters_count[polymer_template[-1]]+=1\n",
    "    for pair in pairs:\n",
    "        letters_count[pair[0]]+=pairs[pair]\n",
    "        letters_count[pair[1]]+=pairs[pair]\n",
    "    for letter in letters_count:\n",
    "        letters_count[letter] = letters_count[letter]//2\n",
    "    \n",
    "    return sorted(letters_count.items(), key=lambda x: x[1])"
   ]
  },
  {
   "cell_type": "markdown",
   "id": "5972c7f5-a3c7-4093-9e28-6401c6822195",
   "metadata": {},
   "source": [
    "Part 01"
   ]
  },
  {
   "cell_type": "code",
   "execution_count": 11,
   "id": "4ebb1737-25b0-4136-bc8a-974dd9be69a7",
   "metadata": {},
   "outputs": [
    {
     "data": {
      "text/plain": [
       "3259"
      ]
     },
     "execution_count": 11,
     "metadata": {},
     "output_type": "execute_result"
    }
   ],
   "source": [
    "answer = letters_count(polymer_template, insertion_rules, n_epochs=10)\n",
    "answer = answer[-1][1] - answer[0][1]\n",
    "answer"
   ]
  },
  {
   "cell_type": "markdown",
   "id": "c0fa6bb2-0422-401a-a79e-9af0104a5570",
   "metadata": {},
   "source": [
    "Part 02"
   ]
  },
  {
   "cell_type": "code",
   "execution_count": 12,
   "id": "492b9d11-4aa9-4f54-bc1e-239ad89f7ba7",
   "metadata": {},
   "outputs": [
    {
     "data": {
      "text/plain": [
       "3459174981021"
      ]
     },
     "execution_count": 12,
     "metadata": {},
     "output_type": "execute_result"
    }
   ],
   "source": [
    "answer = letters_count(polymer_template, insertion_rules, n_epochs=40)\n",
    "answer = answer[-1][1] - answer[0][1]\n",
    "answer"
   ]
  }
 ],
 "metadata": {
  "kernelspec": {
   "display_name": "Python 3 (ipykernel)",
   "language": "python",
   "name": "python3"
  },
  "language_info": {
   "codemirror_mode": {
    "name": "ipython",
    "version": 3
   },
   "file_extension": ".py",
   "mimetype": "text/x-python",
   "name": "python",
   "nbconvert_exporter": "python",
   "pygments_lexer": "ipython3",
   "version": "3.8.12"
  }
 },
 "nbformat": 4,
 "nbformat_minor": 5
}
