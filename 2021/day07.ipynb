{
 "cells": [
  {
   "cell_type": "code",
   "execution_count": 1,
   "id": "64bb7f04-089a-4619-8e88-798a4912ccfc",
   "metadata": {},
   "outputs": [],
   "source": [
    "import re\n",
    "with open('input07.txt') as txtfile:\n",
    "    positions = [int(position) for position in re.findall('(\\d+)', txtfile.readline())]"
   ]
  },
  {
   "cell_type": "code",
   "execution_count": 2,
   "id": "c6c6125e-55c5-489a-9ed2-e027ed3ba37b",
   "metadata": {},
   "outputs": [],
   "source": [
    "def mae(positions, y):\n",
    "    return sum(abs(y-position) for position in positions)"
   ]
  },
  {
   "cell_type": "code",
   "execution_count": 3,
   "id": "e0a77595-7efe-47f3-9246-e1861ad36c2c",
   "metadata": {},
   "outputs": [],
   "source": [
    "def ap_sum(a_1, a_n):\n",
    "    return ((a_1 + a_n) * (a_n - a_1 + 1))//2\n",
    "\n",
    "def weighted_mae(positions, y):\n",
    "    return sum(ap_sum(1, abs(y-position)) for position in positions)"
   ]
  },
  {
   "cell_type": "code",
   "execution_count": 4,
   "id": "87169b71-7eb0-4ed8-9d8b-57100cbaea8b",
   "metadata": {},
   "outputs": [],
   "source": [
    "#Solution 01: linear search\n",
    "def crab_engineering(positions, objective_function):\n",
    "    min_position, max_position = min(positions), max(positions)\n",
    "    min_error = objective_function(positions, min_position)\n",
    "    min_error_position = min_position\n",
    "\n",
    "    for y in range(min_position+1, max_position+1):\n",
    "        next_guess = objective_function(positions, y)\n",
    "        if next_guess < min_error:\n",
    "            min_error = next_guess\n",
    "            min_error_position = y\n",
    "\n",
    "    return min_error_position, min_error"
   ]
  },
  {
   "cell_type": "code",
   "execution_count": 5,
   "id": "678fa87c-1449-489a-a850-829e4c457fb7",
   "metadata": {},
   "outputs": [],
   "source": [
    "#Solution 02: binary search\n",
    "def crab_engineering(positions, objective_function):\n",
    "\n",
    "    def binary_search(positions, i, j, objective_function):\n",
    "        m = (i+j)//2\n",
    "        \n",
    "        guess_m_previous = objective_function(positions, m-1)\n",
    "        guess_m = objective_function(positions, m)\n",
    "        guess_m_next = objective_function(positions, m+1)\n",
    "        \n",
    "        if guess_m_previous >= guess_m <= guess_m_next:\n",
    "            return m\n",
    "        elif guess_m > guess_m_next:\n",
    "            return binary_search(positions, m, j, objective_function)\n",
    "        else:\n",
    "            return binary_search(positions, i, m, objective_function)\n",
    "\n",
    "    min_error_position = binary_search(positions, min(positions), max(positions)+1, objective_function)\n",
    "    min_error = objective_function(positions, min_error_position)\n",
    "\n",
    "    return min_error_position, min_error"
   ]
  },
  {
   "cell_type": "code",
   "execution_count": 6,
   "id": "5d7d698a-8144-46c7-a7e4-ed4c1eaca94b",
   "metadata": {},
   "outputs": [],
   "source": [
    "#Next solution could be linear regression"
   ]
  },
  {
   "cell_type": "markdown",
   "id": "ac50d9af-16ca-4ba2-9afc-e7a8c7b34407",
   "metadata": {},
   "source": [
    "Part 01"
   ]
  },
  {
   "cell_type": "code",
   "execution_count": 7,
   "id": "8e20db4f-6f56-49e6-9088-5de5bd70351a",
   "metadata": {},
   "outputs": [
    {
     "data": {
      "text/plain": [
       "(367, 356179)"
      ]
     },
     "execution_count": 7,
     "metadata": {},
     "output_type": "execute_result"
    }
   ],
   "source": [
    "crab_engineering(positions, mae)"
   ]
  },
  {
   "cell_type": "markdown",
   "id": "a1b49cc0-b330-4870-adec-71f52caa5f61",
   "metadata": {},
   "source": [
    "Part 02"
   ]
  },
  {
   "cell_type": "code",
   "execution_count": 8,
   "id": "3b4eaa95-b365-49b9-af15-e4074b26501d",
   "metadata": {},
   "outputs": [
    {
     "data": {
      "text/plain": [
       "(489, 99788435)"
      ]
     },
     "execution_count": 8,
     "metadata": {},
     "output_type": "execute_result"
    }
   ],
   "source": [
    "crab_engineering(positions, weighted_mae)"
   ]
  }
 ],
 "metadata": {
  "kernelspec": {
   "display_name": "Python 3 (ipykernel)",
   "language": "python",
   "name": "python3"
  },
  "language_info": {
   "codemirror_mode": {
    "name": "ipython",
    "version": 3
   },
   "file_extension": ".py",
   "mimetype": "text/x-python",
   "name": "python",
   "nbconvert_exporter": "python",
   "pygments_lexer": "ipython3",
   "version": "3.8.12"
  }
 },
 "nbformat": 4,
 "nbformat_minor": 5
}
