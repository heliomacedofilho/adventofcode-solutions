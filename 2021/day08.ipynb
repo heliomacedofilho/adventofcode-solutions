{
 "cells": [
  {
   "cell_type": "code",
   "execution_count": 1,
   "id": "40e5c19a-2a0d-484e-89f7-87a41750902d",
   "metadata": {},
   "outputs": [],
   "source": [
    "import re\n",
    "with open('input08.txt') as txtfile: \n",
    "    input_outputs = [line.split('|') for line in txtfile.readlines()]"
   ]
  },
  {
   "cell_type": "code",
   "execution_count": 2,
   "id": "f5a08873-a844-457e-a88b-02e77765c25d",
   "metadata": {},
   "outputs": [],
   "source": [
    "from collections import defaultdict\n",
    "\n",
    "def signal_patterns(input_signal):\n",
    "    signal_patterns_length_index = defaultdict(list)\n",
    "    for individual_signal in input_signal: \n",
    "        signal_patterns_length_index[len(individual_signal)].append(set(individual_signal))\n",
    "    return signal_patterns_length_index"
   ]
  },
  {
   "cell_type": "code",
   "execution_count": 3,
   "id": "61831da0-6ddd-47fd-be05-4102a5c85e38",
   "metadata": {},
   "outputs": [],
   "source": [
    "def wire_to_segment(signal_patterns_length_index):\n",
    "    mapping = [set()]*7\n",
    "    mapping[3] = signal_patterns_length_index[3][0] - signal_patterns_length_index[2][0]\n",
    "    mapping[0] = signal_patterns_length_index[2][0] - set.intersection(*signal_patterns_length_index[6])\n",
    "    mapping[1] = signal_patterns_length_index[2][0] - mapping[0]\n",
    "    mapping[4] = (signal_patterns_length_index[4][0] - (mapping[0] | mapping[1])) - set.intersection(*signal_patterns_length_index[5])\n",
    "    mapping[5] = signal_patterns_length_index[4][0] - (mapping[0] | mapping[1] | mapping[4])\n",
    "    mapping[2] = (signal_patterns_length_index[7][0] - set.union(*mapping)) - set.intersection(*signal_patterns_length_index[5])\n",
    "    mapping[6] = signal_patterns_length_index[7][0] - set.union(*mapping)\n",
    "    return mapping"
   ]
  },
  {
   "cell_type": "code",
   "execution_count": 4,
   "id": "5c442649-74c3-4af5-95fc-1b013ff91958",
   "metadata": {},
   "outputs": [],
   "source": [
    "#     m_3\n",
    "# m_4    m_0\n",
    "# m_4    m_0\n",
    "#    m_5 \n",
    "# m_2    m_1\n",
    "# m_2    m_1\n",
    "#    m_6 "
   ]
  },
  {
   "cell_type": "code",
   "execution_count": 5,
   "id": "d47ff575-1756-4e4b-8cb1-972c6d949f93",
   "metadata": {},
   "outputs": [],
   "source": [
    "def segment_to_number(mapping):\n",
    "    return {\n",
    "        tuple(sorted(mapping[0] | mapping[1] | mapping[2] | mapping[3] | mapping[4] | mapping[6])): '0',\n",
    "        tuple(sorted(mapping[0] | mapping[1])): '1',\n",
    "        tuple(sorted(mapping[0] | mapping[2] | mapping[3] | mapping[5] | mapping[6])): '2',\n",
    "        tuple(sorted(mapping[0] | mapping[1] | mapping[3] | mapping[5] | mapping[6])): '3',\n",
    "        tuple(sorted(mapping[0] | mapping[1] | mapping[4] | mapping[5])): '4',\n",
    "        tuple(sorted(mapping[1] | mapping[3] | mapping[4] | mapping[5] | mapping[6])): '5', \n",
    "        tuple(sorted(mapping[1] | mapping[2] | mapping[3] | mapping[4] | mapping[5] | mapping[6])): '6', \n",
    "        tuple(sorted(mapping[0] | mapping[1] | mapping[3])): '7',\n",
    "        tuple(sorted(mapping[0] | mapping[1] | mapping[2] | mapping[3] | mapping[4] | mapping[5] | mapping[6])): '8',\n",
    "        tuple(sorted(mapping[0] | mapping[1] | mapping[3] | mapping[4] | mapping[5] | mapping[6])): '9'\n",
    "    }"
   ]
  },
  {
   "cell_type": "code",
   "execution_count": 6,
   "id": "5bcf2837-eab4-4c00-adab-204e927baade",
   "metadata": {},
   "outputs": [],
   "source": [
    "def decode_output(input_signal, output_signal):\n",
    "    segment_to_number_mapping = segment_to_number(wire_to_segment(signal_patterns(input_signal)))\n",
    "    decoded_output_signal = [segment_to_number_mapping[tuple(sorted(individual_output_signal))] \\\n",
    "                             for individual_output_signal \\\n",
    "                             in output_signal]\n",
    "    return int(''.join(decoded_output_signal))"
   ]
  },
  {
   "cell_type": "code",
   "execution_count": 7,
   "id": "a2d8d1d7-0045-4116-b504-d8df089e5f1e",
   "metadata": {},
   "outputs": [],
   "source": [
    "def decode_outputs(input_outputs):\n",
    "    return [decode_output(input_signal, output_signal) \\\n",
    "            for input_signal, output_signal in \\\n",
    "            zip([re.findall('(\\w+)', io[0]) for io in input_outputs], \\\n",
    "                [re.findall('(\\w+)', io[1]) for io in input_outputs])]"
   ]
  },
  {
   "cell_type": "markdown",
   "id": "7a85f784-cd97-40f2-b88d-d285593ee5bd",
   "metadata": {},
   "source": [
    "Part 01"
   ]
  },
  {
   "cell_type": "code",
   "execution_count": 8,
   "id": "af556e12-01b5-4c89-8181-e64dd7f71be7",
   "metadata": {},
   "outputs": [],
   "source": [
    "def instances_of_special_numbers(input_outputs):\n",
    "    answer = 0\n",
    "    for decoded_output in decode_outputs(input_outputs):\n",
    "        for c in str(decoded_output):\n",
    "            if c in ['1', '4', '7', '8']:\n",
    "                answer += 1\n",
    "    return answer"
   ]
  },
  {
   "cell_type": "code",
   "execution_count": 9,
   "id": "44e88269-a637-4025-8c46-36520053f9d8",
   "metadata": {},
   "outputs": [
    {
     "data": {
      "text/plain": [
       "349"
      ]
     },
     "execution_count": 9,
     "metadata": {},
     "output_type": "execute_result"
    }
   ],
   "source": [
    "instances_of_special_numbers(input_outputs)"
   ]
  },
  {
   "cell_type": "markdown",
   "id": "a405b8de-9517-4250-880d-1907a3b81665",
   "metadata": {},
   "source": [
    "Part 02"
   ]
  }
 ],
 "metadata": {
  "kernelspec": {
   "display_name": "Python 3 (ipykernel)",
   "language": "python",
   "name": "python3"
  },
  "language_info": {
   "codemirror_mode": {
    "name": "ipython",
    "version": 3
   },
   "file_extension": ".py",
   "mimetype": "text/x-python",
   "name": "python",
   "nbconvert_exporter": "python",
   "pygments_lexer": "ipython3",
   "version": "3.8.12"
  }
 },
 "nbformat": 4,
 "nbformat_minor": 5
}
